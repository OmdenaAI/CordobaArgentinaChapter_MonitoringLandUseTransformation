{
  "nbformat": 4,
  "nbformat_minor": 0,
  "metadata": {
    "colab": {
      "provenance": [],
      "mount_file_id": "1KpwztJYsKyPsuW3XsuW0slU8dqUVuIKd",
      "authorship_tag": "ABX9TyOqOP9VVSnFCRmKpsMeMGTa",
      "include_colab_link": true
    },
    "kernelspec": {
      "name": "python3",
      "display_name": "Python 3"
    },
    "language_info": {
      "name": "python"
    }
  },
  "cells": [
    {
      "cell_type": "markdown",
      "metadata": {
        "id": "view-in-github",
        "colab_type": "text"
      },
      "source": [
        "<a href=\"https://colab.research.google.com/github/OmdenaAI/CordobaArgentinaChapter_MonitoringLandUseTransformation/blob/main/sandbox/Amine%20TEFFAL/tests_baillehache.ipynb\" target=\"_parent\"><img src=\"https://colab.research.google.com/assets/colab-badge.svg\" alt=\"Open In Colab\"/></a>"
      ]
    },
    {
      "cell_type": "code",
      "source": [
        "import sys"
      ],
      "metadata": {
        "id": "maa1wgSpZ9Dx"
      },
      "execution_count": 19,
      "outputs": []
    },
    {
      "cell_type": "code",
      "source": [
        "sys.path.append('/content/drive/MyDrive/Omdena-Altara/CordobaArgentinaChapter_MonitoringLandUseTransformation/sandbox/baillehache')"
      ],
      "metadata": {
        "id": "r7BQmg_aZiO_"
      },
      "execution_count": 20,
      "outputs": []
    },
    {
      "cell_type": "code",
      "execution_count": 21,
      "metadata": {
        "id": "UMMSxfr0Whyv"
      },
      "outputs": [],
      "source": [
        "from cordobaDataPreprocessor import *"
      ]
    },
    {
      "cell_type": "code",
      "source": [
        "# from cordobaPredictor import *"
      ],
      "metadata": {
        "id": "JODdlUXYaKVn"
      },
      "execution_count": 23,
      "outputs": []
    },
    {
      "cell_type": "code",
      "source": [
        "cordobaImage = CordobaImage('2010-01-01',LongLatBBox(32.0,10.0,20.0,50.0),\n",
        "\n",
        "        10.0,\n",
        "        5,\n",
        "        10)"
      ],
      "metadata": {
        "id": "y7y7o0fTaR6B"
      },
      "execution_count": 25,
      "outputs": []
    },
    {
      "cell_type": "code",
      "source": [
        "print(cordobaImage)"
      ],
      "metadata": {
        "colab": {
          "base_uri": "https://localhost:8080/"
        },
        "id": "_OscHkBMcaQp",
        "outputId": "f3686bf7-29e6-4ffc-882a-44661816b359"
      },
      "execution_count": 27,
      "outputs": [
        {
          "output_type": "stream",
          "name": "stdout",
          "text": [
            "acquisition date: 2010-01-01, area: lo[32.0,10.0],la[20.0,50.0], resolution: 10.0m/px, width: 5px, height: 10px\n"
          ]
        }
      ]
    },
    {
      "cell_type": "code",
      "source": [
        "cordobaImage.area()"
      ],
      "metadata": {
        "colab": {
          "base_uri": "https://localhost:8080/",
          "height": 141
        },
        "id": "H9BlWLHgcgBl",
        "outputId": "24699a46-2a46-454f-b234-192548918393"
      },
      "execution_count": 28,
      "outputs": [
        {
          "output_type": "error",
          "ename": "TypeError",
          "evalue": "'LongLatBBox' object is not callable",
          "traceback": [
            "\u001b[0;31m---------------------------------------------------------------------------\u001b[0m",
            "\u001b[0;31mTypeError\u001b[0m                                 Traceback (most recent call last)",
            "\u001b[0;32m<ipython-input-28-6334ad5f191f>\u001b[0m in \u001b[0;36m<cell line: 0>\u001b[0;34m()\u001b[0m\n\u001b[0;32m----> 1\u001b[0;31m \u001b[0mcordobaImage\u001b[0m\u001b[0;34m.\u001b[0m\u001b[0marea\u001b[0m\u001b[0;34m(\u001b[0m\u001b[0;34m)\u001b[0m\u001b[0;34m\u001b[0m\u001b[0;34m\u001b[0m\u001b[0m\n\u001b[0m",
            "\u001b[0;31mTypeError\u001b[0m: 'LongLatBBox' object is not callable"
          ]
        }
      ]
    }
  ]
}