{
 "cells": [
  {
   "cell_type": "code",
   "execution_count": 9,
   "metadata": {},
   "outputs": [
    {
     "data": {
      "text/html": [
       "\n",
       "            <style>\n",
       "                .geemap-dark {\n",
       "                    --jp-widgets-color: white;\n",
       "                    --jp-widgets-label-color: white;\n",
       "                    --jp-ui-font-color1: white;\n",
       "                    --jp-layout-color2: #454545;\n",
       "                    background-color: #383838;\n",
       "                }\n",
       "\n",
       "                .geemap-dark .jupyter-button {\n",
       "                    --jp-layout-color3: #383838;\n",
       "                }\n",
       "\n",
       "                .geemap-colab {\n",
       "                    background-color: var(--colab-primary-surface-color, white);\n",
       "                }\n",
       "\n",
       "                .geemap-colab .jupyter-button {\n",
       "                    --jp-layout-color3: var(--colab-primary-surface-color, white);\n",
       "                }\n",
       "            </style>\n",
       "            "
      ],
      "text/plain": [
       "<IPython.core.display.HTML object>"
      ]
     },
     "metadata": {},
     "output_type": "display_data"
    }
   ],
   "source": [
    "import ee\n",
    "import geemap\n",
    "import folium\n",
    "from folium import plugins"
   ]
  },
  {
   "cell_type": "code",
   "execution_count": 10,
   "metadata": {},
   "outputs": [
    {
     "data": {
      "text/html": [
       "\n",
       "            <style>\n",
       "                .geemap-dark {\n",
       "                    --jp-widgets-color: white;\n",
       "                    --jp-widgets-label-color: white;\n",
       "                    --jp-ui-font-color1: white;\n",
       "                    --jp-layout-color2: #454545;\n",
       "                    background-color: #383838;\n",
       "                }\n",
       "\n",
       "                .geemap-dark .jupyter-button {\n",
       "                    --jp-layout-color3: #383838;\n",
       "                }\n",
       "\n",
       "                .geemap-colab {\n",
       "                    background-color: var(--colab-primary-surface-color, white);\n",
       "                }\n",
       "\n",
       "                .geemap-colab .jupyter-button {\n",
       "                    --jp-layout-color3: var(--colab-primary-surface-color, white);\n",
       "                }\n",
       "            </style>\n",
       "            "
      ],
      "text/plain": [
       "<IPython.core.display.HTML object>"
      ]
     },
     "metadata": {},
     "output_type": "display_data"
    },
    {
     "data": {
      "text/plain": [
       "True"
      ]
     },
     "execution_count": 10,
     "metadata": {},
     "output_type": "execute_result"
    }
   ],
   "source": [
    "ee.Authenticate(auth_mode='colab')"
   ]
  },
  {
   "cell_type": "code",
   "execution_count": 11,
   "metadata": {},
   "outputs": [
    {
     "data": {
      "text/html": [
       "\n",
       "            <style>\n",
       "                .geemap-dark {\n",
       "                    --jp-widgets-color: white;\n",
       "                    --jp-widgets-label-color: white;\n",
       "                    --jp-ui-font-color1: white;\n",
       "                    --jp-layout-color2: #454545;\n",
       "                    background-color: #383838;\n",
       "                }\n",
       "\n",
       "                .geemap-dark .jupyter-button {\n",
       "                    --jp-layout-color3: #383838;\n",
       "                }\n",
       "\n",
       "                .geemap-colab {\n",
       "                    background-color: var(--colab-primary-surface-color, white);\n",
       "                }\n",
       "\n",
       "                .geemap-colab .jupyter-button {\n",
       "                    --jp-layout-color3: var(--colab-primary-surface-color, white);\n",
       "                }\n",
       "            </style>\n",
       "            "
      ],
      "text/plain": [
       "<IPython.core.display.HTML object>"
      ]
     },
     "metadata": {},
     "output_type": "display_data"
    }
   ],
   "source": [
    "ee.Initialize(project='ee-mujtabanaqvi29')"
   ]
  },
  {
   "cell_type": "code",
   "execution_count": 12,
   "metadata": {},
   "outputs": [
    {
     "data": {
      "text/html": [
       "\n",
       "            <style>\n",
       "                .geemap-dark {\n",
       "                    --jp-widgets-color: white;\n",
       "                    --jp-widgets-label-color: white;\n",
       "                    --jp-ui-font-color1: white;\n",
       "                    --jp-layout-color2: #454545;\n",
       "                    background-color: #383838;\n",
       "                }\n",
       "\n",
       "                .geemap-dark .jupyter-button {\n",
       "                    --jp-layout-color3: #383838;\n",
       "                }\n",
       "\n",
       "                .geemap-colab {\n",
       "                    background-color: var(--colab-primary-surface-color, white);\n",
       "                }\n",
       "\n",
       "                .geemap-colab .jupyter-button {\n",
       "                    --jp-layout-color3: var(--colab-primary-surface-color, white);\n",
       "                }\n",
       "            </style>\n",
       "            "
      ],
      "text/plain": [
       "<IPython.core.display.HTML object>"
      ]
     },
     "metadata": {},
     "output_type": "display_data"
    },
    {
     "data": {
      "application/vnd.jupyter.widget-view+json": {
       "model_id": "43526c4a057d4025abf7812b412d69e5",
       "version_major": 2,
       "version_minor": 0
      },
      "text/plain": [
       "Map(center=[0, 0], controls=(WidgetControl(options=['position', 'transparent_bg'], widget=SearchDataGUI(childr…"
      ]
     },
     "execution_count": 12,
     "metadata": {},
     "output_type": "execute_result"
    }
   ],
   "source": [
    "# Create an interactive map using geemap\n",
    "Map = geemap.Map(center=(0, 0), zoom=2)  # Initialize the map\n",
    "Map.add_basemap('SATELLITE')  # Add satellite imagery as the basemap\n",
    "\n",
    "# Add draw control for user to draw an AOI\n",
    "Map.add_draw_control()  # Allows drawing shapes like polygons, points, etc.\n",
    "\n",
    "# Display the map for the user to interact with\n",
    "Map"
   ]
  },
  {
   "cell_type": "code",
   "execution_count": 14,
   "metadata": {},
   "outputs": [
    {
     "data": {
      "text/html": [
       "\n",
       "            <style>\n",
       "                .geemap-dark {\n",
       "                    --jp-widgets-color: white;\n",
       "                    --jp-widgets-label-color: white;\n",
       "                    --jp-ui-font-color1: white;\n",
       "                    --jp-layout-color2: #454545;\n",
       "                    background-color: #383838;\n",
       "                }\n",
       "\n",
       "                .geemap-dark .jupyter-button {\n",
       "                    --jp-layout-color3: #383838;\n",
       "                }\n",
       "\n",
       "                .geemap-colab {\n",
       "                    background-color: var(--colab-primary-surface-color, white);\n",
       "                }\n",
       "\n",
       "                .geemap-colab .jupyter-button {\n",
       "                    --jp-layout-color3: var(--colab-primary-surface-color, white);\n",
       "                }\n",
       "            </style>\n",
       "            "
      ],
      "text/plain": [
       "<IPython.core.display.HTML object>"
      ]
     },
     "metadata": {},
     "output_type": "display_data"
    },
    {
     "name": "stdout",
     "output_type": "stream",
     "text": [
      "AOI defined.\n"
     ]
    }
   ],
   "source": [
    "# Get the user-drawn AOI\n",
    "drawn_feature = Map.user_roi  # Retrieve the drawn feature\n",
    "if drawn_feature is None:\n",
    "    raise ValueError(\"No AOI selected! Please draw a polygon or rectangle on the map.\")\n",
    "else:\n",
    "    AOI = ee.Geometry.Polygon(drawn_feature.getInfo()['coordinates'])  # Convert to EE Geometry\n",
    "    print(\"AOI defined.\")"
   ]
  },
  {
   "cell_type": "code",
   "execution_count": 5,
   "metadata": {},
   "outputs": [
    {
     "data": {
      "text/html": [
       "\n",
       "            <style>\n",
       "                .geemap-dark {\n",
       "                    --jp-widgets-color: white;\n",
       "                    --jp-widgets-label-color: white;\n",
       "                    --jp-ui-font-color1: white;\n",
       "                    --jp-layout-color2: #454545;\n",
       "                    background-color: #383838;\n",
       "                }\n",
       "\n",
       "                .geemap-dark .jupyter-button {\n",
       "                    --jp-layout-color3: #383838;\n",
       "                }\n",
       "\n",
       "                .geemap-colab {\n",
       "                    background-color: var(--colab-primary-surface-color, white);\n",
       "                }\n",
       "\n",
       "                .geemap-colab .jupyter-button {\n",
       "                    --jp-layout-color3: var(--colab-primary-surface-color, white);\n",
       "                }\n",
       "            </style>\n",
       "            "
      ],
      "text/plain": [
       "<IPython.core.display.HTML object>"
      ]
     },
     "metadata": {},
     "output_type": "display_data"
    },
    {
     "name": "stdout",
     "output_type": "stream",
     "text": [
      "\n",
      "Analysis Configuration:\n",
      "Start Date: 2023-01-01\n",
      "End Date: 2023-12-25\n",
      "Change Detection Interval: 6 months\n"
     ]
    }
   ],
   "source": [
    "# Input start and end dates\n",
    "start_date = input(\"Enter the start date for analysis (YYYY-MM-DD): \")\n",
    "end_date = input(\"Enter the end date for analysis (YYYY-MM-DD): \")\n",
    "\n",
    "# Input the duration for change detection\n",
    "interval_months = int(input(\"Enter the duration of change detection in months (e.g., 6): \"))\n",
    "print(f\"\\nAnalysis Configuration:\")\n",
    "print(f\"Start Date: {start_date}\")\n",
    "print(f\"End Date: {end_date}\")\n",
    "print(f\"Change Detection Interval: {interval_months} months\")"
   ]
  },
  {
   "cell_type": "code",
   "execution_count": 15,
   "metadata": {},
   "outputs": [
    {
     "data": {
      "text/html": [
       "\n",
       "            <style>\n",
       "                .geemap-dark {\n",
       "                    --jp-widgets-color: white;\n",
       "                    --jp-widgets-label-color: white;\n",
       "                    --jp-ui-font-color1: white;\n",
       "                    --jp-layout-color2: #454545;\n",
       "                    background-color: #383838;\n",
       "                }\n",
       "\n",
       "                .geemap-dark .jupyter-button {\n",
       "                    --jp-layout-color3: #383838;\n",
       "                }\n",
       "\n",
       "                .geemap-colab {\n",
       "                    background-color: var(--colab-primary-surface-color, white);\n",
       "                }\n",
       "\n",
       "                .geemap-colab .jupyter-button {\n",
       "                    --jp-layout-color3: var(--colab-primary-surface-color, white);\n",
       "                }\n",
       "            </style>\n",
       "            "
      ],
      "text/plain": [
       "<IPython.core.display.HTML object>"
      ]
     },
     "metadata": {},
     "output_type": "display_data"
    },
    {
     "name": "stdout",
     "output_type": "stream",
     "text": [
      "Mean NDVI (Forest Cover Proxy) for the first 30 days: 30.05%\n",
      "The forestation rate is sufficient for deforestation analysis.\n",
      "Sentinel-2 NDVI map for the first 30 days is displayed below:\n"
     ]
    },
    {
     "data": {
      "application/vnd.jupyter.widget-view+json": {
       "model_id": "43526c4a057d4025abf7812b412d69e5",
       "version_major": 2,
       "version_minor": 0
      },
      "text/plain": [
       "Map(bottom=2469637.0, center=[-30.40789489142412, -64.39157492230356], controls=(WidgetControl(options=['posit…"
      ]
     },
     "execution_count": 15,
     "metadata": {},
     "output_type": "execute_result"
    }
   ],
   "source": [
    "# Load Sentinel-2 ImageCollection for the first 30 days after the start date\n",
    "sentinel2_30days = ee.ImageCollection('COPERNICUS/S2_SR') \\\n",
    "    .filterDate(start_date, ee.Date(start_date).advance(30, 'day')) \\\n",
    "    .filterBounds(AOI)\n",
    "\n",
    "# Cloud masking function for Sentinel-2\n",
    "def mask_clouds(image):\n",
    "    qa = image.select('QA60')\n",
    "    cloud_bit_mask = 1 << 10  # Bit 10 represents clouds\n",
    "    cirrus_bit_mask = 1 << 11  # Bit 11 represents cirrus clouds\n",
    "    mask = qa.bitwiseAnd(cloud_bit_mask).eq(0).And(qa.bitwiseAnd(cirrus_bit_mask).eq(0))\n",
    "    return image.updateMask(mask)\n",
    "\n",
    "# Apply cloud masking and create a median composite for the first 30 days\n",
    "composite_30days = sentinel2_30days.map(mask_clouds).median().clip(AOI)\n",
    "\n",
    "# Calculate NDVI for the 30-day composite\n",
    "ndvi_30days = composite_30days.normalizedDifference(['B8', 'B4']).rename('NDVI')\n",
    "\n",
    "# Calculate mean NDVI for the AOI\n",
    "mean_ndvi_30days = ndvi_30days.reduceRegion(\n",
    "    reducer=ee.Reducer.mean(),\n",
    "    geometry=AOI,\n",
    "    scale=10,  # Sentinel-2 resolution\n",
    "    maxPixels=1e9\n",
    ").get('NDVI')\n",
    "\n",
    "# Fetch the NDVI value for Python\n",
    "mean_ndvi_value = mean_ndvi_30days.getInfo()\n",
    "\n",
    "# Print the forest cover percentage and check the 20% threshold\n",
    "if mean_ndvi_value is not None:\n",
    "    forest_percentage = mean_ndvi_value * 100\n",
    "    print(f\"Mean NDVI (Forest Cover Proxy) for the first 30 days: {forest_percentage:.2f}%\")\n",
    "\n",
    "    if forest_percentage < 20:\n",
    "        print(\"The forestation rate is less than 20%. The area is not suitable for deforestation analysis.\")\n",
    "    else:\n",
    "        print(\"The forestation rate is sufficient for deforestation analysis.\")\n",
    "else:\n",
    "    print(\"Could not compute forest cover for the selected AOI.\")\n",
    "\n",
    "# Visualize NDVI for the 30-day composite on the map\n",
    "Map.addLayer(\n",
    "    ndvi_30days,\n",
    "    {'min': 0, 'max': 1, 'palette': ['white', 'green']},  # White = low vegetation, Green = dense vegetation\n",
    "    'NDVI - First 30 Days'\n",
    ")\n",
    "\n",
    "# Add AOI boundary to the map\n",
    "Map.addLayer(AOI, {'color': 'red'}, 'AOI Boundary')\n",
    "\n",
    "# Display the map\n",
    "print(\"Sentinel-2 NDVI map for the first 30 days is displayed below:\")\n",
    "Map\n"
   ]
  },
  {
   "cell_type": "code",
   "execution_count": 16,
   "metadata": {},
   "outputs": [
    {
     "data": {
      "text/html": [
       "\n",
       "            <style>\n",
       "                .geemap-dark {\n",
       "                    --jp-widgets-color: white;\n",
       "                    --jp-widgets-label-color: white;\n",
       "                    --jp-ui-font-color1: white;\n",
       "                    --jp-layout-color2: #454545;\n",
       "                    background-color: #383838;\n",
       "                }\n",
       "\n",
       "                .geemap-dark .jupyter-button {\n",
       "                    --jp-layout-color3: #383838;\n",
       "                }\n",
       "\n",
       "                .geemap-colab {\n",
       "                    background-color: var(--colab-primary-surface-color, white);\n",
       "                }\n",
       "\n",
       "                .geemap-colab .jupyter-button {\n",
       "                    --jp-layout-color3: var(--colab-primary-surface-color, white);\n",
       "                }\n",
       "            </style>\n",
       "            "
      ],
      "text/plain": [
       "<IPython.core.display.HTML object>"
      ]
     },
     "metadata": {},
     "output_type": "display_data"
    },
    {
     "name": "stdout",
     "output_type": "stream",
     "text": [
      "Generated Time Intervals:\n",
      "('2023-01-01', '2023-06-30')\n",
      "('2023-06-30', '2023-12-25')\n",
      "Interval: 2023-01-01 to 2023-06-30 - Sentinel-2 Images Available: 72\n",
      "Interval: 2023-06-30 to 2023-12-25 - Sentinel-2 Images Available: 70\n"
     ]
    }
   ],
   "source": [
    "# Import necessary libraries\n",
    "from datetime import datetime, timedelta\n",
    "import math\n",
    "\n",
    "# Function to generate robust time intervals\n",
    "def generate_time_intervals(start_date, end_date, duration_months):\n",
    "    intervals = []\n",
    "    start_date = datetime.strptime(start_date, \"%Y-%m-%d\")\n",
    "    end_date = datetime.strptime(end_date, \"%Y-%m-%d\")\n",
    "\n",
    "    # Loop through and create intervals\n",
    "    current_date = start_date\n",
    "    while current_date < end_date:\n",
    "        next_date = current_date + timedelta(days=duration_months * 30)  # Approximate 1 month = 30 days\n",
    "        # Ensure last interval ends exactly at the end_date\n",
    "        if next_date > end_date:\n",
    "            next_date = end_date\n",
    "        intervals.append((current_date.strftime(\"%Y-%m-%d\"), next_date.strftime(\"%Y-%m-%d\")))\n",
    "        current_date = next_date\n",
    "\n",
    "    return intervals\n",
    "\n",
    "# Generate robust intervals\n",
    "time_intervals = generate_time_intervals(start_date, end_date, interval_months)\n",
    "\n",
    "# Print the generated intervals\n",
    "print(\"Generated Time Intervals:\")\n",
    "for interval in time_intervals:\n",
    "    print(interval)\n",
    "\n",
    "# Check Sentinel-2 image availability for each interval\n",
    "for interval in time_intervals:\n",
    "    start, end = interval\n",
    "    image_collection = ee.ImageCollection('COPERNICUS/S2') \\\n",
    "        .filterDate(start, end) \\\n",
    "        .filterBounds(AOI)\n",
    "    image_count = image_collection.size().getInfo()\n",
    "    print(f\"Interval: {start} to {end} - Sentinel-2 Images Available: {image_count}\")\n"
   ]
  },
  {
   "cell_type": "code",
   "execution_count": 17,
   "metadata": {},
   "outputs": [
    {
     "data": {
      "text/html": [
       "\n",
       "            <style>\n",
       "                .geemap-dark {\n",
       "                    --jp-widgets-color: white;\n",
       "                    --jp-widgets-label-color: white;\n",
       "                    --jp-ui-font-color1: white;\n",
       "                    --jp-layout-color2: #454545;\n",
       "                    background-color: #383838;\n",
       "                }\n",
       "\n",
       "                .geemap-dark .jupyter-button {\n",
       "                    --jp-layout-color3: #383838;\n",
       "                }\n",
       "\n",
       "                .geemap-colab {\n",
       "                    background-color: var(--colab-primary-surface-color, white);\n",
       "                }\n",
       "\n",
       "                .geemap-colab .jupyter-button {\n",
       "                    --jp-layout-color3: var(--colab-primary-surface-color, white);\n",
       "                }\n",
       "            </style>\n",
       "            "
      ],
      "text/plain": [
       "<IPython.core.display.HTML object>"
      ]
     },
     "metadata": {},
     "output_type": "display_data"
    },
    {
     "name": "stdout",
     "output_type": "stream",
     "text": [
      "All available composites have been processed and displayed on the map.\n"
     ]
    },
    {
     "data": {
      "application/vnd.jupyter.widget-view+json": {
       "model_id": "43526c4a057d4025abf7812b412d69e5",
       "version_major": 2,
       "version_minor": 0
      },
      "text/plain": [
       "Map(bottom=2469637.0, center=[-30.40789489142412, -64.39157492230356], controls=(WidgetControl(options=['posit…"
      ]
     },
     "execution_count": 17,
     "metadata": {},
     "output_type": "execute_result"
    }
   ],
   "source": [
    "# Define a cloud masking function\n",
    "def mask_clouds(image):\n",
    "    # Check for QA60 band on the server side\n",
    "    qa_bands = image.bandNames()\n",
    "    has_qa60 = qa_bands.contains('QA60')\n",
    "\n",
    "    # Apply cloud masking if QA60 is present\n",
    "    return ee.Algorithms.If(\n",
    "        has_qa60,\n",
    "        # Cloud masking logic\n",
    "        image.updateMask(\n",
    "            image.select('QA60').bitwiseAnd(1 << 10).eq(0).And(\n",
    "                image.select('QA60').bitwiseAnd(1 << 11).eq(0)\n",
    "            )\n",
    "        ),\n",
    "        # If QA60 is missing, return the unmasked image\n",
    "        image\n",
    "    )\n",
    "\n",
    "# Process time intervals\n",
    "for interval in time_intervals:\n",
    "    start, end = interval\n",
    "\n",
    "    # Load Sentinel-2 Surface Reflectance data (Level-2A)\n",
    "    image_collection = ee.ImageCollection('COPERNICUS/S2_SR') \\\n",
    "        .filterDate(start, end) \\\n",
    "        .filterBounds(AOI) \\\n",
    "        .map(mask_clouds)  # Apply cloud masking\n",
    "\n",
    "    # Check if there are images available\n",
    "    image_count = image_collection.size().getInfo()\n",
    "    if image_count == 0:\n",
    "        print(f\"No images available for interval: {start} to {end}. Skipping.\")\n",
    "        continue\n",
    "\n",
    "    # Create a median composite\n",
    "    composite = image_collection.median().clip(AOI)\n",
    "\n",
    "    # Apply Gaussian smoothing to reduce noise\n",
    "    smoothed_composite = composite.convolve(ee.Kernel.gaussian(radius=3, sigma=1, units='pixels'))\n",
    "\n",
    "    # Use a single band to extract CRS and ensure consistent projection\n",
    "    single_band = composite.select('B4')  # 'B4' is the red band\n",
    "    crs_string = single_band.projection().crs().getInfo()\n",
    "\n",
    "    # Reproject the smoothed composite using the extracted CRS\n",
    "    aligned_composite = smoothed_composite.reproject(\n",
    "        crs=crs_string,  # CRS string\n",
    "        scale=10  # Sentinel-2 resolution in meters\n",
    "    )\n",
    "\n",
    "    # Visualize the composite for this interval\n",
    "    Map.addLayer(\n",
    "        aligned_composite.select(['B4', 'B3', 'B2']),  # RGB bands\n",
    "        {'min': 0, 'max': 3000, 'gamma': 1.4},\n",
    "        f\"Composite {start} to {end}\"\n",
    "    )\n",
    "\n",
    "print(\"All available composites have been processed and displayed on the map.\")\n",
    "Map\n"
   ]
  },
  {
   "cell_type": "code",
   "execution_count": 18,
   "metadata": {},
   "outputs": [
    {
     "data": {
      "text/html": [
       "\n",
       "            <style>\n",
       "                .geemap-dark {\n",
       "                    --jp-widgets-color: white;\n",
       "                    --jp-widgets-label-color: white;\n",
       "                    --jp-ui-font-color1: white;\n",
       "                    --jp-layout-color2: #454545;\n",
       "                    background-color: #383838;\n",
       "                }\n",
       "\n",
       "                .geemap-dark .jupyter-button {\n",
       "                    --jp-layout-color3: #383838;\n",
       "                }\n",
       "\n",
       "                .geemap-colab {\n",
       "                    background-color: var(--colab-primary-surface-color, white);\n",
       "                }\n",
       "\n",
       "                .geemap-colab .jupyter-button {\n",
       "                    --jp-layout-color3: var(--colab-primary-surface-color, white);\n",
       "                }\n",
       "            </style>\n",
       "            "
      ],
      "text/plain": [
       "<IPython.core.display.HTML object>"
      ]
     },
     "metadata": {},
     "output_type": "display_data"
    },
    {
     "name": "stdout",
     "output_type": "stream",
     "text": [
      "Processing tiles for time window: 2023-01-01 to 2023-06-30\n",
      "Processing tiles for time window: 2023-06-30 to 2023-12-25\n",
      "The grid of 256x256 tiles, clipped to the AOI, is displayed for all time windows.\n"
     ]
    },
    {
     "data": {
      "application/vnd.jupyter.widget-view+json": {
       "model_id": "43526c4a057d4025abf7812b412d69e5",
       "version_major": 2,
       "version_minor": 0
      },
      "text/plain": [
       "Map(bottom=4939187.0, center=[-30.415778145780344, -64.3691110610962], controls=(WidgetControl(options=['posit…"
      ]
     },
     "execution_count": 18,
     "metadata": {},
     "output_type": "execute_result"
    }
   ],
   "source": [
    "# Define the 256x256 pixel grid for the AOI\n",
    "tile_size_meters = 256 * 10  # Tile size in meters (256 pixels at 10m resolution)\n",
    "\n",
    "# Generate the grid and clip it to the AOI with an error margin\n",
    "grid = AOI.coveringGrid(\n",
    "    proj=ee.Projection(crs_string),  # Use the extracted CRS string as a projection\n",
    "    scale=tile_size_meters  # Define the scale for each tile\n",
    ").map(lambda feature: feature.intersection(AOI, ee.ErrorMargin(1)))  # Add an error margin of 1 meter\n",
    "\n",
    "# Process tiles for each time window\n",
    "for interval in time_intervals:\n",
    "    start, end = interval\n",
    "\n",
    "    # Print current time window being processed\n",
    "    print(f\"Processing tiles for time window: {start} to {end}\")\n",
    "\n",
    "    # Iterate through each tile in the FeatureCollection\n",
    "    grid_list = grid.toList(grid.size())  # Convert FeatureCollection to a list of features\n",
    "    for i in range(grid.size().getInfo()):\n",
    "        tile = ee.Feature(grid_list.get(i))  # Get the tile as a Feature\n",
    "        tile_geom = tile.geometry()  # Extract the geometry of the tile\n",
    "\n",
    "        # Add the individual tile to the map\n",
    "        Map.addLayer(\n",
    "            tile_geom,\n",
    "            {'color': 'blue'},  # Display the tile in blue\n",
    "            f\"Tile {i + 1} ({start} to {end})\"  # Label the tile with the time window\n",
    "        )\n",
    "\n",
    "# Add the entire grid clipped to AOI for visualization\n",
    "Map.addLayer(\n",
    "    grid,\n",
    "    {'color': 'red'},  # Display the grid in red\n",
    "    \"256x256 Tiles (Clipped to AOI)\"\n",
    ")\n",
    "\n",
    "# Display the map\n",
    "print(\"The grid of 256x256 tiles, clipped to the AOI, is displayed for all time windows.\")\n",
    "Map\n"
   ]
  }
 ],
 "metadata": {
  "kernelspec": {
   "display_name": "Python 3",
   "language": "python",
   "name": "python3"
  },
  "language_info": {
   "codemirror_mode": {
    "name": "ipython",
    "version": 3
   },
   "file_extension": ".py",
   "mimetype": "text/x-python",
   "name": "python",
   "nbconvert_exporter": "python",
   "pygments_lexer": "ipython3",
   "version": "3.11.8"
  }
 },
 "nbformat": 4,
 "nbformat_minor": 2
}
