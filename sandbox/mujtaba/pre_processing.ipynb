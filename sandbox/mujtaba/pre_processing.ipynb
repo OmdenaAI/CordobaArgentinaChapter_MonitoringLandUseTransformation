{
 "cells": [
  {
   "cell_type": "markdown",
   "metadata": {},
   "source": [
    "# Satellite Image Pre-processing for Land Use Change Detection\n",
    "\n",
    "## Overview\n",
    "This notebook handles the preprocessing of satellite imagery for detecting land use changes in Córdoba, Argentina. It uses Google Earth Engine (GEE) to access and process satellite data.\n",
    "\n",
    "## Features\n",
    "- Connects to Google Earth Engine API\n",
    "- Defines study area in Córdoba region\n",
    "- Retrieves Sentinel-2 imagery\n",
    "- Applies cloud masking and filtering\n",
    "- Generates composite images for analysis\n",
    "\n",
    "## Requirements\n",
    "- Google Earth Engine account\n",
    "- Python packages:\n",
    "  - `ee` (Earth Engine API)\n",
    "  - `geemap` (for interactive mapping)\n",
    "  - `folium` (for map visualization)\n",
    "\n",
    "## Usage\n",
    "1. Run the authentication cell to connect to GEE\n",
    "2. Define your study area parameters\n",
    "3. Set date ranges for image collection\n",
    "4. Execute preprocessing steps\n",
    "5. Export processed images for analysis\n",
    "\n",
    "## Output\n",
    "- Processed satellite images\n",
    "- Interactive maps of the study area\n",
    "- Preprocessed data ready for change detection analysis\n",
    "\n",
    "## Author\n",
    "Mujtaba\n",
    "\n",
    "## Project\n",
    "Part of the Córdoba Argentina Chapter - Monitoring Land Use Transformation project"
   ]
  },
  {
   "cell_type": "code",
   "execution_count": 2,
   "metadata": {},
   "outputs": [],
   "source": [
    "import ee\n",
    "import geemap\n",
    "import folium\n",
    "from folium import plugins\n"
   ]
  },
  {
   "cell_type": "code",
   "execution_count": 4,
   "metadata": {},
   "outputs": [
    {
     "data": {
      "text/html": [
       "\n",
       "            <style>\n",
       "                .geemap-dark {\n",
       "                    --jp-widgets-color: white;\n",
       "                    --jp-widgets-label-color: white;\n",
       "                    --jp-ui-font-color1: white;\n",
       "                    --jp-layout-color2: #454545;\n",
       "                    background-color: #383838;\n",
       "                }\n",
       "\n",
       "                .geemap-dark .jupyter-button {\n",
       "                    --jp-layout-color3: #383838;\n",
       "                }\n",
       "\n",
       "                .geemap-colab {\n",
       "                    background-color: var(--colab-primary-surface-color, white);\n",
       "                }\n",
       "\n",
       "                .geemap-colab .jupyter-button {\n",
       "                    --jp-layout-color3: var(--colab-primary-surface-color, white);\n",
       "                }\n",
       "            </style>\n",
       "            "
      ],
      "text/plain": [
       "<IPython.core.display.HTML object>"
      ]
     },
     "metadata": {},
     "output_type": "display_data"
    },
    {
     "data": {
      "text/plain": [
       "True"
      ]
     },
     "execution_count": 4,
     "metadata": {},
     "output_type": "execute_result"
    }
   ],
   "source": [
    "ee.Authenticate(auth_mode='colab')"
   ]
  },
  {
   "cell_type": "code",
   "execution_count": 5,
   "metadata": {},
   "outputs": [
    {
     "data": {
      "text/html": [
       "\n",
       "            <style>\n",
       "                .geemap-dark {\n",
       "                    --jp-widgets-color: white;\n",
       "                    --jp-widgets-label-color: white;\n",
       "                    --jp-ui-font-color1: white;\n",
       "                    --jp-layout-color2: #454545;\n",
       "                    background-color: #383838;\n",
       "                }\n",
       "\n",
       "                .geemap-dark .jupyter-button {\n",
       "                    --jp-layout-color3: #383838;\n",
       "                }\n",
       "\n",
       "                .geemap-colab {\n",
       "                    background-color: var(--colab-primary-surface-color, white);\n",
       "                }\n",
       "\n",
       "                .geemap-colab .jupyter-button {\n",
       "                    --jp-layout-color3: var(--colab-primary-surface-color, white);\n",
       "                }\n",
       "            </style>\n",
       "            "
      ],
      "text/plain": [
       "<IPython.core.display.HTML object>"
      ]
     },
     "metadata": {},
     "output_type": "display_data"
    }
   ],
   "source": [
    "ee.Initialize(project='ee-mujtabanaqvi29')"
   ]
  },
  {
   "cell_type": "code",
   "execution_count": 9,
   "metadata": {},
   "outputs": [
    {
     "data": {
      "text/html": [
       "\n",
       "            <style>\n",
       "                .geemap-dark {\n",
       "                    --jp-widgets-color: white;\n",
       "                    --jp-widgets-label-color: white;\n",
       "                    --jp-ui-font-color1: white;\n",
       "                    --jp-layout-color2: #454545;\n",
       "                    background-color: #383838;\n",
       "                }\n",
       "\n",
       "                .geemap-dark .jupyter-button {\n",
       "                    --jp-layout-color3: #383838;\n",
       "                }\n",
       "\n",
       "                .geemap-colab {\n",
       "                    background-color: var(--colab-primary-surface-color, white);\n",
       "                }\n",
       "\n",
       "                .geemap-colab .jupyter-button {\n",
       "                    --jp-layout-color3: var(--colab-primary-surface-color, white);\n",
       "                }\n",
       "            </style>\n",
       "            "
      ],
      "text/plain": [
       "<IPython.core.display.HTML object>"
      ]
     },
     "metadata": {},
     "output_type": "display_data"
    },
    {
     "name": "stdout",
     "output_type": "stream",
     "text": [
      "\n",
      "    Deforestation Analysis Report\n",
      "    ------------------------------\n",
      "    Region Investigated: Custom Region (User Defined)\n",
      "    Total Area Investigated: 105.37 hectares\n",
      "    Analysis Dates:\n",
      "        - Before: 2022-01-01\n",
      "        - After: 2022-12-31\n",
      "    Analysis Duration: 364 days\n",
      "    NDVI Threshold for Deforestation: -0.1\n",
      "    Total Deforested Area: 0.12 hectares\n",
      "    \n"
     ]
    },
    {
     "data": {
      "application/vnd.jupyter.widget-view+json": {
       "model_id": "b0c7251d662949be9b8811031896c184",
       "version_major": 2,
       "version_minor": 0
      },
      "text/plain": [
       "Map(center=[-31.405000008271625, -64.1750000000164], controls=(WidgetControl(options=['position', 'transparent…"
      ]
     },
     "execution_count": 9,
     "metadata": {},
     "output_type": "execute_result"
    }
   ],
   "source": [
    "import ee\n",
    "import geemap\n",
    "from datetime import datetime\n",
    "# Authenticate and initialize GEE\n",
    "ee.Authenticate()\n",
    "ee.Initialize()\n",
    "\n",
    "def detect_deforestation_with_report(region, start_date_before, end_date_after, ndvi_threshold=-0.15):\n",
    "    \"\"\"\n",
    "    Detects deforestation and generates a detailed report including:\n",
    "    - Dates of analysis\n",
    "    - Duration\n",
    "    - Total investigated area\n",
    "    - Total deforested area (in hectares)\n",
    "    \"\"\"\n",
    "    # Load Sentinel-2 imagery\n",
    "    before = ee.ImageCollection('COPERNICUS/S2') \\\n",
    "        .filterBounds(region) \\\n",
    "        .filterDate(start_date_before, end_date_after) \\\n",
    "        .filter(ee.Filter.lt('CLOUDY_PIXEL_PERCENTAGE', 20)) \\\n",
    "        .median()\n",
    "\n",
    "    after = ee.ImageCollection('COPERNICUS/S2') \\\n",
    "        .filterBounds(region) \\\n",
    "        .filterDate(end_date_after, '2023-12-31') \\\n",
    "        .filter(ee.Filter.lt('CLOUDY_PIXEL_PERCENTAGE', 20)) \\\n",
    "        .median()\n",
    "\n",
    "    # Calculate NDVI for before and after\n",
    "    ndvi_before = before.normalizedDifference(['B8', 'B4']).rename('NDVI_Before')\n",
    "    ndvi_after = after.normalizedDifference(['B8', 'B4']).rename('NDVI_After')\n",
    "\n",
    "    # Calculate NDVI change\n",
    "    ndvi_change = ndvi_after.subtract(ndvi_before).rename('NDVI_Change')\n",
    "\n",
    "    # Apply threshold to detect deforestation\n",
    "    deforestation = ndvi_change.lt(ndvi_threshold).selfMask()\n",
    "\n",
    "    # Calculate the total deforested area\n",
    "    deforestation_area = deforestation.multiply(ee.Image.pixelArea())\n",
    "    total_deforestation_area = deforestation_area.reduceRegion(\n",
    "        reducer=ee.Reducer.sum(),\n",
    "        geometry=region,\n",
    "        scale=10,\n",
    "        maxPixels=1e9\n",
    "    ).getInfo()\n",
    "\n",
    "    # Convert to hectares\n",
    "    deforested_area_ha = total_deforestation_area.get('NDVI_Change', 0) / 10_000\n",
    "\n",
    "    # Calculate the total area of the region (in hectares)\n",
    "    total_region_area = ee.Image.pixelArea().reduceRegion(\n",
    "        reducer=ee.Reducer.sum(),\n",
    "        geometry=region,\n",
    "        scale=10,\n",
    "        maxPixels=1e9\n",
    "    ).getInfo()\n",
    "    total_region_area_ha = total_region_area.get('area') / 10_000\n",
    "\n",
    "    # Calculate the duration of analysis\n",
    "    start_date = datetime.strptime(start_date_before, '%Y-%m-%d')\n",
    "    end_date = datetime.strptime(end_date_after, '%Y-%m-%d')\n",
    "    duration_days = (end_date - start_date).days\n",
    "\n",
    "    # Visualization parameters\n",
    "    ndvi_viz = {'min': -1, 'max': 1, 'palette': ['blue', 'white', 'green']}\n",
    "    change_viz = {'min': -0.3, 'max': 0.3, 'palette': ['red', 'yellow', 'green']}\n",
    "    deforestation_viz = {'min': 0, 'max': 1, 'palette': ['red']}\n",
    "    true_color_viz = {'bands': ['B4', 'B3', 'B2'], 'min': 0, 'max': 3000}\n",
    "\n",
    "    # Visualization\n",
    "    Map = geemap.Map()\n",
    "    Map.centerObject(region, 12)\n",
    "    Map.addLayer(before, true_color_viz, 'Satellite Image Before')\n",
    "    Map.addLayer(after, true_color_viz, 'Satellite Image After')\n",
    "    Map.addLayer(ndvi_before, ndvi_viz, 'NDVI Before')\n",
    "    Map.addLayer(ndvi_after, ndvi_viz, 'NDVI After')\n",
    "    Map.addLayer(ndvi_change, change_viz, 'NDVI Change')\n",
    "    Map.addLayer(deforestation, deforestation_viz, 'Deforestation Detected')\n",
    "\n",
    "    # Generate the detailed report\n",
    "    report = f\"\"\"\n",
    "    Deforestation Analysis Report\n",
    "    ------------------------------\n",
    "    Region Investigated: Custom Region (User Defined)\n",
    "    Total Area Investigated: {total_region_area_ha:.2f} hectares\n",
    "    Analysis Dates:\n",
    "        - Before: {start_date_before}\n",
    "        - After: {end_date_after}\n",
    "    Analysis Duration: {duration_days} days\n",
    "    NDVI Threshold for Deforestation: {ndvi_threshold}\n",
    "    Total Deforested Area: {deforested_area_ha:.2f} hectares\n",
    "    \"\"\"\n",
    "    print(report)\n",
    "    return Map\n",
    "\n",
    "# Define the region (example: Córdoba region)\n",
    "region = ee.Geometry.Polygon([\n",
    "    [[-64.18, -31.40], [-64.17, -31.40], [-64.17, -31.41], [-64.18, -31.41], [-64.18, -31.40]]\n",
    "])\n",
    "\n",
    "# Detect deforestation and generate the report\n",
    "Map = detect_deforestation_with_report(region, '2022-01-01', '2022-12-31', ndvi_threshold=-0.1)\n",
    "Map\n"
   ]
  }
 ],
 "metadata": {
  "kernelspec": {
   "display_name": "Python 3",
   "language": "python",
   "name": "python3"
  },
  "language_info": {
   "codemirror_mode": {
    "name": "ipython",
    "version": 3
   },
   "file_extension": ".py",
   "mimetype": "text/x-python",
   "name": "python",
   "nbconvert_exporter": "python",
   "pygments_lexer": "ipython3",
   "version": "3.11.8"
  }
 },
 "nbformat": 4,
 "nbformat_minor": 2
}
