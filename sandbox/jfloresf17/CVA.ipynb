{
 "cells": [
  {
   "cell_type": "markdown",
   "metadata": {},
   "source": [
    "# CHANGE VECTOR ANALYSIS IN POSTERIOR PROBABILITY SPACE"
   ]
  },
  {
   "cell_type": "code",
   "execution_count": 1,
   "metadata": {},
   "outputs": [],
   "source": [
    "import ee\n",
    "import json\n",
    "import os\n",
    "import geemap\n",
    "\n",
    "from dotenv import load_dotenv\n",
    "from utils2 import (create_composite_DW, create_composite_S2, \n",
    "                    threshold_optimization, change_type_discrimination,\n",
    "                    remove_small_objects, create_index_mask, dilate_mask,\n",
    "                    erode_mask)"
   ]
  },
  {
   "cell_type": "markdown",
   "metadata": {},
   "source": [
    "## Initialize Google Earth Engine API"
   ]
  },
  {
   "cell_type": "code",
   "execution_count": 2,
   "metadata": {},
   "outputs": [
    {
     "data": {
      "text/html": [
       "\n",
       "            <style>\n",
       "                .geemap-dark {\n",
       "                    --jp-widgets-color: white;\n",
       "                    --jp-widgets-label-color: white;\n",
       "                    --jp-ui-font-color1: white;\n",
       "                    --jp-layout-color2: #454545;\n",
       "                    background-color: #383838;\n",
       "                }\n",
       "\n",
       "                .geemap-dark .jupyter-button {\n",
       "                    --jp-layout-color3: #383838;\n",
       "                }\n",
       "\n",
       "                .geemap-colab {\n",
       "                    background-color: var(--colab-primary-surface-color, white);\n",
       "                }\n",
       "\n",
       "                .geemap-colab .jupyter-button {\n",
       "                    --jp-layout-color3: var(--colab-primary-surface-color, white);\n",
       "                }\n",
       "            </style>\n",
       "            "
      ],
      "text/plain": [
       "<IPython.core.display.HTML object>"
      ]
     },
     "metadata": {},
     "output_type": "display_data"
    }
   ],
   "source": [
    "NOTEBOOK_DIR = os.getcwd()\n",
    "\n",
    "# Get the project root directory (two levels up)\n",
    "PROJECT_ROOT = os.path.abspath(os.path.join(NOTEBOOK_DIR, '../..'))\n",
    "\n",
    "# Load environment variables\n",
    "load_dotenv()\n",
    "\n",
    "# Get credentials path and ensure it's relative to PROJECT_ROOT\n",
    "GEE_CREDENTIALS_PATH = os.path.join(PROJECT_ROOT, os.getenv('GEE_CREDENTIALS_PATH'))\n",
    "GEE_PROJECT_ID = os.getenv('GEE_PROJECT_ID')\n",
    "\n",
    "# Initialize GEE\n",
    "credentials = ee.ServiceAccountCredentials(\n",
    "    '',\n",
    "    GEE_CREDENTIALS_PATH,\n",
    "    GEE_PROJECT_ID\n",
    ")\n",
    "ee.Initialize(credentials, opt_url=\"https://earthengine-highvolume.googleapis.com\")"
   ]
  },
  {
   "cell_type": "markdown",
   "metadata": {},
   "source": [
    "## Use GEE Sentinel-2 image with respective Dynamic Land Cover Map"
   ]
  },
  {
   "cell_type": "markdown",
   "metadata": {},
   "source": [
    "### Input required\n",
    "- T1: Sentinel-2 image in time 1\n",
    "- T2: Sentinel-2 image in time 2\n",
    "- coordinates: coordinates of the area of interest"
   ]
  },
  {
   "cell_type": "code",
   "execution_count": 125,
   "metadata": {},
   "outputs": [
    {
     "data": {
      "text/html": [
       "\n",
       "            <style>\n",
       "                .geemap-dark {\n",
       "                    --jp-widgets-color: white;\n",
       "                    --jp-widgets-label-color: white;\n",
       "                    --jp-ui-font-color1: white;\n",
       "                    --jp-layout-color2: #454545;\n",
       "                    background-color: #383838;\n",
       "                }\n",
       "\n",
       "                .geemap-dark .jupyter-button {\n",
       "                    --jp-layout-color3: #383838;\n",
       "                }\n",
       "\n",
       "                .geemap-colab {\n",
       "                    background-color: var(--colab-primary-surface-color, white);\n",
       "                }\n",
       "\n",
       "                .geemap-colab .jupyter-button {\n",
       "                    --jp-layout-color3: var(--colab-primary-surface-color, white);\n",
       "                }\n",
       "            </style>\n",
       "            "
      ],
      "text/plain": [
       "<IPython.core.display.HTML object>"
      ]
     },
     "metadata": {},
     "output_type": "display_data"
    }
   ],
   "source": [
    "T1_date = '2021-01-01'\n",
    "T2_date = '2022-12-31'\n",
    "range_days = 30\n",
    "coordinates = [\n",
    "          [\n",
    "            [\n",
    "              -63.406465892673396,\n",
    "              -30.347535161917683\n",
    "            ],\n",
    "            [\n",
    "              -63.425223128637995,\n",
    "              -30.37080128979506\n",
    "            ],\n",
    "            [\n",
    "              -63.42803671537233,\n",
    "              -30.397095465965478\n",
    "            ],\n",
    "            [\n",
    "              -63.400509336566884,\n",
    "              -30.42050193711671\n",
    "            ],\n",
    "            [\n",
    "              -63.37073222447286,\n",
    "              -30.40432562167593\n",
    "            ],\n",
    "            [\n",
    "              -63.34916140311282,\n",
    "              -30.391787133563383\n",
    "            ],\n",
    "            [\n",
    "              -63.35971234834342,\n",
    "              -30.36245696700476\n",
    "            ],\n",
    "            [\n",
    "              -63.381752100602284,\n",
    "              -30.345259330244637\n",
    "            ],\n",
    "            [\n",
    "              -63.39769575117229,\n",
    "              -30.339391209687783\n",
    "            ],\n",
    "            [\n",
    "              -63.406465892673396,\n",
    "              -30.347535161917683\n",
    "            ]\n",
    "          ]\n",
    "        ]"
   ]
  },
  {
   "cell_type": "markdown",
   "metadata": {},
   "source": [
    "### Pre-processing pipeline using GEE\n",
    "- Atmospheric correction\n",
    "- Cloud & Shadow masking\n",
    "- Image registration\n",
    "- BRDF correction"
   ]
  },
  {
   "cell_type": "code",
   "execution_count": 126,
   "metadata": {},
   "outputs": [
    {
     "data": {
      "text/html": [
       "\n",
       "            <style>\n",
       "                .geemap-dark {\n",
       "                    --jp-widgets-color: white;\n",
       "                    --jp-widgets-label-color: white;\n",
       "                    --jp-ui-font-color1: white;\n",
       "                    --jp-layout-color2: #454545;\n",
       "                    background-color: #383838;\n",
       "                }\n",
       "\n",
       "                .geemap-dark .jupyter-button {\n",
       "                    --jp-layout-color3: #383838;\n",
       "                }\n",
       "\n",
       "                .geemap-colab {\n",
       "                    background-color: var(--colab-primary-surface-color, white);\n",
       "                }\n",
       "\n",
       "                .geemap-colab .jupyter-button {\n",
       "                    --jp-layout-color3: var(--colab-primary-surface-color, white);\n",
       "                }\n",
       "            </style>\n",
       "            "
      ],
      "text/plain": [
       "<IPython.core.display.HTML object>"
      ]
     },
     "metadata": {},
     "output_type": "display_data"
    },
    {
     "name": "stdout",
     "output_type": "stream",
     "text": [
      "Sentinel-2 available images: 6\n",
      "Sentinel-2 available images: 5\n"
     ]
    }
   ],
   "source": [
    "# --- Preprocessing team should be able to provide the following ---\n",
    "## Region of interest defined by a polygon\n",
    "roi = ee.Geometry.Polygon(coordinates)\n",
    "\n",
    "## Create a composite Sentinel-2 image for time T1 and clip it to the ROI\n",
    "S2_T1 = create_composite_S2(T1_date, range_days, roi).clip(roi)\n",
    "\n",
    "## Create a composite Sentinel-2 image for time T2 and clip it to the ROI\n",
    "S2_T2 = create_composite_S2(T2_date, range_days, roi).clip(roi)\n",
    "\n",
    "## Create spectral index masks by a threshold\n",
    "dndvi_mask = create_index_mask(S2_T1, S2_T2, index='dNDVI', threshold=-0.2)\n",
    "dnbr_mask = create_index_mask(S2_T1, S2_T2, index='dNBR', threshold=-0.3)\n",
    "dsavi_mask = create_index_mask(S2_T1, S2_T2, index='dSAVI', threshold=-0.3)\n",
    "dndmi_mask = create_index_mask(S2_T1, S2_T2, index='dNDMI', threshold=-0.3)"
   ]
  },
  {
   "cell_type": "markdown",
   "metadata": {},
   "source": [
    "### Change vector analysis in posterior probability space\n",
    "- Calculate posterior probability of change (using Dynamic Land Cover Probability Map)\n",
    "- Calculate change vector in posterior probability space\n",
    "- Calculate magnitude and direction of change vector\n",
    "- Discriminate between different types of change (get only the significant changes between tree cover and non-tree cover)\n",
    "- Apply an iterative thresholding method to get the final change map"
   ]
  },
  {
   "cell_type": "code",
   "execution_count": 127,
   "metadata": {},
   "outputs": [
    {
     "data": {
      "text/html": [
       "\n",
       "            <style>\n",
       "                .geemap-dark {\n",
       "                    --jp-widgets-color: white;\n",
       "                    --jp-widgets-label-color: white;\n",
       "                    --jp-ui-font-color1: white;\n",
       "                    --jp-layout-color2: #454545;\n",
       "                    background-color: #383838;\n",
       "                }\n",
       "\n",
       "                .geemap-dark .jupyter-button {\n",
       "                    --jp-layout-color3: #383838;\n",
       "                }\n",
       "\n",
       "                .geemap-colab {\n",
       "                    background-color: var(--colab-primary-surface-color, white);\n",
       "                }\n",
       "\n",
       "                .geemap-colab .jupyter-button {\n",
       "                    --jp-layout-color3: var(--colab-primary-surface-color, white);\n",
       "                }\n",
       "            </style>\n",
       "            "
      ],
      "text/plain": [
       "<IPython.core.display.HTML object>"
      ]
     },
     "metadata": {},
     "output_type": "display_data"
    },
    {
     "name": "stdout",
     "output_type": "stream",
     "text": [
      "Dynamic World available images: 5\n",
      "Dynamic World available images: 5\n",
      "Best threshold: 0.20506942708597878 with Lk = 53.742271945436364\n"
     ]
    }
   ],
   "source": [
    "# --- Change detection using CVA technique (model team) ---\n",
    "## Create composites for each date using the create_composite_DW function\n",
    "composite_T1 = create_composite_DW(T1_date, range_days, roi).clip(roi).updateMask(S2_T1.select('B4').mask())\n",
    "composite_T2 = create_composite_DW(T2_date, range_days, roi).clip(roi).updateMask(S2_T2.select('B4').mask())\n",
    "\n",
    "## Compute the change vector between the composites\n",
    "delta_prob = composite_T2.subtract(composite_T1)\n",
    "\n",
    "## Calculate the magnitude of change using the Euclidean norm across bands\n",
    "magnitude = delta_prob.pow(2).reduce(ee.Reducer.sum()).sqrt()\n",
    "\n",
    "## Convert the image to an array and get the index of the maximum value along axis 0 (bands)\n",
    "labels_t1 = composite_T1.toArray().arrayArgmax().arrayGet([0]).rename('labels_t1')\n",
    "labels_t2 = composite_T2.toArray().arrayArgmax().arrayGet([0]).rename('labels_t2')\n",
    "\n",
    "## Optimize the threshold value\n",
    "step_coarse, step_fine = 0.2, 0.1\n",
    "best_threshold, best_Lk = threshold_optimization(magnitude, labels_t1, labels_t2, \n",
    "                                                 roi, 10, step_coarse, step_fine)\n",
    "print(\"Best threshold:\", best_threshold, \"with Lk =\", best_Lk)\n",
    "\n",
    "## Generate the change mask by applying the optimized threshold\n",
    "changed_mask = magnitude.gte(ee.Image.constant(best_threshold))\n",
    "\n",
    "## Apply change type discrimination\n",
    "## It is assumed that change_type_discrimination returns an ee.Image with the transition code (a*100 + b) for each pixel.\n",
    "change_map = change_type_discrimination(composite_T1, composite_T2, changed_mask, 9)\n",
    "\n",
    "## It is assumed that the forest class is 1, so transitions with a = 1 will have codes between 100 and 200.\n",
    "forest_change = change_map.gte(100).And(change_map.lte(200))"
   ]
  },
  {
   "cell_type": "markdown",
   "metadata": {},
   "source": [
    "### Post-processing pipeline using GEE\n",
    "- Improve the change map using spectral indices masking\n",
    "- Use morphological operations to remove noise (remove small objects, dilate, erode)\n",
    "- Get the final change map as a vector and export it as a GeoJSON file"
   ]
  },
  {
   "cell_type": "code",
   "execution_count": 128,
   "metadata": {},
   "outputs": [
    {
     "data": {
      "text/html": [
       "\n",
       "            <style>\n",
       "                .geemap-dark {\n",
       "                    --jp-widgets-color: white;\n",
       "                    --jp-widgets-label-color: white;\n",
       "                    --jp-ui-font-color1: white;\n",
       "                    --jp-layout-color2: #454545;\n",
       "                    background-color: #383838;\n",
       "                }\n",
       "\n",
       "                .geemap-dark .jupyter-button {\n",
       "                    --jp-layout-color3: #383838;\n",
       "                }\n",
       "\n",
       "                .geemap-colab {\n",
       "                    background-color: var(--colab-primary-surface-color, white);\n",
       "                }\n",
       "\n",
       "                .geemap-colab .jupyter-button {\n",
       "                    --jp-layout-color3: var(--colab-primary-surface-color, white);\n",
       "                }\n",
       "            </style>\n",
       "            "
      ],
      "text/plain": [
       "<IPython.core.display.HTML object>"
      ]
     },
     "metadata": {},
     "output_type": "display_data"
    }
   ],
   "source": [
    "# --- Post-processing (remove small objects, dilate, and vectorize) ---\n",
    "## Adjust the forest change image by multiplying it with each of the spectral index masks\n",
    "# Sum the spectral masks (each mask is assumed to have 1 for deforestation and 0 for no deforestation)\n",
    "spectral_vote = forest_change.add(dndvi_mask).add(dnbr_mask).add(dndmi_mask).add(dsavi_mask)\n",
    "\n",
    "# Create the majority vote mask: at least 3 out of 5 masks must indicate deforestation\n",
    "majority_vote_mask = spectral_vote.gte(3)\n",
    "\n",
    "## Dilate and then erode the change mask to smooth the edges\n",
    "forest_change_dilated = dilate_mask(majority_vote_mask, radius=1)\n",
    "forest_change_eroded  = erode_mask(forest_change_dilated, radius=1)\n",
    "\n",
    "## Remove small objects using the remove_small_objects function\n",
    "forest_change_cleaned = remove_small_objects(forest_change_eroded, min_size=16, connectivity=8)\n",
    "\n",
    "## Vectorize the cleaned image to obtain polygons of forest change\n",
    "forest_change_vectors = forest_change_cleaned.updateMask(forest_change_cleaned).reduceToVectors(\n",
    "    geometry=roi,\n",
    "    scale=30, \n",
    "    geometryType='polygon',\n",
    "    reducer=ee.Reducer.countEvery()\n",
    ")"
   ]
  },
  {
   "cell_type": "markdown",
   "metadata": {},
   "source": [
    "### Visualization of the results in GEE map"
   ]
  },
  {
   "cell_type": "code",
   "execution_count": 129,
   "metadata": {},
   "outputs": [
    {
     "data": {
      "text/html": [
       "\n",
       "            <style>\n",
       "                .geemap-dark {\n",
       "                    --jp-widgets-color: white;\n",
       "                    --jp-widgets-label-color: white;\n",
       "                    --jp-ui-font-color1: white;\n",
       "                    --jp-layout-color2: #454545;\n",
       "                    background-color: #383838;\n",
       "                }\n",
       "\n",
       "                .geemap-dark .jupyter-button {\n",
       "                    --jp-layout-color3: #383838;\n",
       "                }\n",
       "\n",
       "                .geemap-colab {\n",
       "                    background-color: var(--colab-primary-surface-color, white);\n",
       "                }\n",
       "\n",
       "                .geemap-colab .jupyter-button {\n",
       "                    --jp-layout-color3: var(--colab-primary-surface-color, white);\n",
       "                }\n",
       "            </style>\n",
       "            "
      ],
      "text/plain": [
       "<IPython.core.display.HTML object>"
      ]
     },
     "metadata": {},
     "output_type": "display_data"
    },
    {
     "data": {
      "application/vnd.jupyter.widget-view+json": {
       "model_id": "ccb3b54a76ed468fadd9dca55101a601",
       "version_major": 2,
       "version_minor": 0
      },
      "text/plain": [
       "Map(center=[-30.380401346656825, -63.39125021628172], controls=(WidgetControl(options=['position', 'transparen…"
      ]
     },
     "execution_count": 129,
     "metadata": {},
     "output_type": "execute_result"
    }
   ],
   "source": [
    "# Create a new geemap interactive map\n",
    "Map = geemap.Map(basemap='SATELLITE')\n",
    "\n",
    "# Center the map on the region of interest (roi) with zoom level 10\n",
    "Map.centerObject(roi, 13)\n",
    "\n",
    "# Add the T1 composite image to the map with a natural-color visualization (RGB using bands B4, B3, B2)\n",
    "Map.addLayer(\n",
    "    S2_T1, \n",
    "    {'bands': ['B4', 'B3', 'B2'], 'min': 0, 'max': 3000}, \n",
    "    'S2 T1'\n",
    ")\n",
    "\n",
    "# Add the T2 composite image to the map with the same visualization parameters\n",
    "Map.addLayer(\n",
    "    S2_T2, \n",
    "    {'bands': ['B4', 'B3', 'B2'], 'min': 0, 'max': 3000}, \n",
    "    'S2 T2'\n",
    ")\n",
    "\n",
    "# Add the DW composites to the map\n",
    "Map.addLayer(\n",
    "    composite_T1,\n",
    "    {'bands': [\"trees\"], 'min': 0, 'max': 1, 'palette': ['black', 'purple']},\n",
    "    'DW Composite T1'\n",
    ")\n",
    "\n",
    "Map.addLayer(\n",
    "    composite_T2,\n",
    "    {'bands': [\"trees\"], 'min': 0, 'max': 1, 'palette': ['black', 'purple']},\n",
    "    'DW Composite T2'\n",
    ")\n",
    "\n",
    "# Add the forest change map and the spectral index masks to the map\n",
    "Map.addLayer(\n",
    "    forest_change,\n",
    "    {'min': 0, 'max': 1, 'palette': ['black', 'white']},\n",
    "    'Forest Change Model Mask'\n",
    ")\n",
    "\n",
    "Map.addLayer(  \n",
    "    dndvi_mask,\n",
    "    {'min': 0, 'max': 1, 'palette': ['black', 'red']},\n",
    "    'dNDVI Mask'\n",
    ")\n",
    "\n",
    "Map.addLayer(\n",
    "    dsavi_mask,\n",
    "    {'min': 0, 'max': 1, 'palette': ['black', 'yellow']},\n",
    "    'dSAVI Mask'\n",
    ")\n",
    "\n",
    "Map.addLayer(\n",
    "    dnbr_mask,\n",
    "    {'min': 0, 'max': 1, 'palette': ['black', 'blue']},\n",
    "    'dNBR Mask'\n",
    ")\n",
    "\n",
    "Map.addLayer(\n",
    "    dndmi_mask,\n",
    "    {'min': 0, 'max': 1, 'palette': ['black', 'green']},\n",
    "    'dNDMI Mask'\n",
    ")\n",
    "\n",
    "# Add the final forest change vectors to the map\n",
    "Map.addLayer(\n",
    "    ee.Image().paint(forest_change_vectors, 0, 2),\n",
    "    {'palette': 'FF0000'},\n",
    "    'Forest Change Vectors'\n",
    ")\n",
    "\n",
    "# Add the region of interest (ROI) as a blue outline for reference.\n",
    "Map.addLayer(\n",
    "    ee.Image().paint(roi, 0, 2), \n",
    "    {'palette': 'blue'}, \n",
    "    'ROI'\n",
    ")\n",
    "\n",
    "# Display the map\n",
    "Map"
   ]
  },
  {
   "cell_type": "markdown",
   "metadata": {},
   "source": [
    "### Bibliography"
   ]
  },
  {
   "cell_type": "markdown",
   "metadata": {},
   "source": [
    "```\n",
    "@ARTICLE{5597922,\n",
    "  author={Chen, Jin and Chen, Xuehong and Cui, Xihong and Chen, Jun},\n",
    "  journal={IEEE Geoscience and Remote Sensing Letters}, \n",
    "  title={Change Vector Analysis in Posterior Probability Space: A New Method for Land Cover Change Detection}, \n",
    "  year={2011},\n",
    "  volume={8},\n",
    "  number={2},\n",
    "  pages={317-321},\n",
    "  keywords={Remote sensing;Pixel;Radiometry;Accuracy;Training;Satellites;Earth;Change vector analysis (CVA);land cover change;postclassification comparison (PCC);posterior probability space},\n",
    "  doi={10.1109/LGRS.2010.2068537}}\n",
    "\n",
    "```"
   ]
  }
 ],
 "metadata": {
  "kernelspec": {
   "display_name": "omdena",
   "language": "python",
   "name": "python3"
  },
  "language_info": {
   "codemirror_mode": {
    "name": "ipython",
    "version": 3
   },
   "file_extension": ".py",
   "mimetype": "text/x-python",
   "name": "python",
   "nbconvert_exporter": "python",
   "pygments_lexer": "ipython3",
   "version": "3.11.8"
  }
 },
 "nbformat": 4,
 "nbformat_minor": 2
}
