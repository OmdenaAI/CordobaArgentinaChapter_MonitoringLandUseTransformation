{
  "nbformat": 4,
  "nbformat_minor": 0,
  "metadata": {
    "colab": {
      "provenance": [],
      "gpuType": "T4"
    },
    "kernelspec": {
      "name": "python3",
      "display_name": "Python 3"
    },
    "language_info": {
      "name": "python"
    },
    "accelerator": "GPU"
  },
  "cells": [
    {
      "cell_type": "code",
      "execution_count": 1,
      "metadata": {
        "colab": {
          "base_uri": "https://localhost:8080/"
        },
        "id": "_GThGh4Pmdk9",
        "outputId": "a26cf0e2-0f4d-4c2f-c58c-ddc09f381367"
      },
      "outputs": [
        {
          "output_type": "stream",
          "name": "stdout",
          "text": [
            "fatal: destination path 'pytorch-change-models' already exists and is not an empty directory.\n",
            "Requirement already satisfied: ever-beta in /usr/local/lib/python3.11/dist-packages (0.5.0)\n",
            "Requirement already satisfied: numpy in /usr/local/lib/python3.11/dist-packages (from ever-beta) (1.26.4)\n",
            "Requirement already satisfied: prettytable in /usr/local/lib/python3.11/dist-packages (from ever-beta) (3.13.0)\n",
            "Requirement already satisfied: Pillow in /usr/local/lib/python3.11/dist-packages (from ever-beta) (11.1.0)\n",
            "Requirement already satisfied: albumentations>=0.4.2 in /usr/local/lib/python3.11/dist-packages (from ever-beta) (1.4.20)\n",
            "Requirement already satisfied: tensorboard>=1.14 in /usr/local/lib/python3.11/dist-packages (from ever-beta) (2.18.0)\n",
            "Requirement already satisfied: tifffile in /usr/local/lib/python3.11/dist-packages (from ever-beta) (2025.1.10)\n",
            "Requirement already satisfied: scikit-image in /usr/local/lib/python3.11/dist-packages (from ever-beta) (0.25.1)\n",
            "Requirement already satisfied: scipy in /usr/local/lib/python3.11/dist-packages (from ever-beta) (1.13.1)\n",
            "Requirement already satisfied: matplotlib in /usr/local/lib/python3.11/dist-packages (from ever-beta) (3.10.0)\n",
            "Requirement already satisfied: tqdm in /usr/local/lib/python3.11/dist-packages (from ever-beta) (4.67.1)\n",
            "Requirement already satisfied: pandas in /usr/local/lib/python3.11/dist-packages (from ever-beta) (2.2.2)\n",
            "Requirement already satisfied: PyYAML in /usr/local/lib/python3.11/dist-packages (from albumentations>=0.4.2->ever-beta) (6.0.2)\n",
            "Requirement already satisfied: pydantic>=2.7.0 in /usr/local/lib/python3.11/dist-packages (from albumentations>=0.4.2->ever-beta) (2.10.6)\n",
            "Requirement already satisfied: albucore==0.0.19 in /usr/local/lib/python3.11/dist-packages (from albumentations>=0.4.2->ever-beta) (0.0.19)\n",
            "Requirement already satisfied: eval-type-backport in /usr/local/lib/python3.11/dist-packages (from albumentations>=0.4.2->ever-beta) (0.2.2)\n",
            "Requirement already satisfied: opencv-python-headless>=4.9.0.80 in /usr/local/lib/python3.11/dist-packages (from albumentations>=0.4.2->ever-beta) (4.11.0.86)\n",
            "Requirement already satisfied: stringzilla>=3.10.4 in /usr/local/lib/python3.11/dist-packages (from albucore==0.0.19->albumentations>=0.4.2->ever-beta) (3.11.3)\n",
            "Requirement already satisfied: absl-py>=0.4 in /usr/local/lib/python3.11/dist-packages (from tensorboard>=1.14->ever-beta) (1.4.0)\n",
            "Requirement already satisfied: grpcio>=1.48.2 in /usr/local/lib/python3.11/dist-packages (from tensorboard>=1.14->ever-beta) (1.70.0)\n",
            "Requirement already satisfied: markdown>=2.6.8 in /usr/local/lib/python3.11/dist-packages (from tensorboard>=1.14->ever-beta) (3.7)\n",
            "Requirement already satisfied: packaging in /usr/local/lib/python3.11/dist-packages (from tensorboard>=1.14->ever-beta) (24.2)\n",
            "Requirement already satisfied: protobuf!=4.24.0,>=3.19.6 in /usr/local/lib/python3.11/dist-packages (from tensorboard>=1.14->ever-beta) (4.25.6)\n",
            "Requirement already satisfied: setuptools>=41.0.0 in /usr/local/lib/python3.11/dist-packages (from tensorboard>=1.14->ever-beta) (75.1.0)\n",
            "Requirement already satisfied: six>1.9 in /usr/local/lib/python3.11/dist-packages (from tensorboard>=1.14->ever-beta) (1.17.0)\n",
            "Requirement already satisfied: tensorboard-data-server<0.8.0,>=0.7.0 in /usr/local/lib/python3.11/dist-packages (from tensorboard>=1.14->ever-beta) (0.7.2)\n",
            "Requirement already satisfied: werkzeug>=1.0.1 in /usr/local/lib/python3.11/dist-packages (from tensorboard>=1.14->ever-beta) (3.1.3)\n",
            "Requirement already satisfied: contourpy>=1.0.1 in /usr/local/lib/python3.11/dist-packages (from matplotlib->ever-beta) (1.3.1)\n",
            "Requirement already satisfied: cycler>=0.10 in /usr/local/lib/python3.11/dist-packages (from matplotlib->ever-beta) (0.12.1)\n",
            "Requirement already satisfied: fonttools>=4.22.0 in /usr/local/lib/python3.11/dist-packages (from matplotlib->ever-beta) (4.55.7)\n",
            "Requirement already satisfied: kiwisolver>=1.3.1 in /usr/local/lib/python3.11/dist-packages (from matplotlib->ever-beta) (1.4.8)\n",
            "Requirement already satisfied: pyparsing>=2.3.1 in /usr/local/lib/python3.11/dist-packages (from matplotlib->ever-beta) (3.2.1)\n",
            "Requirement already satisfied: python-dateutil>=2.7 in /usr/local/lib/python3.11/dist-packages (from matplotlib->ever-beta) (2.8.2)\n",
            "Requirement already satisfied: pytz>=2020.1 in /usr/local/lib/python3.11/dist-packages (from pandas->ever-beta) (2024.2)\n",
            "Requirement already satisfied: tzdata>=2022.7 in /usr/local/lib/python3.11/dist-packages (from pandas->ever-beta) (2025.1)\n",
            "Requirement already satisfied: wcwidth in /usr/local/lib/python3.11/dist-packages (from prettytable->ever-beta) (0.2.13)\n",
            "Requirement already satisfied: networkx>=3.0 in /usr/local/lib/python3.11/dist-packages (from scikit-image->ever-beta) (3.4.2)\n",
            "Requirement already satisfied: imageio!=2.35.0,>=2.33 in /usr/local/lib/python3.11/dist-packages (from scikit-image->ever-beta) (2.36.1)\n",
            "Requirement already satisfied: lazy-loader>=0.4 in /usr/local/lib/python3.11/dist-packages (from scikit-image->ever-beta) (0.4)\n",
            "Requirement already satisfied: annotated-types>=0.6.0 in /usr/local/lib/python3.11/dist-packages (from pydantic>=2.7.0->albumentations>=0.4.2->ever-beta) (0.7.0)\n",
            "Requirement already satisfied: pydantic-core==2.27.2 in /usr/local/lib/python3.11/dist-packages (from pydantic>=2.7.0->albumentations>=0.4.2->ever-beta) (2.27.2)\n",
            "Requirement already satisfied: typing-extensions>=4.12.2 in /usr/local/lib/python3.11/dist-packages (from pydantic>=2.7.0->albumentations>=0.4.2->ever-beta) (4.12.2)\n",
            "Requirement already satisfied: MarkupSafe>=2.1.1 in /usr/local/lib/python3.11/dist-packages (from werkzeug>=1.0.1->tensorboard>=1.14->ever-beta) (3.0.2)\n"
          ]
        }
      ],
      "source": [
        "!git clone https://github.com/Z-Zheng/pytorch-change-models.git\n",
        "!pip install ever-beta"
      ]
    },
    {
      "cell_type": "code",
      "source": [
        "%cd pytorch-change-models"
      ],
      "metadata": {
        "colab": {
          "base_uri": "https://localhost:8080/"
        },
        "id": "TFuxYwNIvt7y",
        "outputId": "e0bb2eed-66e5-41ff-f74e-4101b249b7f7"
      },
      "execution_count": 2,
      "outputs": [
        {
          "output_type": "stream",
          "name": "stdout",
          "text": [
            "/content/pytorch-change-models\n"
          ]
        }
      ]
    },
    {
      "cell_type": "code",
      "source": [
        "from torchange.models.changen2 import changestar_1x256\n",
        "\n",
        "model = changestar_1x256(backbone_type=\"vitb\", modeling_type=\"s1c1\", changen2_pretrained=\"s0\")"
      ],
      "metadata": {
        "colab": {
          "base_uri": "https://localhost:8080/"
        },
        "id": "4t-PMc2GmlSR",
        "outputId": "ab55cb4e-5169-4f0b-fe8b-1b86d200c7b3"
      },
      "execution_count": 3,
      "outputs": [
        {
          "output_type": "stream",
          "name": "stderr",
          "text": [
            "/usr/local/lib/python3.11/dist-packages/albumentations/__init__.py:24: UserWarning: A new version of Albumentations is available: 2.0.2 (you have 1.4.20). Upgrade using: pip install -U albumentations. To disable automatic update checks, set the environment variable NO_ALBUMENTATIONS_UPDATE to 1.\n",
            "  check_for_updates()\n",
            "/usr/local/lib/python3.11/dist-packages/timm/models/layers/__init__.py:48: FutureWarning: Importing from timm.models.layers is deprecated, please import via timm.layers\n",
            "  warnings.warn(f\"Importing from {__name__} is deprecated, please import via timm.layers\", FutureWarning)\n",
            "/usr/local/lib/python3.11/dist-packages/huggingface_hub/utils/_auth.py:94: UserWarning: \n",
            "The secret `HF_TOKEN` does not exist in your Colab secrets.\n",
            "To authenticate with the Hugging Face Hub, create a token in your settings tab (https://huggingface.co/settings/tokens), set it as secret in your Google Colab and restart your session.\n",
            "You will be able to reuse this secret in all of your notebooks.\n",
            "Please note that authentication is recommended but still optional to access public models or datasets.\n",
            "  warnings.warn(\n",
            "/content/pytorch-change-models/torchange/models/changen2/_changestar_1x256.py:52: FutureWarning: You are using `torch.load` with `weights_only=False` (the current default value), which uses the default pickle module implicitly. It is possible to construct malicious pickle data which will execute arbitrary code during unpickling (See https://github.com/pytorch/pytorch/blob/main/SECURITY.md#untrusted-models for more details). In a future release, the default value for `weights_only` will be flipped to `True`. This limits the functions that could be executed during unpickling. Arbitrary objects will no longer be allowed to be loaded via this mode unless they are explicitly allowlisted by the user via `torch.serialization.add_safe_globals`. We recommend you start setting `weights_only=True` for any use case where you don't have full control of the loaded file. Please open an issue on GitHub for any issues related to this experimental feature.\n",
            "  model.load_state_dict(torch.load(weights, map_location=torch.device('cpu')), strict=changen2_pretrained != 's0')\n",
            "2025-02-01 10:27:50, INFO:EVER:Load Changen2 pre-trained weight from EVER-Z/Changen2-ChangeStar1x256/s0_cstar_vitb_1x256.pth\n",
            "2025-02-01 10:27:50, INFO:EVER:architecture: changestar_1x256 | backbone: vitb | pre-trained data: Changen2-S0-1.2M\n"
          ]
        }
      ]
    },
    {
      "cell_type": "code",
      "source": [
        "print(model)"
      ],
      "metadata": {
        "colab": {
          "base_uri": "https://localhost:8080/"
        },
        "id": "V20SIwKq9Y1t",
        "outputId": "ca71cee7-d058-4714-f115-22edbdcb4887"
      },
      "execution_count": 4,
      "outputs": [
        {
          "output_type": "stream",
          "name": "stdout",
          "text": [
            "ChangeStar1xd(\n",
            "  (encoder): SAMEncoderFarSeg(\n",
            "    (vit): ImageEncoderViT(\n",
            "      (patch_embed): PatchEmbed(\n",
            "        (proj): Conv2d(3, 768, kernel_size=(16, 16), stride=(16, 16))\n",
            "      )\n",
            "      (blocks): ModuleList(\n",
            "        (0-11): 12 x Block(\n",
            "          (norm1): LayerNorm((768,), eps=1e-06, elementwise_affine=True)\n",
            "          (attn): Attention(\n",
            "            (qkv): Linear(in_features=768, out_features=2304, bias=True)\n",
            "            (proj): Linear(in_features=768, out_features=768, bias=True)\n",
            "            (attn_drop): Dropout(p=0.0, inplace=False)\n",
            "          )\n",
            "          (norm2): LayerNorm((768,), eps=1e-06, elementwise_affine=True)\n",
            "          (mlp): MLPBlock(\n",
            "            (lin1): Linear(in_features=768, out_features=3072, bias=True)\n",
            "            (lin2): Linear(in_features=3072, out_features=768, bias=True)\n",
            "            (act): GELU(approximate='none')\n",
            "          )\n",
            "          (drop_path): Identity()\n",
            "        )\n",
            "      )\n",
            "      (neck): Sequential(\n",
            "        (0): Conv2d(768, 256, kernel_size=(1, 1), stride=(1, 1), bias=False)\n",
            "        (1): LayerNorm2d()\n",
            "        (2): Conv2d(256, 256, kernel_size=(3, 3), stride=(1, 1), padding=(1, 1), bias=False)\n",
            "        (3): LayerNorm2d()\n",
            "      )\n",
            "    )\n",
            "    (sfp): SimpleFeaturePyramid(\n",
            "      (simfp_2): Sequential(\n",
            "        (0): ConvTranspose2d(256, 128, kernel_size=(2, 2), stride=(2, 2))\n",
            "        (1): LayerNorm2d()\n",
            "        (2): GELU(approximate='none')\n",
            "        (3): ConvTranspose2d(128, 64, kernel_size=(2, 2), stride=(2, 2))\n",
            "        (4): Sequential(\n",
            "          (0): Conv2d(64, 256, kernel_size=(1, 1), stride=(1, 1), bias=False)\n",
            "          (1): LayerNorm2d()\n",
            "        )\n",
            "        (5): Sequential(\n",
            "          (0): Conv2d(256, 256, kernel_size=(1, 1), stride=(1, 1), bias=False)\n",
            "          (1): LayerNorm2d()\n",
            "        )\n",
            "      )\n",
            "      (simfp_3): Sequential(\n",
            "        (0): ConvTranspose2d(256, 128, kernel_size=(2, 2), stride=(2, 2))\n",
            "        (1): Sequential(\n",
            "          (0): Conv2d(128, 256, kernel_size=(1, 1), stride=(1, 1), bias=False)\n",
            "          (1): LayerNorm2d()\n",
            "        )\n",
            "        (2): Sequential(\n",
            "          (0): Conv2d(256, 256, kernel_size=(1, 1), stride=(1, 1), bias=False)\n",
            "          (1): LayerNorm2d()\n",
            "        )\n",
            "      )\n",
            "      (simfp_4): Sequential(\n",
            "        (0): Sequential(\n",
            "          (0): Conv2d(256, 256, kernel_size=(1, 1), stride=(1, 1), bias=False)\n",
            "          (1): LayerNorm2d()\n",
            "        )\n",
            "        (1): Sequential(\n",
            "          (0): Conv2d(256, 256, kernel_size=(1, 1), stride=(1, 1), bias=False)\n",
            "          (1): LayerNorm2d()\n",
            "        )\n",
            "      )\n",
            "      (simfp_5): Sequential(\n",
            "        (0): MaxPool2d(kernel_size=2, stride=2, padding=0, dilation=1, ceil_mode=False)\n",
            "        (1): Sequential(\n",
            "          (0): Conv2d(256, 256, kernel_size=(1, 1), stride=(1, 1), bias=False)\n",
            "          (1): LayerNorm2d()\n",
            "        )\n",
            "        (2): Sequential(\n",
            "          (0): Conv2d(256, 256, kernel_size=(1, 1), stride=(1, 1), bias=False)\n",
            "          (1): LayerNorm2d()\n",
            "        )\n",
            "      )\n",
            "    )\n",
            "    (farseg): FarSegMixin(\n",
            "      (fpn): FPN(\n",
            "        (fpn_inner1): ConvBlock(\n",
            "          (0): Conv2d(256, 256, kernel_size=(1, 1), stride=(1, 1), bias=False)\n",
            "          (1): Identity()\n",
            "          (2): Identity()\n",
            "        )\n",
            "        (fpn_layer1): ConvBlock(\n",
            "          (0): Conv2d(256, 256, kernel_size=(3, 3), stride=(1, 1), padding=(1, 1), bias=False)\n",
            "          (1): Identity()\n",
            "          (2): Identity()\n",
            "        )\n",
            "        (fpn_inner2): ConvBlock(\n",
            "          (0): Conv2d(256, 256, kernel_size=(1, 1), stride=(1, 1), bias=False)\n",
            "          (1): Identity()\n",
            "          (2): Identity()\n",
            "        )\n",
            "        (fpn_layer2): ConvBlock(\n",
            "          (0): Conv2d(256, 256, kernel_size=(3, 3), stride=(1, 1), padding=(1, 1), bias=False)\n",
            "          (1): Identity()\n",
            "          (2): Identity()\n",
            "        )\n",
            "        (fpn_inner3): ConvBlock(\n",
            "          (0): Conv2d(256, 256, kernel_size=(1, 1), stride=(1, 1), bias=False)\n",
            "          (1): Identity()\n",
            "          (2): Identity()\n",
            "        )\n",
            "        (fpn_layer3): ConvBlock(\n",
            "          (0): Conv2d(256, 256, kernel_size=(3, 3), stride=(1, 1), padding=(1, 1), bias=False)\n",
            "          (1): Identity()\n",
            "          (2): Identity()\n",
            "        )\n",
            "        (fpn_inner4): ConvBlock(\n",
            "          (0): Conv2d(256, 256, kernel_size=(1, 1), stride=(1, 1), bias=False)\n",
            "          (1): Identity()\n",
            "          (2): Identity()\n",
            "        )\n",
            "        (fpn_layer4): ConvBlock(\n",
            "          (0): Conv2d(256, 256, kernel_size=(3, 3), stride=(1, 1), padding=(1, 1), bias=False)\n",
            "          (1): Identity()\n",
            "          (2): Identity()\n",
            "        )\n",
            "      )\n",
            "      (fsr): FSRelationV3(\n",
            "        (scene_encoder): ModuleList(\n",
            "          (0-3): 4 x Sequential(\n",
            "            (0): Conv2d(256, 256, kernel_size=(1, 1), stride=(1, 1))\n",
            "            (1): LayerNorm2d()\n",
            "            (2): GELU(approximate='none')\n",
            "            (3): Conv2d(256, 256, kernel_size=(1, 1), stride=(1, 1))\n",
            "            (4): LayerNorm2d()\n",
            "            (5): GELU(approximate='none')\n",
            "          )\n",
            "        )\n",
            "        (project): ModuleList(\n",
            "          (0-3): 4 x Sequential(\n",
            "            (0): Conv2d(512, 256, kernel_size=(1, 1), stride=(1, 1), bias=False)\n",
            "            (1): LayerNorm2d()\n",
            "            (2): GELU(approximate='none')\n",
            "            (3): Dropout2d(p=0.1, inplace=False)\n",
            "          )\n",
            "        )\n",
            "        (content_encoders): ModuleList(\n",
            "          (0-3): 4 x Sequential(\n",
            "            (0): Conv2d(256, 256, kernel_size=(1, 1), stride=(1, 1))\n",
            "            (1): LayerNorm2d()\n",
            "            (2): GELU(approximate='none')\n",
            "          )\n",
            "        )\n",
            "        (feature_reencoders): ModuleList(\n",
            "          (0-3): 4 x Sequential(\n",
            "            (0): Conv2d(256, 256, kernel_size=(1, 1), stride=(1, 1))\n",
            "            (1): LayerNorm2d()\n",
            "            (2): GELU(approximate='none')\n",
            "          )\n",
            "        )\n",
            "        (normalizer): Sigmoid()\n",
            "      )\n",
            "      (dec): AssymetricDecoder(\n",
            "        (blocks): ModuleList(\n",
            "          (0): Sequential(\n",
            "            (0): Sequential(\n",
            "              (0): Conv2d(256, 256, kernel_size=(3, 3), stride=(1, 1), padding=(1, 1), bias=False)\n",
            "              (1): LayerNorm2d()\n",
            "              (2): GELU(approximate='none')\n",
            "              (3): Identity()\n",
            "            )\n",
            "          )\n",
            "          (1): Sequential(\n",
            "            (0): Sequential(\n",
            "              (0): Conv2d(256, 256, kernel_size=(3, 3), stride=(1, 1), padding=(1, 1), bias=False)\n",
            "              (1): LayerNorm2d()\n",
            "              (2): GELU(approximate='none')\n",
            "              (3): Bf16compatible(\n",
            "                (_inner_module): UpsamplingBilinear2d(scale_factor=2.0, mode='bilinear')\n",
            "              )\n",
            "            )\n",
            "          )\n",
            "          (2): Sequential(\n",
            "            (0): Sequential(\n",
            "              (0): Conv2d(256, 256, kernel_size=(3, 3), stride=(1, 1), padding=(1, 1), bias=False)\n",
            "              (1): LayerNorm2d()\n",
            "              (2): GELU(approximate='none')\n",
            "              (3): Bf16compatible(\n",
            "                (_inner_module): UpsamplingBilinear2d(scale_factor=2.0, mode='bilinear')\n",
            "              )\n",
            "            )\n",
            "            (1): Sequential(\n",
            "              (0): Conv2d(256, 256, kernel_size=(3, 3), stride=(1, 1), padding=(1, 1), bias=False)\n",
            "              (1): LayerNorm2d()\n",
            "              (2): GELU(approximate='none')\n",
            "              (3): Bf16compatible(\n",
            "                (_inner_module): UpsamplingBilinear2d(scale_factor=2.0, mode='bilinear')\n",
            "              )\n",
            "            )\n",
            "          )\n",
            "          (3): Sequential(\n",
            "            (0): Sequential(\n",
            "              (0): Conv2d(256, 256, kernel_size=(3, 3), stride=(1, 1), padding=(1, 1), bias=False)\n",
            "              (1): LayerNorm2d()\n",
            "              (2): GELU(approximate='none')\n",
            "              (3): Bf16compatible(\n",
            "                (_inner_module): UpsamplingBilinear2d(scale_factor=2.0, mode='bilinear')\n",
            "              )\n",
            "            )\n",
            "            (1): Sequential(\n",
            "              (0): Conv2d(256, 256, kernel_size=(3, 3), stride=(1, 1), padding=(1, 1), bias=False)\n",
            "              (1): LayerNorm2d()\n",
            "              (2): GELU(approximate='none')\n",
            "              (3): Bf16compatible(\n",
            "                (_inner_module): UpsamplingBilinear2d(scale_factor=2.0, mode='bilinear')\n",
            "              )\n",
            "            )\n",
            "            (2): Sequential(\n",
            "              (0): Conv2d(256, 256, kernel_size=(3, 3), stride=(1, 1), padding=(1, 1), bias=False)\n",
            "              (1): LayerNorm2d()\n",
            "              (2): GELU(approximate='none')\n",
            "              (3): Bf16compatible(\n",
            "                (_inner_module): UpsamplingBilinear2d(scale_factor=2.0, mode='bilinear')\n",
            "              )\n",
            "            )\n",
            "          )\n",
            "        )\n",
            "      )\n",
            "    )\n",
            "  )\n",
            "  (head): ChangeMixinBiSupN1(\n",
            "    (conv): Sequential(\n",
            "      (0): Conv2d(512, 256, kernel_size=(3, 3), stride=(1, 1), padding=(1, 1), bias=False)\n",
            "      (1): LayerNorm2d()\n",
            "      (2): GELU(approximate='none')\n",
            "    )\n",
            "    (change_conv): ConvUpsampling(\n",
            "      (0): Conv2d(256, 1, kernel_size=(1, 1), stride=(1, 1))\n",
            "      (1): Bf16compatible(\n",
            "        (_inner_module): UpsamplingBilinear2d(scale_factor=4.0, mode='bilinear')\n",
            "      )\n",
            "    )\n",
            "    (semantic_conv): ConvUpsampling(\n",
            "      (0): Conv2d(256, 1, kernel_size=(1, 1), stride=(1, 1))\n",
            "      (1): Bf16compatible(\n",
            "        (_inner_module): UpsamplingBilinear2d(scale_factor=4.0, mode='bilinear')\n",
            "      )\n",
            "    )\n",
            "  )\n",
            ")\n"
          ]
        }
      ]
    },
    {
      "cell_type": "code",
      "source": [
        "from google.colab import drive\n",
        "drive.mount('/content/drive/')"
      ],
      "metadata": {
        "colab": {
          "base_uri": "https://localhost:8080/"
        },
        "id": "6a40gRmxoqM3",
        "outputId": "3204e0dd-188e-4303-9df6-acb9794c294e"
      },
      "execution_count": 5,
      "outputs": [
        {
          "output_type": "stream",
          "name": "stdout",
          "text": [
            "Drive already mounted at /content/drive/; to attempt to forcibly remount, call drive.mount(\"/content/drive/\", force_remount=True).\n"
          ]
        }
      ]
    },
    {
      "cell_type": "markdown",
      "source": [
        "## Single Data Test"
      ],
      "metadata": {
        "id": "6D5uBQijwiAQ"
      }
    },
    {
      "cell_type": "code",
      "source": [
        "import torch\n",
        "from PIL import Image\n",
        "import numpy as np\n",
        "\n",
        "t1_path = \"/content/drive/MyDrive/Datasets/test_data/t1_rgb/0016.png\"\n",
        "t2_path = \"/content/drive/MyDrive/Datasets/test_data/t2_rgb/0016.png\"\n",
        "\n",
        "# Load the images\n",
        "t1_image = Image.open(t1_path)\n",
        "t2_image = Image.open(t2_path)\n",
        "\n",
        "\n",
        "# Convert the images to numpy arrays\n",
        "t1_array = np.array(t1_image).astype(np.float32) / 255.0\n",
        "t2_array = np.array(t2_image).astype(np.float32) / 255.0\n",
        "\n",
        "# Reorder the dimensions to (channels, height, width)\n",
        "t1_array = torch.tensor(np.transpose(t1_array, (2, 0, 1)))  # (height, width, channels) -> (channels, height, width)\n",
        "t2_array = torch.tensor(np.transpose(t2_array, (2, 0, 1)))  # (height, width, channels) -> (channels, height, width)\n",
        "\n",
        "# Verify the shape\n",
        "print(f\"t1_array shape: {t1_array.shape}\")\n",
        "print(f\"t2_array shape: {t2_array.shape}\")"
      ],
      "metadata": {
        "colab": {
          "base_uri": "https://localhost:8080/"
        },
        "id": "yrvL4U7GvmAE",
        "outputId": "8ba90e0a-da6f-45c3-f7cf-87b80df0f34a"
      },
      "execution_count": 6,
      "outputs": [
        {
          "output_type": "stream",
          "name": "stdout",
          "text": [
            "t1_array shape: torch.Size([3, 512, 512])\n",
            "t2_array shape: torch.Size([3, 512, 512])\n"
          ]
        }
      ]
    },
    {
      "cell_type": "code",
      "source": [
        "bi_images = torch.cat([t1_array.unsqueeze(0), t2_array.unsqueeze(0)], dim=1)  # [b, tc, h, w]\n",
        "bi_images.shape"
      ],
      "metadata": {
        "colab": {
          "base_uri": "https://localhost:8080/"
        },
        "id": "FmRP0NeTxaSA",
        "outputId": "d43ddc7a-5313-40e0-e78d-b274cab16d30"
      },
      "execution_count": 7,
      "outputs": [
        {
          "output_type": "execute_result",
          "data": {
            "text/plain": [
              "torch.Size([1, 6, 512, 512])"
            ]
          },
          "metadata": {},
          "execution_count": 7
        }
      ]
    },
    {
      "cell_type": "code",
      "source": [
        "bi_images = bi_images.float()\n",
        "bi_images"
      ],
      "metadata": {
        "colab": {
          "base_uri": "https://localhost:8080/"
        },
        "id": "vl3jj5UlyDQg",
        "outputId": "5c39d376-44e6-4cb6-c76c-159371c8486a"
      },
      "execution_count": 8,
      "outputs": [
        {
          "output_type": "execute_result",
          "data": {
            "text/plain": [
              "tensor([[[[0.1098, 0.0941, 0.0980,  ..., 0.0745, 0.0824, 0.0667],\n",
              "          [0.1020, 0.0980, 0.0980,  ..., 0.0863, 0.0706, 0.0667],\n",
              "          [0.0706, 0.0706, 0.0706,  ..., 0.0706, 0.0706, 0.0706],\n",
              "          ...,\n",
              "          [0.2039, 0.1412, 0.0824,  ..., 0.1490, 0.1255, 0.0824],\n",
              "          [0.1647, 0.1216, 0.0706,  ..., 0.1451, 0.1216, 0.0667],\n",
              "          [0.1373, 0.0902, 0.0784,  ..., 0.1059, 0.0941, 0.0549]],\n",
              "\n",
              "         [[0.1098, 0.0941, 0.0863,  ..., 0.0745, 0.0863, 0.0627],\n",
              "          [0.0784, 0.0863, 0.0784,  ..., 0.0902, 0.0745, 0.0706],\n",
              "          [0.0784, 0.0784, 0.0784,  ..., 0.0824, 0.0784, 0.0784],\n",
              "          ...,\n",
              "          [0.1922, 0.1647, 0.1451,  ..., 0.1529, 0.1294, 0.0863],\n",
              "          [0.1765, 0.1608, 0.1412,  ..., 0.1137, 0.1098, 0.0667],\n",
              "          [0.1686, 0.1529, 0.1490,  ..., 0.0824, 0.0784, 0.0549]],\n",
              "\n",
              "         [[0.0667, 0.0549, 0.0627,  ..., 0.0471, 0.0549, 0.0392],\n",
              "          [0.0471, 0.0510, 0.0471,  ..., 0.0549, 0.0510, 0.0392],\n",
              "          [0.0431, 0.0431, 0.0510,  ..., 0.0471, 0.0392, 0.0471],\n",
              "          ...,\n",
              "          [0.1216, 0.1059, 0.0667,  ..., 0.0941, 0.0784, 0.0510],\n",
              "          [0.0980, 0.0941, 0.0510,  ..., 0.0824, 0.0667, 0.0431],\n",
              "          [0.0902, 0.0745, 0.0471,  ..., 0.0549, 0.0510, 0.0392]],\n",
              "\n",
              "         [[0.2549, 0.2353, 0.1922,  ..., 0.0824, 0.0902, 0.0706],\n",
              "          [0.2000, 0.2039, 0.1922,  ..., 0.0941, 0.0902, 0.0627],\n",
              "          [0.1843, 0.1765, 0.1647,  ..., 0.0824, 0.0627, 0.0588],\n",
              "          ...,\n",
              "          [0.2902, 0.2000, 0.1647,  ..., 0.1569, 0.1333, 0.1176],\n",
              "          [0.2314, 0.2000, 0.1804,  ..., 0.1882, 0.1294, 0.0902],\n",
              "          [0.1882, 0.1882, 0.1843,  ..., 0.1216, 0.0902, 0.0667]],\n",
              "\n",
              "         [[0.1804, 0.1843, 0.1725,  ..., 0.0941, 0.1059, 0.0824],\n",
              "          [0.1412, 0.1569, 0.1529,  ..., 0.1098, 0.1020, 0.0824],\n",
              "          [0.1412, 0.1412, 0.1490,  ..., 0.0980, 0.0980, 0.0902],\n",
              "          ...,\n",
              "          [0.2471, 0.2078, 0.1961,  ..., 0.1608, 0.1529, 0.1176],\n",
              "          [0.2078, 0.1843, 0.1961,  ..., 0.1686, 0.1333, 0.0902],\n",
              "          [0.1843, 0.1725, 0.1804,  ..., 0.1137, 0.0980, 0.0784]],\n",
              "\n",
              "         [[0.1255, 0.1333, 0.1059,  ..., 0.0588, 0.0667, 0.0510],\n",
              "          [0.0784, 0.0902, 0.0863,  ..., 0.0627, 0.0588, 0.0510],\n",
              "          [0.0667, 0.0745, 0.0549,  ..., 0.0588, 0.0510, 0.0549],\n",
              "          ...,\n",
              "          [0.1647, 0.1333, 0.1059,  ..., 0.1176, 0.1137, 0.0745],\n",
              "          [0.1373, 0.1176, 0.1216,  ..., 0.1098, 0.0902, 0.0667],\n",
              "          [0.1020, 0.1059, 0.1137,  ..., 0.0706, 0.0627, 0.0471]]]])"
            ]
          },
          "metadata": {},
          "execution_count": 8
        }
      ]
    },
    {
      "cell_type": "code",
      "source": [
        "model.training = False\n",
        "predictions = model(bi_images)\n",
        "change_logit = predictions['change_prediction'].to(torch.float32)  # [b, 1, h, w]"
      ],
      "metadata": {
        "id": "hjWhHNyuxkbT"
      },
      "execution_count": 9,
      "outputs": []
    },
    {
      "cell_type": "code",
      "source": [
        "change_logit"
      ],
      "metadata": {
        "colab": {
          "base_uri": "https://localhost:8080/"
        },
        "id": "U98bUp51yLhF",
        "outputId": "3da945ea-c42a-49a3-e103-bf53b13da144"
      },
      "execution_count": 10,
      "outputs": [
        {
          "output_type": "execute_result",
          "data": {
            "text/plain": [
              "tensor([[[[ -4.3287,  -4.0369,  -3.7450,  ..., -10.0186,  -9.9824,  -9.9463],\n",
              "          [ -4.7808,  -4.6063,  -4.4318,  ..., -10.1676, -10.0980, -10.0285],\n",
              "          [ -5.2329,  -5.1758,  -5.1187,  ..., -10.3165, -10.2136, -10.1106],\n",
              "          ...,\n",
              "          [ -0.3197,  -0.6921,  -1.0645,  ..., -12.4711, -13.0433, -13.6155],\n",
              "          [  0.5101,  -0.0974,  -0.7048,  ..., -12.0322, -12.7063, -13.3805],\n",
              "          [  1.3399,   0.4974,  -0.3452,  ..., -11.5932, -12.3694, -13.1455]]]],\n",
              "       grad_fn=<UpsampleBilinear2DBackward0>)"
            ]
          },
          "metadata": {},
          "execution_count": 10
        }
      ]
    },
    {
      "cell_type": "code",
      "source": [
        "change_logit.shape"
      ],
      "metadata": {
        "colab": {
          "base_uri": "https://localhost:8080/"
        },
        "id": "AGbWmIZRCDYo",
        "outputId": "e3c29d32-d262-4fd6-d890-2cf73835de88"
      },
      "execution_count": 11,
      "outputs": [
        {
          "output_type": "execute_result",
          "data": {
            "text/plain": [
              "torch.Size([1, 1, 512, 512])"
            ]
          },
          "metadata": {},
          "execution_count": 11
        }
      ]
    },
    {
      "cell_type": "code",
      "source": [
        "change_prob = torch.sigmoid(change_logit)"
      ],
      "metadata": {
        "id": "_cQh2avyCmmM"
      },
      "execution_count": 12,
      "outputs": []
    },
    {
      "cell_type": "code",
      "source": [
        "print(change_prob)"
      ],
      "metadata": {
        "colab": {
          "base_uri": "https://localhost:8080/"
        },
        "id": "cYVwjjPTCqlq",
        "outputId": "2736e104-a17d-49bf-a255-d91a11f7fe1b"
      },
      "execution_count": 13,
      "outputs": [
        {
          "output_type": "stream",
          "name": "stdout",
          "text": [
            "tensor([[[[1.3013e-02, 1.7347e-02, 2.3090e-02,  ..., 4.4562e-05,\n",
            "           4.6203e-05, 4.7904e-05],\n",
            "          [8.3192e-03, 9.8895e-03, 1.1753e-02,  ..., 3.8395e-05,\n",
            "           4.1160e-05, 4.4124e-05],\n",
            "          [5.3094e-03, 5.6198e-03, 5.9483e-03,  ..., 3.3081e-05,\n",
            "           3.6668e-05, 4.0643e-05],\n",
            "          ...,\n",
            "          [4.2074e-01, 3.3356e-01, 2.5645e-01,  ..., 3.8359e-06,\n",
            "           2.1645e-06, 1.2214e-06],\n",
            "          [6.2483e-01, 4.7568e-01, 3.3074e-01,  ..., 5.9497e-06,\n",
            "           3.0318e-06, 1.5450e-06],\n",
            "          [7.9248e-01, 6.2184e-01, 4.1455e-01,  ..., 9.2281e-06,\n",
            "           4.2466e-06, 1.9542e-06]]]], grad_fn=<SigmoidBackward0>)\n"
          ]
        }
      ]
    },
    {
      "cell_type": "code",
      "source": [
        "# Assuming change_prob is a 4D tensor with shape [batch_size, 1, height, width]\n",
        "# Apply a threshold to get the binary mask (threshold is commonly set to 0.5)\n",
        "binary_mask = (change_prob >= 0.5).float()  # Thresholding the probabilities at 0.5\n",
        "\n",
        "# You can convert to uint8 for display purposes (values will be 0 or 1)\n",
        "binary_mask_uint8 = (binary_mask * 255).to(torch.uint8)  # Convert to 0 or 255 for image display\n",
        "\n",
        "# Since we have a batch dimension, we can take the first image (batch[0]) and the first channel (change prediction)\n",
        "binary_mask_image = binary_mask_uint8[0, 0, :, :].cpu().numpy()  # Convert to NumPy array for plotting\n"
      ],
      "metadata": {
        "id": "EsKu2iVf0fW7"
      },
      "execution_count": 14,
      "outputs": []
    },
    {
      "cell_type": "code",
      "source": [
        "import matplotlib.pyplot as plt\n",
        "\n",
        "# Display the binary mask\n",
        "plt.imshow(binary_mask_image, cmap='gray')\n",
        "plt.title(\"Binary Mask\")\n",
        "plt.axis(\"off\")  # Hide the axes for cleaner display\n",
        "plt.show()"
      ],
      "metadata": {
        "colab": {
          "base_uri": "https://localhost:8080/",
          "height": 428
        },
        "id": "SDim7Jx000GC",
        "outputId": "87cc40c2-bcec-4843-874a-924f11d4d67e"
      },
      "execution_count": 15,
      "outputs": [
        {
          "output_type": "display_data",
          "data": {
            "text/plain": [
              "<Figure size 640x480 with 1 Axes>"
            ],
            "image/png": "[encoded data removed]"
          },
          "metadata": {}
        }
      ]
    },
    {
      "cell_type": "markdown",
      "source": [
        "## Batch Evaluation"
      ],
      "metadata": {
        "id": "uCAOHwaZ7lfb"
      }
    },
    {
      "cell_type": "code",
      "source": [
        "import os\n",
        "import json\n",
        "import imageio.v3 as imageio\n",
        "from sklearn.metrics import (\n",
        "    jaccard_score, f1_score, precision_score, recall_score, accuracy_score, cohen_kappa_score\n",
        ")"
      ],
      "metadata": {
        "id": "p2LuBKCi02EB"
      },
      "execution_count": 16,
      "outputs": []
    },
    {
      "cell_type": "code",
      "source": [
        "# Paths and model setup\n",
        "base_path = '/content/drive/MyDrive/Datasets/test_data/'\n",
        "t1_path = os.path.join(base_path, 't1_rgb')\n",
        "t2_path = os.path.join(base_path, 't2_rgb')\n",
        "gt_path = os.path.join(base_path, 'gt_grayscale')\n",
        "test_out_path = \"/content/drive/MyDrive/Datasets/test_data/\"\n",
        "metrics_out_file = os.path.join(test_out_path, \"metrics_results.json\")"
      ],
      "metadata": {
        "id": "6t5H5wrc7oDO"
      },
      "execution_count": 17,
      "outputs": []
    },
    {
      "cell_type": "code",
      "source": [
        "# Evaluation metrics function\n",
        "def evaluate_metrics(predicted, ground_truth):\n",
        "    # Flatten both arrays\n",
        "    predicted = predicted.flatten()\n",
        "    ground_truth = ground_truth.flatten()\n",
        "\n",
        "    # Normalize to binary labels if necessary (0 and 1)\n",
        "    if 255 in predicted or 255 in ground_truth:\n",
        "        predicted = (predicted / 255).astype(int)\n",
        "        ground_truth = (ground_truth / 255).astype(int)\n",
        "\n",
        "    # Calculate metrics\n",
        "    metrics = {\n",
        "        \"Jaccard Index (IoU)\": jaccard_score(ground_truth, predicted, average=\"binary\"),\n",
        "        \"F1 Score\": f1_score(ground_truth, predicted, average=\"binary\"),\n",
        "        \"Precision\": precision_score(ground_truth, predicted, average=\"binary\"),\n",
        "        \"Recall\": recall_score(ground_truth, predicted, average=\"binary\"),\n",
        "        \"Accuracy\": accuracy_score(ground_truth, predicted),\n",
        "        \"Cohen's Kappa Score\": cohen_kappa_score(ground_truth, predicted)\n",
        "    }\n",
        "    return metrics"
      ],
      "metadata": {
        "id": "0VCsnh6-8TvS"
      },
      "execution_count": 18,
      "outputs": []
    },
    {
      "cell_type": "code",
      "source": [
        "# Initialize variables to track the sum of each metric\n",
        "metric_sums = {\n",
        "    \"Jaccard Index (IoU)\": 0,\n",
        "    \"F1 Score\": 0,\n",
        "    \"Precision\": 0,\n",
        "    \"Recall\": 0,\n",
        "    \"Accuracy\": 0,\n",
        "    \"Cohen's Kappa Score\": 0\n",
        "}\n",
        "\n",
        "# Total number of images processed\n",
        "num_images = 0\n",
        "all_metrics = {}\n",
        "\n",
        "for filename in os.listdir(t1_path):\n",
        "    t1_image_path = os.path.join(t1_path, filename)\n",
        "    t2_image_path = os.path.join(t2_path, filename)\n",
        "    gt_image_path = os.path.join(gt_path, filename)\n",
        "\n",
        "    # Check if corresponding files exist\n",
        "    if not os.path.isfile(t2_image_path) or not os.path.isfile(gt_image_path):\n",
        "        print(f\"Missing corresponding file for {filename}\")\n",
        "        continue\n",
        "\n",
        "   # Load the images\n",
        "    t1_image = Image.open(t1_image_path)\n",
        "    t2_image = Image.open(t2_image_path)\n",
        "    gt_image = Image.open(gt_image_path)\n",
        "\n",
        "\n",
        "    # Convert the images to numpy arrays\n",
        "    t1_array = np.array(t1_image).astype(np.float32)\n",
        "    t2_array = np.array(t2_image).astype(np.float32)\n",
        "    gt_image = np.array(gt_image)\n",
        "\n",
        "    # Reorder the dimensions to (channels, height, width)\n",
        "    t1_array = torch.tensor(np.transpose(t1_array, (2, 0, 1)))  # (height, width, channels) -> (channels, height, width)\n",
        "    t2_array = torch.tensor(np.transpose(t2_array, (2, 0, 1)))  # (height, width, channels) -> (channels, height, width)\n",
        "\n",
        "    bi_images = torch.cat([t1_array.unsqueeze(0), t2_array.unsqueeze(0)], dim=1)\n",
        "    bi_images = bi_images.float()\n",
        "\n",
        "    # Model prediction\n",
        "    predictions = model(bi_images)\n",
        "    change_logit = predictions['change_prediction'].to(torch.float32)  # [b, 1, h, w]]\n",
        "    change_prob = torch.sigmoid(change_logit)\n",
        "\n",
        "    # Assuming change_prob is a 4D tensor with shape [batch_size, 1, height, width]\n",
        "    # Apply a threshold to get the binary mask (threshold is commonly set to 0.5)\n",
        "    binary_mask = (change_prob >= 0.5).float()  # Thresholding the probabilities at 0.5\n",
        "\n",
        "    # You can convert to uint8 for display purposes (values will be 0 or 1)\n",
        "    binary_mask_uint8 = (binary_mask * 255).to(torch.uint8)  # Convert to 0 or 255 for image display\n",
        "\n",
        "    # Since we have a batch dimension, we can take the first image (batch[0]) and the first channel (change prediction)\n",
        "    binary_mask_image = binary_mask_uint8[0, 0, :, :].cpu().numpy()  # Convert to NumPy array for plotting\n",
        "\n",
        "\n",
        "    # Save the output change map for visualization\n",
        "    imageio.imwrite(os.path.join(test_out_path, f\"{filename}_change.png\"), binary_mask_image)\n",
        "\n",
        "    # Evaluate metrics\n",
        "    metrics = evaluate_metrics(binary_mask_image, gt_image)\n",
        "    print(f\"Metrics for {filename}: {metrics}\")\n",
        "\n",
        "    # Save metrics for this image\n",
        "    all_metrics[filename] = metrics\n",
        "\n",
        "    # Add metrics to the sums\n",
        "    for metric_name in metrics:\n",
        "        metric_sums[metric_name] += metrics[metric_name]\n",
        "\n",
        "    num_images += 1\n",
        "\n",
        "# Calculate the average of each metric\n",
        "if num_images > 0:\n",
        "    avg_metrics = {metric: metric_sums[metric] / num_images for metric in metric_sums}\n",
        "    print(\"\\nAverage Metrics:\")\n",
        "    for metric, avg_value in avg_metrics.items():\n",
        "        print(f\"{metric}: {avg_value:.4f}\")\n",
        "\n",
        "    # Save metrics to JSON\n",
        "    all_metrics[\"Average\"] = avg_metrics\n",
        "    with open(metrics_out_file, \"w\") as f:\n",
        "        json.dump(all_metrics, f, indent=4)\n",
        "    print(f\"Metrics saved to {metrics_out_file}\")\n",
        "else:\n",
        "    print(\"No images processed.\")"
      ],
      "metadata": {
        "colab": {
          "base_uri": "https://localhost:8080/"
        },
        "id": "b96mJ_Bf8bPI",
        "outputId": "07426bcd-f1b0-4e73-bde8-0e7312997d73"
      },
      "execution_count": 19,
      "outputs": [
        {
          "output_type": "stream",
          "name": "stdout",
          "text": [
            "Metrics for 0139_1.png: {'Jaccard Index (IoU)': 0.009292351679771264, 'F1 Score': 0.018413597733711047, 'Precision': 0.027339642481598318, 'Recall': 0.013881473571809931, 'Accuracy': 0.9894256591796875, \"Cohen's Kappa Score\": 0.013667166798639108}\n",
            "Metrics for 0049.png: {'Jaccard Index (IoU)': 0.5435381871250202, 'F1 Score': 0.7042756592079, 'Precision': 0.765821338816541, 'Recall': 0.6518864255153637, 'Accuracy': 0.9892616271972656, \"Cohen's Kappa Score\": 0.6988431545779548}\n",
            "Metrics for 0107.png: {'Jaccard Index (IoU)': 0.18162083936324167, 'F1 Score': 0.30740967544396813, 'Precision': 0.814935064935065, 'Recall': 0.18943396226415093, 'Accuracy': 0.9956855773925781, \"Cohen's Kappa Score\": 0.30608662701639056}\n",
            "Metrics for 0016.png: {'Jaccard Index (IoU)': 0.0051963746223564955, 'F1 Score': 0.01033902380379899, 'Precision': 0.0061419797171832595, 'Recall': 0.032649962034927864, 'Accuracy': 0.968597412109375, \"Cohen's Kappa Score\": 0.0018980625076517876}\n",
            "Metrics for 0139.png: {'Jaccard Index (IoU)': 0.25851197982345525, 'F1 Score': 0.41082164328657317, 'Precision': 0.3459915611814346, 'Recall': 0.5055487053020962, 'Accuracy': 0.995513916015625, \"Cohen's Kappa Score\": 0.40864937329517714}\n",
            "Metrics for 0101.png: {'Jaccard Index (IoU)': 0.3040656080963183, 'F1 Score': 0.46633483194176834, 'Precision': 0.32456292837985495, 'Recall': 0.828022047643183, 'Accuracy': 0.7717819213867188, \"Cohen's Kappa Score\": 0.3546788524728226}\n",
            "Metrics for 0116_1.png: {'Jaccard Index (IoU)': 0.2581125226860254, 'F1 Score': 0.41031707105969245, 'Precision': 0.34830525078369906, 'Recall': 0.4991926991926992, 'Accuracy': 0.9220314025878906, \"Cohen's Kappa Score\": 0.3699867400791369}\n",
            "Metrics for 0073.png: {'Jaccard Index (IoU)': 0.5195632393084623, 'F1 Score': 0.6838323353293413, 'Precision': 0.537222156885805, 'Recall': 0.9404982499485279, 'Accuracy': 0.98388671875, \"Cohen's Kappa Score\": 0.6761956197252807}\n",
            "Metrics for 0116.png: {'Jaccard Index (IoU)': 0.09763190693809722, 'F1 Score': 0.17789553368660105, 'Precision': 0.17722473604826547, 'Recall': 0.17857142857142858, 'Accuracy': 0.9917144775390625, \"Cohen's Kappa Score\": 0.17373185041162775}\n",
            "Metrics for 0137.png: {'Jaccard Index (IoU)': 0.018552154476176433, 'F1 Score': 0.03642848212464384, 'Precision': 0.018888009389415074, 'Recall': 0.5106068990961077, 'Accuracy': 0.4414024353027344, \"Cohen's Kappa Score\": -0.003598646621260304}\n",
            "\n",
            "Average Metrics:\n",
            "Jaccard Index (IoU): 0.2196\n",
            "F1 Score: 0.3226\n",
            "Precision: 0.3366\n",
            "Recall: 0.4350\n",
            "Accuracy: 0.9049\n",
            "Cohen's Kappa Score: 0.3000\n",
            "Metrics saved to /content/drive/MyDrive/Datasets/test_data/metrics_results.json\n"
          ]
        }
      ]
    }
  ]
}