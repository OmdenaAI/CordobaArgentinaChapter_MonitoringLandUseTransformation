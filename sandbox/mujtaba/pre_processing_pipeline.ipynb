{
 "cells": [
  {
   "cell_type": "markdown",
   "metadata": {},
   "source": [
    "## Satellite Image Pre-processing Pipeline\n",
    "\n",
    "This Jupyter notebook implements a preprocessing pipeline for satellite imagery analysis in Córdoba, Argentina, focusing on land use change detection.\n",
    "\n",
    "## Features\n",
    "\n",
    "- **Google Earth Engine Integration**: Connects to GEE API for satellite data access\n",
    "- **Interactive Map Interface**: Allows users to draw Areas of Interest (AOI)\n",
    "- **Sentinel-2 Data Processing**: Retrieves and processes Sentinel-2 satellite imagery\n",
    "- **Cloud Masking**: Implements cloud and cirrus cloud masking for clearer imagery\n",
    "- **NDVI Calculation**: Computes Normalized Difference Vegetation Index\n",
    "- **Forest Cover Analysis**: Assesses vegetation density and forest cover percentage\n",
    "\n",
    "## Requirements\n",
    "\n",
    "- Google Earth Engine account\n",
    "- Python packages:\n",
    "  - `earthengine-api`\n",
    "  - `geemap`\n",
    "  - `folium`\n",
    "\n",
    "## Usage\n",
    "\n",
    "1. **Authentication**: Run the first cells to authenticate with Google Earth Engine\n",
    "2. **AOI Selection**: Use the interactive map to draw your Area of Interest\n",
    "3. **Date Configuration**: Enter the following parameters when prompted:\n",
    "   - Start date (YYYY-MM-DD)\n",
    "   - End date (YYYY-MM-DD)\n",
    "   - Change detection interval (1-12 months)\n",
    "4. **Analysis**: The notebook will:\n",
    "   - Fetch Sentinel-2 imagery\n",
    "   - Apply cloud masking\n",
    "   - Calculate NDVI\n",
    "   - Assess forest cover\n",
    "   - Display results on the map\n",
    "\n",
    "## Output\n",
    "\n",
    "- Interactive map with:\n",
    "  - NDVI visualization\n",
    "  - AOI boundary\n",
    "  - Forest cover statistics\n",
    "- Analysis results including:\n",
    "  - Mean NDVI values\n",
    "  - Forest cover percentage\n",
    "  - Suitability assessment for deforestation analysis\n",
    "\n",
    "## Notes\n",
    "\n",
    "- The pipeline uses Sentinel-2 Surface Reflectance (SR) data\n",
    "- Cloud masking uses the QA60 band for quality assessment\n",
    "- NDVI calculation uses bands B8 (NIR) and B4 (Red)\n",
    "- A 20% forest cover threshold is used for deforestation analysis suitability\n",
    "\n",
    "\n",
    "Part of the Córdoba Argentina Chapter Monitoring Land Use Transformation project"
   ]
  },
  {
   "cell_type": "code",
   "execution_count": 1,
   "metadata": {},
   "outputs": [],
   "source": [
    "import ee\n",
    "import geemap\n",
    "import folium\n",
    "from folium import plugins"
   ]
  },
  {
   "cell_type": "code",
   "execution_count": 2,
   "metadata": {},
   "outputs": [
    {
     "data": {
      "text/html": [
       "\n",
       "            <style>\n",
       "                .geemap-dark {\n",
       "                    --jp-widgets-color: white;\n",
       "                    --jp-widgets-label-color: white;\n",
       "                    --jp-ui-font-color1: white;\n",
       "                    --jp-layout-color2: #454545;\n",
       "                    background-color: #383838;\n",
       "                }\n",
       "\n",
       "                .geemap-dark .jupyter-button {\n",
       "                    --jp-layout-color3: #383838;\n",
       "                }\n",
       "\n",
       "                .geemap-colab {\n",
       "                    background-color: var(--colab-primary-surface-color, white);\n",
       "                }\n",
       "\n",
       "                .geemap-colab .jupyter-button {\n",
       "                    --jp-layout-color3: var(--colab-primary-surface-color, white);\n",
       "                }\n",
       "            </style>\n",
       "            "
      ],
      "text/plain": [
       "<IPython.core.display.HTML object>"
      ]
     },
     "metadata": {},
     "output_type": "display_data"
    }
   ],
   "source": [
    "import geemap\n",
    "import folium\n",
    "from folium import plugins"
   ]
  },
  {
   "cell_type": "code",
   "execution_count": 3,
   "metadata": {},
   "outputs": [
    {
     "data": {
      "text/html": [
       "\n",
       "            <style>\n",
       "                .geemap-dark {\n",
       "                    --jp-widgets-color: white;\n",
       "                    --jp-widgets-label-color: white;\n",
       "                    --jp-ui-font-color1: white;\n",
       "                    --jp-layout-color2: #454545;\n",
       "                    background-color: #383838;\n",
       "                }\n",
       "\n",
       "                .geemap-dark .jupyter-button {\n",
       "                    --jp-layout-color3: #383838;\n",
       "                }\n",
       "\n",
       "                .geemap-colab {\n",
       "                    background-color: var(--colab-primary-surface-color, white);\n",
       "                }\n",
       "\n",
       "                .geemap-colab .jupyter-button {\n",
       "                    --jp-layout-color3: var(--colab-primary-surface-color, white);\n",
       "                }\n",
       "            </style>\n",
       "            "
      ],
      "text/plain": [
       "<IPython.core.display.HTML object>"
      ]
     },
     "metadata": {},
     "output_type": "display_data"
    },
    {
     "data": {
      "text/plain": [
       "True"
      ]
     },
     "execution_count": 3,
     "metadata": {},
     "output_type": "execute_result"
    }
   ],
   "source": [
    "ee.Authenticate(auth_mode='colab')"
   ]
  },
  {
   "cell_type": "code",
   "execution_count": 4,
   "metadata": {},
   "outputs": [
    {
     "data": {
      "text/html": [
       "\n",
       "            <style>\n",
       "                .geemap-dark {\n",
       "                    --jp-widgets-color: white;\n",
       "                    --jp-widgets-label-color: white;\n",
       "                    --jp-ui-font-color1: white;\n",
       "                    --jp-layout-color2: #454545;\n",
       "                    background-color: #383838;\n",
       "                }\n",
       "\n",
       "                .geemap-dark .jupyter-button {\n",
       "                    --jp-layout-color3: #383838;\n",
       "                }\n",
       "\n",
       "                .geemap-colab {\n",
       "                    background-color: var(--colab-primary-surface-color, white);\n",
       "                }\n",
       "\n",
       "                .geemap-colab .jupyter-button {\n",
       "                    --jp-layout-color3: var(--colab-primary-surface-color, white);\n",
       "                }\n",
       "            </style>\n",
       "            "
      ],
      "text/plain": [
       "<IPython.core.display.HTML object>"
      ]
     },
     "metadata": {},
     "output_type": "display_data"
    }
   ],
   "source": [
    "ee.Initialize(project='ee-mujtabanaqvi29')"
   ]
  },
  {
   "cell_type": "code",
   "execution_count": 5,
   "metadata": {},
   "outputs": [
    {
     "data": {
      "text/html": [
       "\n",
       "            <style>\n",
       "                .geemap-dark {\n",
       "                    --jp-widgets-color: white;\n",
       "                    --jp-widgets-label-color: white;\n",
       "                    --jp-ui-font-color1: white;\n",
       "                    --jp-layout-color2: #454545;\n",
       "                    background-color: #383838;\n",
       "                }\n",
       "\n",
       "                .geemap-dark .jupyter-button {\n",
       "                    --jp-layout-color3: #383838;\n",
       "                }\n",
       "\n",
       "                .geemap-colab {\n",
       "                    background-color: var(--colab-primary-surface-color, white);\n",
       "                }\n",
       "\n",
       "                .geemap-colab .jupyter-button {\n",
       "                    --jp-layout-color3: var(--colab-primary-surface-color, white);\n",
       "                }\n",
       "            </style>\n",
       "            "
      ],
      "text/plain": [
       "<IPython.core.display.HTML object>"
      ]
     },
     "metadata": {},
     "output_type": "display_data"
    },
    {
     "data": {
      "application/vnd.jupyter.widget-view+json": {
       "model_id": "5963c6555ec34afab4fa84621905cbef",
       "version_major": 2,
       "version_minor": 0
      },
      "text/plain": [
       "Map(center=[0, 0], controls=(WidgetControl(options=['position', 'transparent_bg'], widget=SearchDataGUI(childr…"
      ]
     },
     "execution_count": 5,
     "metadata": {},
     "output_type": "execute_result"
    }
   ],
   "source": [
    "# Create an interactive map using geemap\n",
    "Map = geemap.Map(center=(0, 0), zoom=2)  # Initialize the map\n",
    "Map.add_basemap('SATELLITE')  # Add satellite imagery as the basemap\n",
    "\n",
    "# Add draw control for user to draw an AOI\n",
    "Map.add_draw_control()  # Allows drawing shapes like polygons, points, etc.\n",
    "\n",
    "# Display the map for the user to interact with\n",
    "Map"
   ]
  },
  {
   "cell_type": "code",
   "execution_count": 6,
   "metadata": {},
   "outputs": [
    {
     "data": {
      "text/html": [
       "\n",
       "            <style>\n",
       "                .geemap-dark {\n",
       "                    --jp-widgets-color: white;\n",
       "                    --jp-widgets-label-color: white;\n",
       "                    --jp-ui-font-color1: white;\n",
       "                    --jp-layout-color2: #454545;\n",
       "                    background-color: #383838;\n",
       "                }\n",
       "\n",
       "                .geemap-dark .jupyter-button {\n",
       "                    --jp-layout-color3: #383838;\n",
       "                }\n",
       "\n",
       "                .geemap-colab {\n",
       "                    background-color: var(--colab-primary-surface-color, white);\n",
       "                }\n",
       "\n",
       "                .geemap-colab .jupyter-button {\n",
       "                    --jp-layout-color3: var(--colab-primary-surface-color, white);\n",
       "                }\n",
       "            </style>\n",
       "            "
      ],
      "text/plain": [
       "<IPython.core.display.HTML object>"
      ]
     },
     "metadata": {},
     "output_type": "display_data"
    },
    {
     "name": "stdout",
     "output_type": "stream",
     "text": [
      "AOI defined.\n"
     ]
    }
   ],
   "source": [
    "# Get the user-drawn AOI\n",
    "drawn_feature = Map.user_roi  # Retrieve the drawn feature\n",
    "if drawn_feature is None:\n",
    "    raise ValueError(\"No AOI selected! Please draw a polygon or rectangle on the map.\")\n",
    "else:\n",
    "    AOI = ee.Geometry.Polygon(drawn_feature.getInfo()['coordinates'])  # Convert to EE Geometry\n",
    "    print(\"AOI defined.\")"
   ]
  },
  {
   "cell_type": "code",
   "execution_count": 10,
   "metadata": {},
   "outputs": [
    {
     "data": {
      "text/html": [
       "\n",
       "            <style>\n",
       "                .geemap-dark {\n",
       "                    --jp-widgets-color: white;\n",
       "                    --jp-widgets-label-color: white;\n",
       "                    --jp-ui-font-color1: white;\n",
       "                    --jp-layout-color2: #454545;\n",
       "                    background-color: #383838;\n",
       "                }\n",
       "\n",
       "                .geemap-dark .jupyter-button {\n",
       "                    --jp-layout-color3: #383838;\n",
       "                }\n",
       "\n",
       "                .geemap-colab {\n",
       "                    background-color: var(--colab-primary-surface-color, white);\n",
       "                }\n",
       "\n",
       "                .geemap-colab .jupyter-button {\n",
       "                    --jp-layout-color3: var(--colab-primary-surface-color, white);\n",
       "                }\n",
       "            </style>\n",
       "            "
      ],
      "text/plain": [
       "<IPython.core.display.HTML object>"
      ]
     },
     "metadata": {},
     "output_type": "display_data"
    },
    {
     "name": "stdout",
     "output_type": "stream",
     "text": [
      "\n",
      "Analysis Configuration:\n",
      "Start Date: 2022-01-01\n",
      "End Date: 2023-12-25\n",
      "Change Detection Interval: 6 months\n"
     ]
    }
   ],
   "source": [
    "# Input start and end dates\n",
    "start_date = input(\"Enter the start date for analysis (YYYY-MM-DD): \")\n",
    "end_date = input(\"Enter the end date for analysis (YYYY-MM-DD): \")\n",
    "\n",
    "# Input the duration for change detection\n",
    "interval_months = int(input(\"Enter the duration of change detection in months (e.g., 6): \"))\n",
    "print(f\"\\nAnalysis Configuration:\")\n",
    "print(f\"Start Date: {start_date}\")\n",
    "print(f\"End Date: {end_date}\")\n",
    "print(f\"Change Detection Interval: {interval_months} months\")"
   ]
  },
  {
   "cell_type": "code",
   "execution_count": 11,
   "metadata": {},
   "outputs": [
    {
     "data": {
      "text/html": [
       "\n",
       "            <style>\n",
       "                .geemap-dark {\n",
       "                    --jp-widgets-color: white;\n",
       "                    --jp-widgets-label-color: white;\n",
       "                    --jp-ui-font-color1: white;\n",
       "                    --jp-layout-color2: #454545;\n",
       "                    background-color: #383838;\n",
       "                }\n",
       "\n",
       "                .geemap-dark .jupyter-button {\n",
       "                    --jp-layout-color3: #383838;\n",
       "                }\n",
       "\n",
       "                .geemap-colab {\n",
       "                    background-color: var(--colab-primary-surface-color, white);\n",
       "                }\n",
       "\n",
       "                .geemap-colab .jupyter-button {\n",
       "                    --jp-layout-color3: var(--colab-primary-surface-color, white);\n",
       "                }\n",
       "            </style>\n",
       "            "
      ],
      "text/plain": [
       "<IPython.core.display.HTML object>"
      ]
     },
     "metadata": {},
     "output_type": "display_data"
    },
    {
     "name": "stdout",
     "output_type": "stream",
     "text": [
      "Mean NDVI (Forest Cover Proxy) for the first 30 days: 40.37%\n",
      "The forestation rate is sufficient for deforestation analysis.\n",
      "Sentinel-2 NDVI map for the first 30 days is displayed below:\n"
     ]
    },
    {
     "data": {
      "application/vnd.jupyter.widget-view+json": {
       "model_id": "5963c6555ec34afab4fa84621905cbef",
       "version_major": 2,
       "version_minor": 0
      },
      "text/plain": [
       "Map(bottom=36965.0, center=[-20.925527866647226, -61.50421142578126], controls=(WidgetControl(options=['positi…"
      ]
     },
     "execution_count": 11,
     "metadata": {},
     "output_type": "execute_result"
    }
   ],
   "source": [
    "# Load Sentinel-2 ImageCollection for the first 30 days after the start date\n",
    "sentinel2_30days = ee.ImageCollection('COPERNICUS/S2_SR') \\\n",
    "    .filterDate(start_date, ee.Date(start_date).advance(30, 'day')) \\\n",
    "    .filterBounds(AOI)\n",
    "\n",
    "# Cloud masking function for Sentinel-2\n",
    "def mask_clouds(image):\n",
    "    qa = image.select('QA60')\n",
    "    cloud_bit_mask = 1 << 10  # Bit 10 represents clouds\n",
    "    cirrus_bit_mask = 1 << 11  # Bit 11 represents cirrus clouds\n",
    "    mask = qa.bitwiseAnd(cloud_bit_mask).eq(0).And(qa.bitwiseAnd(cirrus_bit_mask).eq(0))\n",
    "    return image.updateMask(mask)\n",
    "\n",
    "# Apply cloud masking and create a median composite for the first 30 days\n",
    "composite_30days = sentinel2_30days.map(mask_clouds).median().clip(AOI)\n",
    "\n",
    "# Calculate NDVI for the 30-day composite\n",
    "ndvi_30days = composite_30days.normalizedDifference(['B8', 'B4']).rename('NDVI')\n",
    "\n",
    "# Calculate mean NDVI for the AOI\n",
    "mean_ndvi_30days = ndvi_30days.reduceRegion(\n",
    "    reducer=ee.Reducer.mean(),\n",
    "    geometry=AOI,\n",
    "    scale=10,  # Sentinel-2 resolution\n",
    "    maxPixels=1e9\n",
    ").get('NDVI')\n",
    "\n",
    "# Fetch the NDVI value for Python\n",
    "mean_ndvi_value = mean_ndvi_30days.getInfo()\n",
    "\n",
    "# Print the forest cover percentage and check the 20% threshold\n",
    "if mean_ndvi_value is not None:\n",
    "    forest_percentage = mean_ndvi_value * 100\n",
    "    print(f\"Mean NDVI (Forest Cover Proxy) for the first 30 days: {forest_percentage:.2f}%\")\n",
    "\n",
    "    if forest_percentage < 20:\n",
    "        print(\"The forestation rate is less than 20%. The area is not suitable for deforestation analysis.\")\n",
    "    else:\n",
    "        print(\"The forestation rate is sufficient for deforestation analysis.\")\n",
    "else:\n",
    "    print(\"Could not compute forest cover for the selected AOI.\")\n",
    "\n",
    "# Visualize NDVI for the 30-day composite on the map\n",
    "Map.addLayer(\n",
    "    ndvi_30days,\n",
    "    {'min': 0, 'max': 1, 'palette': ['white', 'green']},  # White = low vegetation, Green = dense vegetation\n",
    "    'NDVI - First 30 Days'\n",
    ")\n",
    "\n",
    "# Add AOI boundary to the map\n",
    "Map.addLayer(AOI, {'color': 'red'}, 'AOI Boundary')\n",
    "\n",
    "# Display the map\n",
    "print(\"Sentinel-2 NDVI map for the first 30 days is displayed below:\")\n",
    "Map\n"
   ]
  },
  {
   "cell_type": "markdown",
   "metadata": {},
   "source": [
    "Following cell calculated the dynamic Deforesation check (based on selected area size)"
   ]
  },
  {
   "cell_type": "code",
   "execution_count": 23,
   "metadata": {},
   "outputs": [
    {
     "data": {
      "text/html": [
       "\n",
       "            <style>\n",
       "                .geemap-dark {\n",
       "                    --jp-widgets-color: white;\n",
       "                    --jp-widgets-label-color: white;\n",
       "                    --jp-ui-font-color1: white;\n",
       "                    --jp-layout-color2: #454545;\n",
       "                    background-color: #383838;\n",
       "                }\n",
       "\n",
       "                .geemap-dark .jupyter-button {\n",
       "                    --jp-layout-color3: #383838;\n",
       "                }\n",
       "\n",
       "                .geemap-colab {\n",
       "                    background-color: var(--colab-primary-surface-color, white);\n",
       "                }\n",
       "\n",
       "                .geemap-colab .jupyter-button {\n",
       "                    --jp-layout-color3: var(--colab-primary-surface-color, white);\n",
       "                }\n",
       "            </style>\n",
       "            "
      ],
      "text/plain": [
       "<IPython.core.display.HTML object>"
      ]
     },
     "metadata": {},
     "output_type": "display_data"
    },
    {
     "name": "stdout",
     "output_type": "stream",
     "text": [
      "\n",
      "Starting new forest suitability assessment...\n",
      "Starting forest assessment...\n",
      "Total AOI area: 149724.38 hectares\n",
      "Created forest mask based on NDVI threshold\n",
      "Calculated forest statistics\n",
      "Raw forest stats: {'NDVI': 996286235.5904474}\n",
      "Forest area: 0.00 hectares\n",
      "Forest percentage: 0.00%\n",
      "\n",
      "Forest Assessment Results:\n",
      "Total AOI Area: 149724.38 hectares\n",
      "Forest Area: 0.00 hectares\n",
      "Forest Coverage: 0.00%\n",
      "Minimum Required: 30 hectares and 15%\n",
      "\n",
      "✗ Area is not suitable for deforestation analysis\n",
      "  - Insufficient forest area (0.00 < 30 ha)\n",
      "  - Insufficient coverage (0.00% < 15%)\n",
      "\n",
      "Displaying map with forest areas...\n"
     ]
    },
    {
     "data": {
      "application/vnd.jupyter.widget-view+json": {
       "model_id": "5963c6555ec34afab4fa84621905cbef",
       "version_major": 2,
       "version_minor": 0
      },
      "text/plain": [
       "Map(bottom=4673.0, center=[-12.082295837363578, -53.94287109375001], controls=(WidgetControl(options=['positio…"
      ]
     },
     "execution_count": 23,
     "metadata": {},
     "output_type": "execute_result"
    }
   ],
   "source": [
    "def assess_forest_suitability(ndvi_image, aoi_geometry, Map):\n",
    "    \"\"\"\n",
    "    Assess forest suitability using dual thresholds: percentage and absolute area.\n",
    "    \"\"\"\n",
    "    try:\n",
    "        print(\"Starting forest assessment...\")\n",
    "        \n",
    "        # Calculate total AOI area in hectares\n",
    "        aoi_area_ha = aoi_geometry.area().divide(10000).getInfo()\n",
    "        print(f\"Total AOI area: {aoi_area_ha:.2f} hectares\")\n",
    "        \n",
    "        # Create forest mask based on NDVI threshold\n",
    "        NDVI_FOREST_THRESHOLD = 0.3\n",
    "        forest_mask = ndvi_image.gte(NDVI_FOREST_THRESHOLD)\n",
    "        print(\"Created forest mask based on NDVI threshold\")\n",
    "        \n",
    "        # Calculate forest statistics\n",
    "        forest_stats = forest_mask.multiply(ee.Image.pixelArea()).reduceRegion(\n",
    "            reducer=ee.Reducer.sum(),\n",
    "            geometry=aoi_geometry,\n",
    "            scale=10,\n",
    "            maxPixels=1e9\n",
    "        ).getInfo()\n",
    "        print(\"Calculated forest statistics\")\n",
    "        print(f\"Raw forest stats: {forest_stats}\")\n",
    "        \n",
    "        # Calculate forest area\n",
    "        forest_area_ha = forest_stats.get('area', 0) / 10000  # Convert m² to ha\n",
    "        print(f\"Forest area: {forest_area_ha:.2f} hectares\")\n",
    "        \n",
    "        # Calculate forest percentage\n",
    "        forest_percentage = (forest_area_ha / aoi_area_ha) * 100\n",
    "        print(f\"Forest percentage: {forest_percentage:.2f}%\")\n",
    "        \n",
    "        # Define thresholds\n",
    "        MIN_FOREST_AREA_HA = 30\n",
    "        MIN_FOREST_PERCENTAGE = 15\n",
    "        \n",
    "        # Assess suitability\n",
    "        is_suitable = (forest_area_ha >= MIN_FOREST_AREA_HA and \n",
    "                      forest_percentage >= MIN_FOREST_PERCENTAGE)\n",
    "        \n",
    "        # Print results\n",
    "        print(\"\\nForest Assessment Results:\")\n",
    "        print(f\"Total AOI Area: {aoi_area_ha:.2f} hectares\")\n",
    "        print(f\"Forest Area: {forest_area_ha:.2f} hectares\")\n",
    "        print(f\"Forest Coverage: {forest_percentage:.2f}%\")\n",
    "        print(f\"Minimum Required: {MIN_FOREST_AREA_HA} hectares and {MIN_FOREST_PERCENTAGE}%\")\n",
    "        \n",
    "        if is_suitable:\n",
    "            print(\"\\n✓ Area is suitable for deforestation analysis\")\n",
    "        else:\n",
    "            print(\"\\n✗ Area is not suitable for deforestation analysis\")\n",
    "            if forest_area_ha < MIN_FOREST_AREA_HA:\n",
    "                print(f\"  - Insufficient forest area ({forest_area_ha:.2f} < {MIN_FOREST_AREA_HA} ha)\")\n",
    "            if forest_percentage < MIN_FOREST_PERCENTAGE:\n",
    "                print(f\"  - Insufficient coverage ({forest_percentage:.2f}% < {MIN_FOREST_PERCENTAGE}%)\")\n",
    "        \n",
    "        # Visualize forest mask\n",
    "        Map.addLayer(\n",
    "            forest_mask,\n",
    "            {'min': 0, 'max': 1, 'palette': ['white', 'darkgreen']},\n",
    "            'Forest Areas (NDVI >= 0.3)'\n",
    "        )\n",
    "        \n",
    "        return is_suitable, forest_area_ha, forest_percentage\n",
    "        \n",
    "    except Exception as e:\n",
    "        print(f\"Error in forest assessment: {str(e)}\")\n",
    "        import traceback\n",
    "        traceback.print_exc()\n",
    "        return False, 0, 0\n",
    "\n",
    "# Call the function\n",
    "print(\"\\nStarting new forest suitability assessment...\")\n",
    "is_suitable, forest_area, forest_percentage = assess_forest_suitability(ndvi_30days, AOI, Map)\n",
    "\n",
    "# Display the map\n",
    "print(\"\\nDisplaying map with forest areas...\")\n",
    "Map"
   ]
  },
  {
   "cell_type": "markdown",
   "metadata": {},
   "source": []
  },
  {
   "cell_type": "code",
   "execution_count": 16,
   "metadata": {},
   "outputs": [
    {
     "data": {
      "text/html": [
       "\n",
       "            <style>\n",
       "                .geemap-dark {\n",
       "                    --jp-widgets-color: white;\n",
       "                    --jp-widgets-label-color: white;\n",
       "                    --jp-ui-font-color1: white;\n",
       "                    --jp-layout-color2: #454545;\n",
       "                    background-color: #383838;\n",
       "                }\n",
       "\n",
       "                .geemap-dark .jupyter-button {\n",
       "                    --jp-layout-color3: #383838;\n",
       "                }\n",
       "\n",
       "                .geemap-colab {\n",
       "                    background-color: var(--colab-primary-surface-color, white);\n",
       "                }\n",
       "\n",
       "                .geemap-colab .jupyter-button {\n",
       "                    --jp-layout-color3: var(--colab-primary-surface-color, white);\n",
       "                }\n",
       "            </style>\n",
       "            "
      ],
      "text/plain": [
       "<IPython.core.display.HTML object>"
      ]
     },
     "metadata": {},
     "output_type": "display_data"
    },
    {
     "name": "stdout",
     "output_type": "stream",
     "text": [
      "Generated Time Intervals:\n",
      "('2023-01-01', '2023-06-30')\n",
      "('2023-06-30', '2023-12-25')\n",
      "Interval: 2023-01-01 to 2023-06-30 - Sentinel-2 Images Available: 72\n",
      "Interval: 2023-06-30 to 2023-12-25 - Sentinel-2 Images Available: 70\n"
     ]
    }
   ],
   "source": [
    "# Import necessary libraries\n",
    "from datetime import datetime, timedelta\n",
    "import math\n",
    "\n",
    "# Function to generate robust time intervals\n",
    "def generate_time_intervals(start_date, end_date, duration_months):\n",
    "    intervals = []\n",
    "    start_date = datetime.strptime(start_date, \"%Y-%m-%d\")\n",
    "    end_date = datetime.strptime(end_date, \"%Y-%m-%d\")\n",
    "\n",
    "    # Loop through and create intervals\n",
    "    current_date = start_date\n",
    "    while current_date < end_date:\n",
    "        next_date = current_date + timedelta(days=duration_months * 30)  # Approximate 1 month = 30 days\n",
    "        # Ensure last interval ends exactly at the end_date\n",
    "        if next_date > end_date:\n",
    "            next_date = end_date\n",
    "        intervals.append((current_date.strftime(\"%Y-%m-%d\"), next_date.strftime(\"%Y-%m-%d\")))\n",
    "        current_date = next_date\n",
    "\n",
    "    return intervals\n",
    "\n",
    "# Generate robust intervals\n",
    "time_intervals = generate_time_intervals(start_date, end_date, interval_months)\n",
    "\n",
    "# Print the generated intervals\n",
    "print(\"Generated Time Intervals:\")\n",
    "for interval in time_intervals:\n",
    "    print(interval)\n",
    "\n",
    "# Check Sentinel-2 image availability for each interval\n",
    "for interval in time_intervals:\n",
    "    start, end = interval\n",
    "    image_collection = ee.ImageCollection('COPERNICUS/S2') \\\n",
    "        .filterDate(start, end) \\\n",
    "        .filterBounds(AOI)\n",
    "    image_count = image_collection.size().getInfo()\n",
    "    print(f\"Interval: {start} to {end} - Sentinel-2 Images Available: {image_count}\")\n"
   ]
  },
  {
   "cell_type": "code",
   "execution_count": 17,
   "metadata": {},
   "outputs": [
    {
     "data": {
      "text/html": [
       "\n",
       "            <style>\n",
       "                .geemap-dark {\n",
       "                    --jp-widgets-color: white;\n",
       "                    --jp-widgets-label-color: white;\n",
       "                    --jp-ui-font-color1: white;\n",
       "                    --jp-layout-color2: #454545;\n",
       "                    background-color: #383838;\n",
       "                }\n",
       "\n",
       "                .geemap-dark .jupyter-button {\n",
       "                    --jp-layout-color3: #383838;\n",
       "                }\n",
       "\n",
       "                .geemap-colab {\n",
       "                    background-color: var(--colab-primary-surface-color, white);\n",
       "                }\n",
       "\n",
       "                .geemap-colab .jupyter-button {\n",
       "                    --jp-layout-color3: var(--colab-primary-surface-color, white);\n",
       "                }\n",
       "            </style>\n",
       "            "
      ],
      "text/plain": [
       "<IPython.core.display.HTML object>"
      ]
     },
     "metadata": {},
     "output_type": "display_data"
    },
    {
     "name": "stdout",
     "output_type": "stream",
     "text": [
      "All available composites have been processed and displayed on the map.\n"
     ]
    },
    {
     "data": {
      "application/vnd.jupyter.widget-view+json": {
       "model_id": "43526c4a057d4025abf7812b412d69e5",
       "version_major": 2,
       "version_minor": 0
      },
      "text/plain": [
       "Map(bottom=2469637.0, center=[-30.40789489142412, -64.39157492230356], controls=(WidgetControl(options=['posit…"
      ]
     },
     "execution_count": 17,
     "metadata": {},
     "output_type": "execute_result"
    }
   ],
   "source": [
    "# Define a cloud masking function\n",
    "def mask_clouds(image):\n",
    "    # Check for QA60 band on the server side\n",
    "    qa_bands = image.bandNames()\n",
    "    has_qa60 = qa_bands.contains('QA60')\n",
    "\n",
    "    # Apply cloud masking if QA60 is present\n",
    "    return ee.Algorithms.If(\n",
    "        has_qa60,\n",
    "        # Cloud masking logic\n",
    "        image.updateMask(\n",
    "            image.select('QA60').bitwiseAnd(1 << 10).eq(0).And(\n",
    "                image.select('QA60').bitwiseAnd(1 << 11).eq(0)\n",
    "            )\n",
    "        ),\n",
    "        # If QA60 is missing, return the unmasked image\n",
    "        image\n",
    "    )\n",
    "\n",
    "# Process time intervals\n",
    "for interval in time_intervals:\n",
    "    start, end = interval\n",
    "\n",
    "    # Load Sentinel-2 Surface Reflectance data (Level-2A)\n",
    "    image_collection = ee.ImageCollection('COPERNICUS/S2_SR') \\\n",
    "        .filterDate(start, end) \\\n",
    "        .filterBounds(AOI) \\\n",
    "        .map(mask_clouds)  # Apply cloud masking\n",
    "\n",
    "    # Check if there are images available\n",
    "    image_count = image_collection.size().getInfo()\n",
    "    if image_count == 0:\n",
    "        print(f\"No images available for interval: {start} to {end}. Skipping.\")\n",
    "        continue\n",
    "\n",
    "    # Create a median composite\n",
    "    composite = image_collection.median().clip(AOI)\n",
    "\n",
    "    # Apply Gaussian smoothing to reduce noise\n",
    "    smoothed_composite = composite.convolve(ee.Kernel.gaussian(radius=3, sigma=1, units='pixels'))\n",
    "\n",
    "    # Use a single band to extract CRS and ensure consistent projection\n",
    "    single_band = composite.select('B4')  # 'B4' is the red band\n",
    "    crs_string = single_band.projection().crs().getInfo()\n",
    "\n",
    "    # Reproject the smoothed composite using the extracted CRS\n",
    "    aligned_composite = smoothed_composite.reproject(\n",
    "        crs=crs_string,  # CRS string\n",
    "        scale=10  # Sentinel-2 resolution in meters\n",
    "    )\n",
    "\n",
    "    # Visualize the composite for this interval\n",
    "    Map.addLayer(\n",
    "        aligned_composite.select(['B4', 'B3', 'B2']),  # RGB bands\n",
    "        {'min': 0, 'max': 3000, 'gamma': 1.4},\n",
    "        f\"Composite {start} to {end}\"\n",
    "    )\n",
    "\n",
    "print(\"All available composites have been processed and displayed on the map.\")\n",
    "Map\n"
   ]
  },
  {
   "cell_type": "code",
   "execution_count": 18,
   "metadata": {},
   "outputs": [
    {
     "data": {
      "text/html": [
       "\n",
       "            <style>\n",
       "                .geemap-dark {\n",
       "                    --jp-widgets-color: white;\n",
       "                    --jp-widgets-label-color: white;\n",
       "                    --jp-ui-font-color1: white;\n",
       "                    --jp-layout-color2: #454545;\n",
       "                    background-color: #383838;\n",
       "                }\n",
       "\n",
       "                .geemap-dark .jupyter-button {\n",
       "                    --jp-layout-color3: #383838;\n",
       "                }\n",
       "\n",
       "                .geemap-colab {\n",
       "                    background-color: var(--colab-primary-surface-color, white);\n",
       "                }\n",
       "\n",
       "                .geemap-colab .jupyter-button {\n",
       "                    --jp-layout-color3: var(--colab-primary-surface-color, white);\n",
       "                }\n",
       "            </style>\n",
       "            "
      ],
      "text/plain": [
       "<IPython.core.display.HTML object>"
      ]
     },
     "metadata": {},
     "output_type": "display_data"
    },
    {
     "name": "stdout",
     "output_type": "stream",
     "text": [
      "Processing tiles for time window: 2023-01-01 to 2023-06-30\n",
      "Processing tiles for time window: 2023-06-30 to 2023-12-25\n",
      "The grid of 256x256 tiles, clipped to the AOI, is displayed for all time windows.\n"
     ]
    },
    {
     "data": {
      "application/vnd.jupyter.widget-view+json": {
       "model_id": "43526c4a057d4025abf7812b412d69e5",
       "version_major": 2,
       "version_minor": 0
      },
      "text/plain": [
       "Map(bottom=4939187.0, center=[-30.415778145780344, -64.3691110610962], controls=(WidgetControl(options=['posit…"
      ]
     },
     "execution_count": 18,
     "metadata": {},
     "output_type": "execute_result"
    }
   ],
   "source": [
    "# Define the 256x256 pixel grid for the AOI\n",
    "tile_size_meters = 256 * 10  # Tile size in meters (256 pixels at 10m resolution)\n",
    "\n",
    "# Generate the grid and clip it to the AOI with an error margin\n",
    "grid = AOI.coveringGrid(\n",
    "    proj=ee.Projection(crs_string),  # Use the extracted CRS string as a projection\n",
    "    scale=tile_size_meters  # Define the scale for each tile\n",
    ").map(lambda feature: feature.intersection(AOI, ee.ErrorMargin(1)))  # Add an error margin of 1 meter\n",
    "\n",
    "# Process tiles for each time window\n",
    "for interval in time_intervals:\n",
    "    start, end = interval\n",
    "\n",
    "    # Print current time window being processed\n",
    "    print(f\"Processing tiles for time window: {start} to {end}\")\n",
    "\n",
    "    # Iterate through each tile in the FeatureCollection\n",
    "    grid_list = grid.toList(grid.size())  # Convert FeatureCollection to a list of features\n",
    "    for i in range(grid.size().getInfo()):\n",
    "        tile = ee.Feature(grid_list.get(i))  # Get the tile as a Feature\n",
    "        tile_geom = tile.geometry()  # Extract the geometry of the tile\n",
    "\n",
    "        # Add the individual tile to the map\n",
    "        Map.addLayer(\n",
    "            tile_geom,\n",
    "            {'color': 'blue'},  # Display the tile in blue\n",
    "            f\"Tile {i + 1} ({start} to {end})\"  # Label the tile with the time window\n",
    "        )\n",
    "\n",
    "# Add the entire grid clipped to AOI for visualization\n",
    "Map.addLayer(\n",
    "    grid,\n",
    "    {'color': 'red'},  # Display the grid in red\n",
    "    \"256x256 Tiles (Clipped to AOI)\"\n",
    ")\n",
    "\n",
    "# Display the map\n",
    "print(\"The grid of 256x256 tiles, clipped to the AOI, is displayed for all time windows.\")\n",
    "Map\n"
   ]
  },
  {
   "cell_type": "markdown",
   "metadata": {},
   "source": [
    "The last snippet is to visulaize the best image from a time window verses composites imagee\n"
   ]
  },
  {
   "cell_type": "code",
   "execution_count": 19,
   "metadata": {},
   "outputs": [
    {
     "data": {
      "text/html": [
       "\n",
       "            <style>\n",
       "                .geemap-dark {\n",
       "                    --jp-widgets-color: white;\n",
       "                    --jp-widgets-label-color: white;\n",
       "                    --jp-ui-font-color1: white;\n",
       "                    --jp-layout-color2: #454545;\n",
       "                    background-color: #383838;\n",
       "                }\n",
       "\n",
       "                .geemap-dark .jupyter-button {\n",
       "                    --jp-layout-color3: #383838;\n",
       "                }\n",
       "\n",
       "                .geemap-colab {\n",
       "                    background-color: var(--colab-primary-surface-color, white);\n",
       "                }\n",
       "\n",
       "                .geemap-colab .jupyter-button {\n",
       "                    --jp-layout-color3: var(--colab-primary-surface-color, white);\n",
       "                }\n",
       "            </style>\n",
       "            "
      ],
      "text/plain": [
       "<IPython.core.display.HTML object>"
      ]
     },
     "metadata": {},
     "output_type": "display_data"
    },
    {
     "name": "stdout",
     "output_type": "stream",
     "text": [
      "All best single images have been processed and displayed on the map.\n"
     ]
    },
    {
     "data": {
      "application/vnd.jupyter.widget-view+json": {
       "model_id": "43526c4a057d4025abf7812b412d69e5",
       "version_major": 2,
       "version_minor": 0
      },
      "text/plain": [
       "Map(bottom=38898.0, center=[-30.477082932837682, -64.57214355468751], controls=(WidgetControl(options=['positi…"
      ]
     },
     "execution_count": 19,
     "metadata": {},
     "output_type": "execute_result"
    }
   ],
   "source": [
    "# Define a cloud masking function\n",
    "def mask_clouds(image):\n",
    "    # Check for QA60 band on the server side\n",
    "    qa_bands = image.bandNames()\n",
    "    has_qa60 = qa_bands.contains('QA60')\n",
    "\n",
    "    # Apply cloud masking if QA60 is present\n",
    "    return ee.Algorithms.If(\n",
    "        has_qa60,\n",
    "        # Cloud masking logic\n",
    "        image.updateMask(\n",
    "            image.select('QA60').bitwiseAnd(1 << 10).eq(0).And(\n",
    "                image.select('QA60').bitwiseAnd(1 << 11).eq(0)\n",
    "            )\n",
    "        ),\n",
    "        # If QA60 is missing, return the unmasked image\n",
    "        image\n",
    "    )\n",
    "\n",
    "# Process time intervals\n",
    "for interval in time_intervals:\n",
    "    start, end = interval\n",
    "\n",
    "    # Load Sentinel-2 Surface Reflectance data (Level-2A)\n",
    "    image_collection = ee.ImageCollection('COPERNICUS/S2_SR') \\\n",
    "        .filterDate(start, end) \\\n",
    "        .filterBounds(AOI) \\\n",
    "        .map(mask_clouds)  # Apply cloud masking\n",
    "\n",
    "    # Check if there are images available\n",
    "    image_count = image_collection.size().getInfo()\n",
    "    if image_count == 0:\n",
    "        print(f\"No images available for interval: {start} to {end}. Skipping.\")\n",
    "        continue\n",
    "\n",
    "    # Select the best single image with the least cloud cover\n",
    "    best_image = image_collection.sort('CLOUDY_PIXEL_PERCENTAGE').first()\n",
    "\n",
    "    # Clip to the AOI\n",
    "    best_image_clipped = best_image.clip(AOI)\n",
    "\n",
    "    # Visualize the best single image for this interval\n",
    "    Map.addLayer(\n",
    "        best_image_clipped.select(['B4', 'B3', 'B2']),  # RGB bands\n",
    "        {'min': 0, 'max': 3000, 'gamma': 1.4},\n",
    "        f\"Best Image {start} to {end}\"\n",
    "    )\n",
    "\n",
    "print(\"All best single images have been processed and displayed on the map.\")\n",
    "Map\n"
   ]
  },
  {
   "cell_type": "code",
   "execution_count": null,
   "metadata": {},
   "outputs": [],
   "source": []
  }
 ],
 "metadata": {
  "kernelspec": {
   "display_name": "Python 3 (ipykernel)",
   "language": "python",
   "name": "python3"
  },
  "language_info": {
   "codemirror_mode": {
    "name": "ipython",
    "version": 3
   },
   "file_extension": ".py",
   "mimetype": "text/x-python",
   "name": "python",
   "nbconvert_exporter": "python",
   "pygments_lexer": "ipython3",
   "version": "3.12.8"
  }
 },
 "nbformat": 4,
 "nbformat_minor": 4
}
