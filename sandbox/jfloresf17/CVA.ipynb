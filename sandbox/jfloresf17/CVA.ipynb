{
 "cells": [
  {
   "cell_type": "markdown",
   "metadata": {},
   "source": [
    "# CHANGE VECTOR ANALYSIS IN POSTERIOR PROBABILITY SPACE"
   ]
  },
  {
   "cell_type": "code",
   "execution_count": 1,
   "metadata": {},
   "outputs": [],
   "source": [
    "import ee\n",
    "import json\n",
    "import os\n",
    "import geemap\n",
    "\n",
    "from dotenv import load_dotenv\n",
    "from utils2 import (create_composite_DW, create_composite_S2, \n",
    "                    threshold_optimization, change_type_discrimination,\n",
    "                    remove_small_objects)"
   ]
  },
  {
   "cell_type": "markdown",
   "metadata": {},
   "source": [
    "## Initialize Google Earth Engine API"
   ]
  },
  {
   "cell_type": "code",
   "execution_count": 2,
   "metadata": {},
   "outputs": [
    {
     "data": {
      "text/html": [
       "\n",
       "            <style>\n",
       "                .geemap-dark {\n",
       "                    --jp-widgets-color: white;\n",
       "                    --jp-widgets-label-color: white;\n",
       "                    --jp-ui-font-color1: white;\n",
       "                    --jp-layout-color2: #454545;\n",
       "                    background-color: #383838;\n",
       "                }\n",
       "\n",
       "                .geemap-dark .jupyter-button {\n",
       "                    --jp-layout-color3: #383838;\n",
       "                }\n",
       "\n",
       "                .geemap-colab {\n",
       "                    background-color: var(--colab-primary-surface-color, white);\n",
       "                }\n",
       "\n",
       "                .geemap-colab .jupyter-button {\n",
       "                    --jp-layout-color3: var(--colab-primary-surface-color, white);\n",
       "                }\n",
       "            </style>\n",
       "            "
      ],
      "text/plain": [
       "<IPython.core.display.HTML object>"
      ]
     },
     "metadata": {},
     "output_type": "display_data"
    }
   ],
   "source": [
    "NOTEBOOK_DIR = os.getcwd()\n",
    "\n",
    "# Get the project root directory (two levels up)\n",
    "PROJECT_ROOT = os.path.abspath(os.path.join(NOTEBOOK_DIR, '../..'))\n",
    "\n",
    "# Load environment variables\n",
    "load_dotenv()\n",
    "\n",
    "# Get credentials path and ensure it's relative to PROJECT_ROOT\n",
    "GEE_CREDENTIALS_PATH = os.path.join(PROJECT_ROOT, os.getenv('GEE_CREDENTIALS_PATH'))\n",
    "GEE_PROJECT_ID = os.getenv('GEE_PROJECT_ID')\n",
    "\n",
    "# Initialize GEE\n",
    "credentials = ee.ServiceAccountCredentials(\n",
    "    '',\n",
    "    GEE_CREDENTIALS_PATH,\n",
    "    GEE_PROJECT_ID\n",
    ")\n",
    "ee.Initialize(credentials, opt_url=\"https://earthengine-highvolume.googleapis.com\")"
   ]
  },
  {
   "cell_type": "markdown",
   "metadata": {},
   "source": [
    "## Use GEE Sentinel-2 image with respective Dynamic Land Cover Map"
   ]
  },
  {
   "cell_type": "code",
   "execution_count": 3,
   "metadata": {},
   "outputs": [
    {
     "data": {
      "text/html": [
       "\n",
       "            <style>\n",
       "                .geemap-dark {\n",
       "                    --jp-widgets-color: white;\n",
       "                    --jp-widgets-label-color: white;\n",
       "                    --jp-ui-font-color1: white;\n",
       "                    --jp-layout-color2: #454545;\n",
       "                    background-color: #383838;\n",
       "                }\n",
       "\n",
       "                .geemap-dark .jupyter-button {\n",
       "                    --jp-layout-color3: #383838;\n",
       "                }\n",
       "\n",
       "                .geemap-colab {\n",
       "                    background-color: var(--colab-primary-surface-color, white);\n",
       "                }\n",
       "\n",
       "                .geemap-colab .jupyter-button {\n",
       "                    --jp-layout-color3: var(--colab-primary-surface-color, white);\n",
       "                }\n",
       "            </style>\n",
       "            "
      ],
      "text/plain": [
       "<IPython.core.display.HTML object>"
      ]
     },
     "metadata": {},
     "output_type": "display_data"
    }
   ],
   "source": [
    "## Change lat / lon by a polygon area\n",
    "coordinates = [\n",
    "          [\n",
    "            [\n",
    "              -64.76453718063973,\n",
    "              -32.45727328679724\n",
    "            ],\n",
    "            [\n",
    "              -64.7735675941235,\n",
    "              -32.495040067045785\n",
    "            ],\n",
    "            [\n",
    "              -64.71535024762193,\n",
    "              -32.508327610241274\n",
    "            ],\n",
    "            [\n",
    "              -64.7209222048774,\n",
    "              -32.4642443139475\n",
    "            ],\n",
    "            [\n",
    "              -64.76453718063973,\n",
    "              -32.45727328679724\n",
    "            ]\n",
    "          ]\n",
    "        ]"
   ]
  },
  {
   "cell_type": "code",
   "execution_count": 4,
   "metadata": {},
   "outputs": [
    {
     "data": {
      "text/html": [
       "\n",
       "            <style>\n",
       "                .geemap-dark {\n",
       "                    --jp-widgets-color: white;\n",
       "                    --jp-widgets-label-color: white;\n",
       "                    --jp-ui-font-color1: white;\n",
       "                    --jp-layout-color2: #454545;\n",
       "                    background-color: #383838;\n",
       "                }\n",
       "\n",
       "                .geemap-dark .jupyter-button {\n",
       "                    --jp-layout-color3: #383838;\n",
       "                }\n",
       "\n",
       "                .geemap-colab {\n",
       "                    background-color: var(--colab-primary-surface-color, white);\n",
       "                }\n",
       "\n",
       "                .geemap-colab .jupyter-button {\n",
       "                    --jp-layout-color3: var(--colab-primary-surface-color, white);\n",
       "                }\n",
       "            </style>\n",
       "            "
      ],
      "text/plain": [
       "<IPython.core.display.HTML object>"
      ]
     },
     "metadata": {},
     "output_type": "display_data"
    },
    {
     "name": "stdout",
     "output_type": "stream",
     "text": [
      "Dynamic World available images: 3\n",
      "Dynamic World available images: 4\n",
      "Best threshold: 0.2920113698752748 with Lk = 22.04322692198884\n"
     ]
    }
   ],
   "source": [
    "# Region of interest defined by coordinates\n",
    "roi = ee.Geometry.Polygon(coordinates)\n",
    "T1_date = '2020-01-01'\n",
    "T2_date = '2021-12-31'\n",
    "\n",
    "range_days = 10\n",
    "\n",
    "# Create composites for each date using create_composite_DW function\n",
    "composite_T1 = create_composite_DW(T1_date, range_days, roi)\n",
    "composite_T2 = create_composite_DW(T2_date, range_days, roi)\n",
    "\n",
    "# Compute the change vector of probabilities (for each pixel across probability classes)\n",
    "delta_prob = composite_T2.subtract(composite_T1)\n",
    "\n",
    "# Compute the magnitude of the change vector using the Euclidean norm across bands\n",
    "magnitude = delta_prob.pow(2).reduce(ee.Reducer.sum()).sqrt()\n",
    "\n",
    "# Convert the image to an array and obtain the index of the maximum along axis 0 (bands)\n",
    "labels_t1 = composite_T1.toArray().arrayArgmax().arrayGet([0]).rename('labels_t1')\n",
    "labels_t2 = composite_T2.toArray().arrayArgmax().arrayGet([0]).rename('labels_t2')\n",
    "\n",
    "# Optimize the threshold\n",
    "best_threshold, best_Lk = threshold_optimization(magnitude, labels_t1, labels_t2, roi, 10)\n",
    "print(\"Best threshold:\", best_threshold, \"with Lk =\", best_Lk)\n",
    "\n",
    "# --- Generate the change mask ---\n",
    "# The change mask is defined by applying the optimized threshold to the magnitude image.\n",
    "changed_mask = magnitude.gte(ee.Image.constant(best_threshold))\n",
    "\n",
    "# --- Apply change type discrimination ---\n",
    "# It is assumed that change_type_discrimination works on probability images\n",
    "# and returns an ee.Image with the transition code (a*100 + b) for each pixel.\n",
    "change_map = change_type_discrimination(composite_T1, composite_T2, changed_mask, 9)\n",
    "\n",
    "# --- Example: Extract forest change ---\n",
    "# It is assumed that the forest class is 1, so transitions with a = 1 will have codes between 100 and 200.\n",
    "forest_change = change_map.gte(100).And(change_map.lte(200))\n",
    "\n",
    "# Remove small objects (e.g., objects smaller than 100 pixels)\n",
    "forest_change_cleaned = remove_small_objects(forest_change, min_size=100, connectivity=8)\n",
    "\n",
    "# Vectorize the cleaned forest change image and visualize in GeeMap\n",
    "forest_change_vectors = forest_change_cleaned.updateMask(forest_change_cleaned).reduceToVectors(\n",
    "    geometry=roi,\n",
    "    scale=10,\n",
    "    geometryType='polygon',\n",
    "    eightConnected=True,\n",
    "    labelProperty='forest_change',\n",
    "    reducer=ee.Reducer.countEvery()\n",
    ")"
   ]
  },
  {
   "cell_type": "code",
   "execution_count": null,
   "metadata": {},
   "outputs": [
    {
     "data": {
      "text/html": [
       "\n",
       "            <style>\n",
       "                .geemap-dark {\n",
       "                    --jp-widgets-color: white;\n",
       "                    --jp-widgets-label-color: white;\n",
       "                    --jp-ui-font-color1: white;\n",
       "                    --jp-layout-color2: #454545;\n",
       "                    background-color: #383838;\n",
       "                }\n",
       "\n",
       "                .geemap-dark .jupyter-button {\n",
       "                    --jp-layout-color3: #383838;\n",
       "                }\n",
       "\n",
       "                .geemap-colab {\n",
       "                    background-color: var(--colab-primary-surface-color, white);\n",
       "                }\n",
       "\n",
       "                .geemap-colab .jupyter-button {\n",
       "                    --jp-layout-color3: var(--colab-primary-surface-color, white);\n",
       "                }\n",
       "            </style>\n",
       "            "
      ],
      "text/plain": [
       "<IPython.core.display.HTML object>"
      ]
     },
     "metadata": {},
     "output_type": "display_data"
    }
   ],
   "source": [
    "# # Retrieve the feature collection as a dictionary\n",
    "# forest_change_vectors_info = forest_change_vectors.getInfo()\n",
    "\n",
    "# # Write the dictionary to a GeoJSON file locally\n",
    "# with open('forest_change_vectors.geojson', 'w') as f:\n",
    "#     json.dump(forest_change_vectors_info, f)\n",
    "\n",
    "# # Retreieve the forest change as a numpy array\n",
    "# forest_change_array = geemap.ee_to_numpy(forest_change, region=roi)\n",
    "\n",
    "# ## Save the forest change array as a GeoTIFF\n",
    "# geemap.numpy_to_geotiff(forest_change_array, 'forest_change.tiff', roi.getInfo()['coordinates'], crs='EPSG:4326')"
   ]
  },
  {
   "cell_type": "code",
   "execution_count": 5,
   "metadata": {},
   "outputs": [
    {
     "data": {
      "text/html": [
       "\n",
       "            <style>\n",
       "                .geemap-dark {\n",
       "                    --jp-widgets-color: white;\n",
       "                    --jp-widgets-label-color: white;\n",
       "                    --jp-ui-font-color1: white;\n",
       "                    --jp-layout-color2: #454545;\n",
       "                    background-color: #383838;\n",
       "                }\n",
       "\n",
       "                .geemap-dark .jupyter-button {\n",
       "                    --jp-layout-color3: #383838;\n",
       "                }\n",
       "\n",
       "                .geemap-colab {\n",
       "                    background-color: var(--colab-primary-surface-color, white);\n",
       "                }\n",
       "\n",
       "                .geemap-colab .jupyter-button {\n",
       "                    --jp-layout-color3: var(--colab-primary-surface-color, white);\n",
       "                }\n",
       "            </style>\n",
       "            "
      ],
      "text/plain": [
       "<IPython.core.display.HTML object>"
      ]
     },
     "metadata": {},
     "output_type": "display_data"
    },
    {
     "name": "stdout",
     "output_type": "stream",
     "text": [
      "Sentinel-2 available images: 3\n",
      "Sentinel-2 available images: 4\n"
     ]
    },
    {
     "data": {
      "application/vnd.jupyter.widget-view+json": {
       "model_id": "7643f990c1324ef1b8957db1b7c73737",
       "version_major": 2,
       "version_minor": 0
      },
      "text/plain": [
       "Map(center=[-32.48227999382408, -64.74328619065847], controls=(WidgetControl(options=['position', 'transparent…"
      ]
     },
     "execution_count": 5,
     "metadata": {},
     "output_type": "execute_result"
    }
   ],
   "source": [
    "# Create a new geemap interactive map\n",
    "Map = geemap.Map()\n",
    "\n",
    "# Center the map on the region of interest (roi) with zoom level 10\n",
    "Map.centerObject(roi, 10)\n",
    "\n",
    "# Create a composite Sentinel-2 image for time T1 and clip it to the ROI\n",
    "S2_T1 = create_composite_S2(T1_date, range_days, roi)\n",
    "S2_T1_clip = S2_T1.clip(roi)\n",
    "\n",
    "# Create a composite Sentinel-2 image for time T2 and clip it to the ROI\n",
    "S2_T2 = create_composite_S2(T2_date, range_days, roi)\n",
    "S2_T2_clip = S2_T2.clip(roi)\n",
    "\n",
    "# Add the T1 composite image to the map with a natural-color visualization (RGB using bands B4, B3, B2)\n",
    "Map.addLayer(\n",
    "    S2_T1_clip, \n",
    "    {'bands': ['B4', 'B3', 'B2'], 'min': 0, 'max': 3000}, \n",
    "    'S2 T1'\n",
    ")\n",
    "\n",
    "# Add the T2 composite image to the map with the same visualization parameters\n",
    "Map.addLayer(\n",
    "    S2_T2_clip, \n",
    "    {'bands': ['B4', 'B3', 'B2'], 'min': 0, 'max': 3000}, \n",
    "    'S2 T2'\n",
    ")\n",
    "\n",
    "# Add the forest change vectors layer, painting the vectors on an empty image.\n",
    "# The stroke width is set to 2 pixels and the color is red ('FF0000').\n",
    "Map.addLayer(\n",
    "    ee.Image().paint(forest_change_vectors, 0, 2),\n",
    "    {'palette': 'FF0000'},\n",
    "    'Forest Change Vectors'\n",
    ")\n",
    "\n",
    "# Add the region of interest (ROI) as a blue outline for reference.\n",
    "Map.addLayer(\n",
    "    ee.Image().paint(roi, 0, 2), \n",
    "    {'palette': 'blue'}, \n",
    "    'ROI'\n",
    ")\n",
    "\n",
    "# Display the map\n",
    "Map"
   ]
  },
  {
   "cell_type": "markdown",
   "metadata": {},
   "source": [
    "### Bibliography"
   ]
  },
  {
   "cell_type": "markdown",
   "metadata": {},
   "source": [
    "```\n",
    "@ARTICLE{5597922,\n",
    "  author={Chen, Jin and Chen, Xuehong and Cui, Xihong and Chen, Jun},\n",
    "  journal={IEEE Geoscience and Remote Sensing Letters}, \n",
    "  title={Change Vector Analysis in Posterior Probability Space: A New Method for Land Cover Change Detection}, \n",
    "  year={2011},\n",
    "  volume={8},\n",
    "  number={2},\n",
    "  pages={317-321},\n",
    "  keywords={Remote sensing;Pixel;Radiometry;Accuracy;Training;Satellites;Earth;Change vector analysis (CVA);land cover change;postclassification comparison (PCC);posterior probability space},\n",
    "  doi={10.1109/LGRS.2010.2068537}}\n",
    "\n",
    "```"
   ]
  }
 ],
 "metadata": {
  "kernelspec": {
   "display_name": "omdena",
   "language": "python",
   "name": "python3"
  },
  "language_info": {
   "codemirror_mode": {
    "name": "ipython",
    "version": 3
   },
   "file_extension": ".py",
   "mimetype": "text/x-python",
   "name": "python",
   "nbconvert_exporter": "python",
   "pygments_lexer": "ipython3",
   "version": "3.11.8"
  }
 },
 "nbformat": 4,
 "nbformat_minor": 2
}
