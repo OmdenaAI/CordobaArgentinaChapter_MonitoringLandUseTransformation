{
 "cells": [
  {
   "cell_type": "markdown",
   "metadata": {},
   "source": [
    "## [In progress]: Dataset with Global Forest Change as a target"
   ]
  },
  {
   "cell_type": "code",
   "execution_count": null,
   "metadata": {},
   "outputs": [],
   "source": [
    "import pathlib\n",
    "import pyproj\n",
    "import numpy as np\n",
    "import rasterio\n",
    "import matplotlib.pyplot as plt\n",
    "import skimage.morphology as morph\n",
    "import torch\n",
    "import torch.nn.functional as F\n",
    "\n",
    "from pyproj.aoi import AreaOfInterest\n",
    "from pyproj.database import query_utm_crs_info\n",
    "from utils import  get_credentials, download_composite"
   ]
  },
  {
   "cell_type": "code",
   "execution_count": null,
   "metadata": {},
   "outputs": [],
   "source": [
    "# Get credentials\n",
    "# credentials = get_credentials() \n",
    "\n",
    "DB_FOLDER = pathlib.Path(\"/media/tidop/Datos_4TB1/databases\")\n",
    "GFC_FOLDER = DB_FOLDER / \"gfc\"\n",
    "GFC_FOLDER.mkdir(parents=True, exist_ok=True)\n",
    "\n",
    "# As example, we will download the GFC data for 2020 and 2021\n",
    "lat, lon = -32.56392,-64.72977\n",
    "\n",
    "download_composite(lat, lon, f\"{GFC_FOLDER}/2020.tif\", 512, 10, \"2020-01-01\", \"2020-12-31\", 0.6)\n",
    "download_composite(lat, lon, f\"{GFC_FOLDER}/2021.tif\", 512, 10, \"2021-01-01\", \"2021-12-31\", 0.6)\n",
    "\n",
    "## Bounding box from the lat,lon\n",
    "## Convert to metric coordinates\n",
    "tm_crs = query_utm_crs_info(datum_name=\"WGS84\", area_of_interest=AreaOfInterest(lon, lat, lon, lat))\n",
    "epsg_code = tm_crs[0].code\n",
    "\n",
    "geo2met = pyproj.Transformer.from_crs('epsg:4326', f'epsg:{epsg_code}', always_xy=True)\n",
    "x, y = geo2met.transform(lon, lat)\n",
    "\n",
    "bbox = [x - 2560, y - 2560, x + 2560, y + 2560]\n",
    "\n",
    "## Turn back to geographic coordinates\n",
    "met2geo = pyproj.Transformer.from_crs(f'epsg:{epsg_code}', 'epsg:4326', always_xy=True)\n",
    "lx, ly = met2geo.transform(bbox[0], bbox[1])\n",
    "rx, ry = met2geo.transform(bbox[2], bbox[3])\n",
    "\n",
    "bbox_geo = [lx, ly, rx, ry]\n",
    "\n",
    "raster_file = GFC_FOLDER / \"Hansen_GFC-2023-v1.11_lossyear_30S_070W.tif\"\n",
    "\n",
    "## Plot the images\n",
    "fig, ax = plt.subplots(2, 3, figsize=(12, 8))\n",
    "with rasterio.open(f\"{GFC_FOLDER}/2020.tif\") as src1, rasterio.open(f\"{GFC_FOLDER}/2021.tif\") as src2, \\\n",
    "    rasterio.open(raster_file) as src3:\n",
    "    # Calculate the window to read\n",
    "    window = rasterio.windows.from_bounds(*bbox_geo, transform=src3.transform)\n",
    "    out_image = src3.read(1, window=window)\n",
    "    \n",
    "    ax[0,0].imshow(src1.read([3, 2, 1]).transpose(1, 2, 0) * 6/ 10000)\n",
    "    ax[0,0].set_title(\"S2 Composite 2020\")\n",
    "\n",
    "    ax[0,1].imshow(src2.read([3, 2, 1]).transpose(1, 2, 0) * 6/ 10000)\n",
    "    ax[0,1].set_title(\"S2 Composite 2021\")\n",
    "\n",
    "    out_image_2021 = (out_image == 21).astype(np.uint8)\n",
    "    ax[0,2].imshow(out_image_2021, cmap='gray')\n",
    "    ax[0,2].set_title(\"GFC Ground Truth 2021\")\n",
    "\n",
    "    out_cleaned_2021 = morph.remove_small_objects(out_image_2021, min_size=64, connectivity=1)\n",
    "\n",
    "    ax[1,0].imshow(out_cleaned_2021, cmap='gray')\n",
    "    ax[1,0].set_title(\"GFC Ground Truth 2021 Cleaned\") \n",
    "\n",
    "    # Resize to shape of 512,512 for GFC 2021 using torch.nn.functional.interpolate\n",
    "    out_interp_2021 = F.interpolate(torch.tensor(out_cleaned_2021).unsqueeze(0).unsqueeze(0).float(), \n",
    "                                     size=(512, 512)).squeeze().numpy()\n",
    "    # Add 10m resolution when it's exported\n",
    "    ax[1,1].imshow(out_interp_2021, cmap='gray')\n",
    "    ax[1,1].set_title(\"GFC GT 2021 Cleaned Resized\")    \n",
    "    \n",
    "    # GT Contour\n",
    "    ax[1,2].contour(out_interp_2021, colors='red', levels=[0.5])\n",
    "    ax[1,2].imshow(src2.read([3, 2, 1]).transpose(1, 2, 0) * 6 /10000)\n",
    "    ax[1,2].set_title(f\"GT Contour\")\n",
    "        \n",
    "    plt.show()"
   ]
  }
 ],
 "metadata": {
  "kernelspec": {
   "display_name": "omdena",
   "language": "python",
   "name": "python3"
  },
  "language_info": {
   "codemirror_mode": {
    "name": "ipython",
    "version": 3
   },
   "file_extension": ".py",
   "mimetype": "text/x-python",
   "name": "python",
   "nbconvert_exporter": "python",
   "pygments_lexer": "ipython3",
   "version": "3.11.8"
  }
 },
 "nbformat": 4,
 "nbformat_minor": 2
}
