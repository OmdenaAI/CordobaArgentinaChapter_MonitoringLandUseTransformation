{
 "cells": [
  {
   "cell_type": "markdown",
   "metadata": {},
   "source": [
    "# Satellite Image Processing for Deforestation Detection\n",
    "\n",
    "## Overview\n",
    "This notebook implements a comprehensive deforestation detection system using Google Earth Engine (GEE) and Sentinel-2 imagery. It focuses on the Córdoba region in Argentina, employing multiple filtering techniques and NDVI-based change detection.\n",
    "\n",
    "## Technical Implementation Details\n",
    "\n",
    "### 1. Data Collection & Filtering\n",
    "- **Data Source**: \n",
    "  - Sentinel-2 Collection: 'COPERNICUS/S2'\n",
    "  - Spatial Resolution: 10 meters\n",
    "  - Spectral Bands: B2, B3, B4, B8\n",
    "\n",
    "- **Filtering Chain**:\n",
    "  ```python\n",
    "  ee.ImageCollection('COPERNICUS/S2')\n",
    "    .filterBounds(region)\n",
    "    .filterDate(start_date, end_date)\n",
    "    .filter(ee.Filter.lt('CLOUDY_PIXEL_PERCENTAGE', 20))\n",
    "    .median()\n",
    "  ```\n",
    "  1. Spatial Filter: `.filterBounds(region)`\n",
    "  2. Temporal Filter: `.filterDate(start_date, end_date)`\n",
    "  3. Cloud Filter: `CLOUDY_PIXEL_PERCENTAGE < 20%`\n",
    "  4. Composite Filter: `.median()` for temporal aggregation\n",
    "\n",
    "### 2. NDVI Calculation & Change Detection\n",
    "- **NDVI Formula**: \n",
    "  ```python\n",
    "  ndvi = image.normalizedDifference(['B8', 'B4'])\n",
    "  # Where: B8 = NIR band, B4 = Red band\n",
    "  ```\n",
    "\n",
    "- **Change Detection Parameters**:\n",
    "  - NDVI Threshold: -0.1 (configurable)\n",
    "  - Change Detection: `ndvi_after.subtract(ndvi_before)`\n",
    "  - Deforestation Mask: `ndvi_change.lt(ndvi_threshold)`\n",
    "\n",
    "### 3. Area Calculations\n",
    "- **Pixel Area Conversion**:\n",
    "  ```python\n",
    "  deforestation_area = deforestation.multiply(ee.Image.pixelArea())\n",
    "  ```\n",
    "- **Scale**: 10 meters\n",
    "- **Units**: Hectares (area/10000)\n",
    "- **Maximum Pixels**: 1e9 for computation\n",
    "\n",
    "### 4. Visualization Parameters\n",
    "- **True Color Display**:\n",
    "  ```python\n",
    "  true_color_viz = {\n",
    "      'bands': ['B4', 'B3', 'B2'],\n",
    "      'min': 0,\n",
    "      'max': 3000\n",
    "  }\n",
    "  ```\n",
    "\n",
    "- **NDVI Display**:\n",
    "  ```python\n",
    "  ndvi_viz = {\n",
    "      'min': -1,\n",
    "      'max': 1,\n",
    "      'palette': ['blue', 'white', 'green']\n",
    "  }\n",
    "  ```\n",
    "\n",
    "- **Change Detection**:\n",
    "  ```python\n",
    "  change_viz = {\n",
    "      'min': -0.3,\n",
    "      'max': 0.3,\n",
    "      'palette': ['red', 'yellow', 'green']\n",
    "  }\n",
    "  ```\n",
    "\n",
    "## Processing Steps\n",
    "1. **Pre-processing**:\n",
    "   - Spatial boundary definition\n",
    "   - Date range selection\n",
    "   - Cloud masking application\n",
    "\n",
    "2. **NDVI Processing**:\n",
    "   - Band selection (NIR, Red)\n",
    "   - NDVI calculation\n",
    "   - Temporal differencing\n",
    "\n",
    "3. **Change Detection**:\n",
    "   - Threshold application\n",
    "   - Area calculation\n",
    "   - Mask generation\n",
    "\n",
    "4. **Results Generation**:\n",
    "   - Area statistics\n",
    "   - Duration calculation\n",
    "   - Report compilation\n",
    "   - Map visualization\n",
    "\n",
    "## Output Analysis\n",
    "1. **Quantitative Metrics**:\n",
    "   ```\n",
    "   - Total Area (hectares)\n",
    "   - Deforested Area (hectares)\n",
    "   - Analysis Duration (days)\n",
    "   - Cloud Coverage (percentage)\n",
    "   ```\n",
    "\n",
    "2. **Visual Outputs**:\n",
    "   - Before/After satellite imagery\n",
    "   - NDVI maps\n",
    "   - Change detection visualization\n",
    "   - Deforestation mask"
   ]
  },
  {
   "cell_type": "code",
   "execution_count": 13,
   "metadata": {},
   "outputs": [
    {
     "data": {
      "text/html": [
       "\n",
       "            <style>\n",
       "                .geemap-dark {\n",
       "                    --jp-widgets-color: white;\n",
       "                    --jp-widgets-label-color: white;\n",
       "                    --jp-ui-font-color1: white;\n",
       "                    --jp-layout-color2: #454545;\n",
       "                    background-color: #383838;\n",
       "                }\n",
       "\n",
       "                .geemap-dark .jupyter-button {\n",
       "                    --jp-layout-color3: #383838;\n",
       "                }\n",
       "\n",
       "                .geemap-colab {\n",
       "                    background-color: var(--colab-primary-surface-color, white);\n",
       "                }\n",
       "\n",
       "                .geemap-colab .jupyter-button {\n",
       "                    --jp-layout-color3: var(--colab-primary-surface-color, white);\n",
       "                }\n",
       "            </style>\n",
       "            "
      ],
      "text/plain": [
       "<IPython.core.display.HTML object>"
      ]
     },
     "metadata": {},
     "output_type": "display_data"
    }
   ],
   "source": [
    "import ee\n",
    "import geemap\n",
    "import folium\n",
    "from folium import plugins\n"
   ]
  },
  {
   "cell_type": "code",
   "execution_count": 14,
   "metadata": {},
   "outputs": [
    {
     "data": {
      "text/html": [
       "\n",
       "            <style>\n",
       "                .geemap-dark {\n",
       "                    --jp-widgets-color: white;\n",
       "                    --jp-widgets-label-color: white;\n",
       "                    --jp-ui-font-color1: white;\n",
       "                    --jp-layout-color2: #454545;\n",
       "                    background-color: #383838;\n",
       "                }\n",
       "\n",
       "                .geemap-dark .jupyter-button {\n",
       "                    --jp-layout-color3: #383838;\n",
       "                }\n",
       "\n",
       "                .geemap-colab {\n",
       "                    background-color: var(--colab-primary-surface-color, white);\n",
       "                }\n",
       "\n",
       "                .geemap-colab .jupyter-button {\n",
       "                    --jp-layout-color3: var(--colab-primary-surface-color, white);\n",
       "                }\n",
       "            </style>\n",
       "            "
      ],
      "text/plain": [
       "<IPython.core.display.HTML object>"
      ]
     },
     "metadata": {},
     "output_type": "display_data"
    },
    {
     "data": {
      "text/plain": [
       "True"
      ]
     },
     "execution_count": 14,
     "metadata": {},
     "output_type": "execute_result"
    }
   ],
   "source": [
    "ee.Authenticate(auth_mode='colab')"
   ]
  },
  {
   "cell_type": "code",
   "execution_count": 15,
   "metadata": {},
   "outputs": [
    {
     "data": {
      "text/html": [
       "\n",
       "            <style>\n",
       "                .geemap-dark {\n",
       "                    --jp-widgets-color: white;\n",
       "                    --jp-widgets-label-color: white;\n",
       "                    --jp-ui-font-color1: white;\n",
       "                    --jp-layout-color2: #454545;\n",
       "                    background-color: #383838;\n",
       "                }\n",
       "\n",
       "                .geemap-dark .jupyter-button {\n",
       "                    --jp-layout-color3: #383838;\n",
       "                }\n",
       "\n",
       "                .geemap-colab {\n",
       "                    background-color: var(--colab-primary-surface-color, white);\n",
       "                }\n",
       "\n",
       "                .geemap-colab .jupyter-button {\n",
       "                    --jp-layout-color3: var(--colab-primary-surface-color, white);\n",
       "                }\n",
       "            </style>\n",
       "            "
      ],
      "text/plain": [
       "<IPython.core.display.HTML object>"
      ]
     },
     "metadata": {},
     "output_type": "display_data"
    }
   ],
   "source": [
    "ee.Initialize(project='ee-mujtabanaqvi29')"
   ]
  },
  {
   "cell_type": "code",
   "execution_count": 16,
   "metadata": {},
   "outputs": [
    {
     "data": {
      "text/html": [
       "\n",
       "            <style>\n",
       "                .geemap-dark {\n",
       "                    --jp-widgets-color: white;\n",
       "                    --jp-widgets-label-color: white;\n",
       "                    --jp-ui-font-color1: white;\n",
       "                    --jp-layout-color2: #454545;\n",
       "                    background-color: #383838;\n",
       "                }\n",
       "\n",
       "                .geemap-dark .jupyter-button {\n",
       "                    --jp-layout-color3: #383838;\n",
       "                }\n",
       "\n",
       "                .geemap-colab {\n",
       "                    background-color: var(--colab-primary-surface-color, white);\n",
       "                }\n",
       "\n",
       "                .geemap-colab .jupyter-button {\n",
       "                    --jp-layout-color3: var(--colab-primary-surface-color, white);\n",
       "                }\n",
       "            </style>\n",
       "            "
      ],
      "text/plain": [
       "<IPython.core.display.HTML object>"
      ]
     },
     "metadata": {},
     "output_type": "display_data"
    }
   ],
   "source": [
    "import ee\n",
    "import geemap\n",
    "from datetime import datetime  \n",
    "   \n"
   ]
  },
  {
   "cell_type": "code",
   "execution_count": 17,
   "metadata": {},
   "outputs": [
    {
     "data": {
      "text/html": [
       "\n",
       "            <style>\n",
       "                .geemap-dark {\n",
       "                    --jp-widgets-color: white;\n",
       "                    --jp-widgets-label-color: white;\n",
       "                    --jp-ui-font-color1: white;\n",
       "                    --jp-layout-color2: #454545;\n",
       "                    background-color: #383838;\n",
       "                }\n",
       "\n",
       "                .geemap-dark .jupyter-button {\n",
       "                    --jp-layout-color3: #383838;\n",
       "                }\n",
       "\n",
       "                .geemap-colab {\n",
       "                    background-color: var(--colab-primary-surface-color, white);\n",
       "                }\n",
       "\n",
       "                .geemap-colab .jupyter-button {\n",
       "                    --jp-layout-color3: var(--colab-primary-surface-color, white);\n",
       "                }\n",
       "            </style>\n",
       "            "
      ],
      "text/plain": [
       "<IPython.core.display.HTML object>"
      ]
     },
     "metadata": {},
     "output_type": "display_data"
    },
    {
     "name": "stdout",
     "output_type": "stream",
     "text": [
      "\n",
      "    Deforestation Analysis Report\n",
      "    ------------------------------\n",
      "    Region Investigated: Custom Region (User Defined)\n",
      "    Total Area Investigated: 105.37 hectares\n",
      "    Analysis Dates:\n",
      "        - Before: 2022-01-01\n",
      "        - After: 2022-12-31\n",
      "    Analysis Duration: 364 days\n",
      "    NDVI Threshold for Deforestation: -0.1\n",
      "    Total Deforested Area: 0.12 hectares\n",
      "    \n"
     ]
    },
    {
     "data": {
      "application/vnd.jupyter.widget-view+json": {
       "model_id": "488f05331f33451ca3599cbc3adf6855",
       "version_major": 2,
       "version_minor": 0
      },
      "text/plain": [
       "Map(center=[-31.405000008271625, -64.1750000000164], controls=(WidgetControl(options=['position', 'transparent…"
      ]
     },
     "execution_count": 17,
     "metadata": {},
     "output_type": "execute_result"
    }
   ],
   "source": [
    "def detect_deforestation_with_filters(region, start_date_before, end_date_after, ndvi_threshold=-0.15):\n",
    "    \"\"\"\n",
    "    Detects deforestation, applies Gaussian smoothing and Sobel edge detection, \n",
    "    and generates a detailed report including:\n",
    "    - Dates of analysis\n",
    "    - Duration\n",
    "    - Total investigated area\n",
    "    - Total deforested area (in hectares)\n",
    "    \"\"\"\n",
    "    # Load Sentinel-2 imagery\n",
    "    before = ee.ImageCollection('COPERNICUS/S2') \\\n",
    "        .filterBounds(region) \\\n",
    "        .filterDate(start_date_before, end_date_after) \\\n",
    "        .filter(ee.Filter.lt('CLOUDY_PIXEL_PERCENTAGE', 20)) \\\n",
    "        .median()\n",
    "\n",
    "    after = ee.ImageCollection('COPERNICUS/S2') \\\n",
    "        .filterBounds(region) \\\n",
    "        .filterDate(end_date_after, '2023-12-31') \\\n",
    "        .filter(ee.Filter.lt('CLOUDY_PIXEL_PERCENTAGE', 20)) \\\n",
    "        .median()\n",
    "\n",
    "    # Calculate NDVI for before and after\n",
    "    ndvi_before = before.normalizedDifference(['B8', 'B4']).rename('NDVI_Before')\n",
    "    ndvi_after = after.normalizedDifference(['B8', 'B4']).rename('NDVI_After')\n",
    "\n",
    "    # Apply Gaussian smoothing\n",
    "    gaussian_kernel = ee.Kernel.gaussian(radius=3, sigma=2, units='pixels')\n",
    "    smoothed_ndvi_before = ndvi_before.convolve(gaussian_kernel).rename('Smoothed_NDVI_Before')\n",
    "    smoothed_ndvi_after = ndvi_after.convolve(gaussian_kernel).rename('Smoothed_NDVI_After')\n",
    "\n",
    "    # Sobel edge detection\n",
    "    sobel_kernel = ee.Kernel.sobel()\n",
    "    edges_before = ndvi_before.convolve(sobel_kernel).rename('Edges_Before')\n",
    "    edges_after = ndvi_after.convolve(sobel_kernel).rename('Edges_After')\n",
    "\n",
    "    # Calculate NDVI change\n",
    "    ndvi_change = ndvi_after.subtract(ndvi_before).rename('NDVI_Change')\n",
    "\n",
    "    # Apply threshold to detect deforestation\n",
    "    deforestation = ndvi_change.lt(ndvi_threshold).selfMask()\n",
    "\n",
    "    # Calculate the total deforested area\n",
    "    deforestation_area = deforestation.multiply(ee.Image.pixelArea())\n",
    "    total_deforestation_area = deforestation_area.reduceRegion(\n",
    "        reducer=ee.Reducer.sum(),\n",
    "        geometry=region,\n",
    "        scale=10,\n",
    "        maxPixels=1e9\n",
    "    ).getInfo()\n",
    "\n",
    "    # Convert to hectares\n",
    "    deforested_area_ha = total_deforestation_area.get('NDVI_Change', 0) / 10_000\n",
    "\n",
    "    # Calculate the total area of the region (in hectares)\n",
    "    total_region_area = ee.Image.pixelArea().reduceRegion(\n",
    "        reducer=ee.Reducer.sum(),\n",
    "        geometry=region,\n",
    "        scale=10,\n",
    "        maxPixels=1e9\n",
    "    ).getInfo()\n",
    "    total_region_area_ha = total_region_area.get('area') / 10_000\n",
    "\n",
    "    # Calculate the duration of analysis\n",
    "    start_date = datetime.strptime(start_date_before, '%Y-%m-%d')\n",
    "    end_date = datetime.strptime(end_date_after, '%Y-%m-%d')\n",
    "    duration_days = (end_date - start_date).days\n",
    "\n",
    "    # Visualization parameters\n",
    "    ndvi_viz = {'min': -1, 'max': 1, 'palette': ['blue', 'white', 'green']}\n",
    "    change_viz = {'min': -0.3, 'max': 0.3, 'palette': ['red', 'yellow', 'green']}\n",
    "    deforestation_viz = {'min': 0, 'max': 1, 'palette': ['red']}\n",
    "    true_color_viz = {'bands': ['B4', 'B3', 'B2'], 'min': 0, 'max': 3000}\n",
    "    edge_viz = {'min': 0, 'max': 1, 'palette': ['black', 'white']}\n",
    "\n",
    "    # Visualization\n",
    "    Map = geemap.Map()\n",
    "    Map.centerObject(region, 12)\n",
    "    Map.addLayer(before, true_color_viz, 'Satellite Image Before')\n",
    "    Map.addLayer(after, true_color_viz, 'Satellite Image After')\n",
    "    Map.addLayer(ndvi_before, ndvi_viz, 'NDVI Before')\n",
    "    Map.addLayer(ndvi_after, ndvi_viz, 'NDVI After')\n",
    "    Map.addLayer(smoothed_ndvi_before, ndvi_viz, 'Smoothed NDVI Before')\n",
    "    Map.addLayer(smoothed_ndvi_after, ndvi_viz, 'Smoothed NDVI After')\n",
    "    Map.addLayer(edges_before, edge_viz, 'Edges Before')\n",
    "    Map.addLayer(edges_after, edge_viz, 'Edges After')\n",
    "    Map.addLayer(ndvi_change, change_viz, 'NDVI Change')\n",
    "    Map.addLayer(deforestation, deforestation_viz, 'Deforestation Detected')\n",
    "\n",
    "    # Generate the detailed report\n",
    "    report = f\"\"\"\n",
    "    Deforestation Analysis Report\n",
    "    ------------------------------\n",
    "    Region Investigated: Custom Region (User Defined)\n",
    "    Total Area Investigated: {total_region_area_ha:.2f} hectares\n",
    "    Analysis Dates:\n",
    "        - Before: {start_date_before}\n",
    "        - After: {end_date_after}\n",
    "    Analysis Duration: {duration_days} days\n",
    "    NDVI Threshold for Deforestation: {ndvi_threshold}\n",
    "    Total Deforested Area: {deforested_area_ha:.2f} hectares\n",
    "    \"\"\"\n",
    "    print(report)\n",
    "    return Map\n",
    "\n",
    "# Define the region (example: Córdoba region)\n",
    "region = ee.Geometry.Polygon([\n",
    "    [[-64.18, -31.40], [-64.17, -31.40], [-64.17, -31.41], [-64.18, -31.41], [-64.18, -31.40]]\n",
    "])\n",
    "\n",
    "# Detect deforestation with additional filters and generate the report\n",
    "Map = detect_deforestation_with_filters(region, '2022-01-01', '2022-12-31', ndvi_threshold=-0.1)\n",
    "Map\n"
   ]
  }
 ],
 "metadata": {
  "kernelspec": {
   "display_name": "Python 3",
   "language": "python",
   "name": "python3"
  },
  "language_info": {
   "codemirror_mode": {
    "name": "ipython",
    "version": 3
   },
   "file_extension": ".py",
   "mimetype": "text/x-python",
   "name": "python",
   "nbconvert_exporter": "python",
   "pygments_lexer": "ipython3",
   "version": "3.11.8"
  }
 },
 "nbformat": 4,
 "nbformat_minor": 2
}
