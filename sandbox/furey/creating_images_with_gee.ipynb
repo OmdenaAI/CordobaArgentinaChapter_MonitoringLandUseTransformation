{
 "cells": [
  {
   "cell_type": "code",
   "execution_count": 1,
   "metadata": {},
   "outputs": [
    {
     "name": "stdout",
     "output_type": "stream",
     "text": [
      "Buscando credenciales en: /Users/franfurey/Desktop/all/projects/omdena/argentina/CordobaArgentinaChapter_MonitoringLandUseTransformation/data/climatech-426614-3aa74ba1de08.json\n"
     ]
    }
   ],
   "source": [
    "import os\n",
    "import sys\n",
    "import ee\n",
    "from dotenv import load_dotenv\n",
    "from analyze_sites import analyze_site\n",
    "\n",
    "# Get the notebook directory\n",
    "NOTEBOOK_DIR = os.getcwd()\n",
    "\n",
    "# Get the project root directory (subiendo dos niveles)\n",
    "PROJECT_ROOT = os.path.abspath(os.path.join(NOTEBOOK_DIR, '../..'))\n",
    "\n",
    "# Load environment variables from .env file (que está en la raíz)\n",
    "load_dotenv(os.path.join(PROJECT_ROOT, '.env'))\n",
    "\n",
    "# Construir la ruta completa al archivo de credenciales desde la raíz\n",
    "credentials_path = os.path.join(PROJECT_ROOT, os.getenv('GEE_CREDENTIALS_PATH'))\n",
    "\n",
    "print(f\"Buscando credenciales en: {credentials_path}\")\n",
    "\n",
    "# Initialize GEE\n",
    "credentials = ee.ServiceAccountCredentials(\n",
    "    '',\n",
    "    credentials_path,\n",
    "    os.getenv('GEE_PROJECT_ID')\n",
    ")\n",
    "ee.Initialize(credentials)"
   ]
  },
  {
   "cell_type": "markdown",
   "metadata": {},
   "source": []
  },
  {
   "cell_type": "code",
   "execution_count": 2,
   "metadata": {},
   "outputs": [
    {
     "data": {
      "text/html": [
       "\n",
       "            <style>\n",
       "                .geemap-dark {\n",
       "                    --jp-widgets-color: white;\n",
       "                    --jp-widgets-label-color: white;\n",
       "                    --jp-ui-font-color1: white;\n",
       "                    --jp-layout-color2: #454545;\n",
       "                    background-color: #383838;\n",
       "                }\n",
       "\n",
       "                .geemap-dark .jupyter-button {\n",
       "                    --jp-layout-color3: #383838;\n",
       "                }\n",
       "\n",
       "                .geemap-colab {\n",
       "                    background-color: var(--colab-primary-surface-color, white);\n",
       "                }\n",
       "\n",
       "                .geemap-colab .jupyter-button {\n",
       "                    --jp-layout-color3: var(--colab-primary-surface-color, white);\n",
       "                }\n",
       "            </style>\n",
       "            "
      ],
      "text/plain": [
       "<IPython.core.display.HTML object>"
      ]
     },
     "metadata": {},
     "output_type": "display_data"
    },
    {
     "name": "stdout",
     "output_type": "stream",
     "text": [
      "\n",
      "Processing: RIO SECO (221.29 ha)\n",
      "Coordinates: -29.84221164110139, -62.99273743052969\n",
      "Period: yearly (1 images per year)\n",
      "Year range: 2018-2023\n",
      "  2018: 6 images found\n",
      "  2019: 125 images found\n",
      "  2020: 160 images found\n",
      "  2021: 157 images found\n",
      "  2022: 134 images found\n",
      "  2023: 134 images found\n"
     ]
    }
   ],
   "source": [
    "map = analyze_site(\n",
    "    site_index=1,\n",
    "    start_year=2018,\n",
    "    end_year=2023,\n",
    "    period='yearly',\n",
    "    csv_year=2022\n",
    ")"
   ]
  },
  {
   "cell_type": "code",
   "execution_count": 3,
   "metadata": {},
   "outputs": [
    {
     "data": {
      "text/html": [
       "\n",
       "            <style>\n",
       "                .geemap-dark {\n",
       "                    --jp-widgets-color: white;\n",
       "                    --jp-widgets-label-color: white;\n",
       "                    --jp-ui-font-color1: white;\n",
       "                    --jp-layout-color2: #454545;\n",
       "                    background-color: #383838;\n",
       "                }\n",
       "\n",
       "                .geemap-dark .jupyter-button {\n",
       "                    --jp-layout-color3: #383838;\n",
       "                }\n",
       "\n",
       "                .geemap-colab {\n",
       "                    background-color: var(--colab-primary-surface-color, white);\n",
       "                }\n",
       "\n",
       "                .geemap-colab .jupyter-button {\n",
       "                    --jp-layout-color3: var(--colab-primary-surface-color, white);\n",
       "                }\n",
       "            </style>\n",
       "            "
      ],
      "text/plain": [
       "<IPython.core.display.HTML object>"
      ]
     },
     "metadata": {},
     "output_type": "display_data"
    },
    {
     "data": {
      "application/vnd.jupyter.widget-view+json": {
       "model_id": "16e2f683093b4465956c8db3d0c3df9f",
       "version_major": 2,
       "version_minor": 0
      },
      "text/plain": [
       "Map(center=[-29.84221164110139, -62.99273743052969], controls=(WidgetControl(options=['position', 'transparent…"
      ]
     },
     "execution_count": 3,
     "metadata": {},
     "output_type": "execute_result"
    }
   ],
   "source": [
    "map"
   ]
  },
  {
   "cell_type": "code",
   "execution_count": null,
   "metadata": {},
   "outputs": [],
   "source": []
  }
 ],
 "metadata": {
  "kernelspec": {
   "display_name": "venv",
   "language": "python",
   "name": "python3"
  },
  "language_info": {
   "codemirror_mode": {
    "name": "ipython",
    "version": 3
   },
   "file_extension": ".py",
   "mimetype": "text/x-python",
   "name": "python",
   "nbconvert_exporter": "python",
   "pygments_lexer": "ipython3",
   "version": "3.11.8"
  }
 },
 "nbformat": 4,
 "nbformat_minor": 2
}
